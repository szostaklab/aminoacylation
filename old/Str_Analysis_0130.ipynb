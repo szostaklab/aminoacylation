{
 "cells": [
  {
   "cell_type": "code",
   "execution_count": 1,
   "id": "de53531c",
   "metadata": {},
   "outputs": [
    {
     "name": "stdout",
     "output_type": "stream",
     "text": [
      "Requirement already satisfied: mechanize in /Users/zoeweiss/opt/anaconda3/lib/python3.8/site-packages (0.4.7)\n",
      "Requirement already satisfied: html5lib>=0.999999999 in /Users/zoeweiss/opt/anaconda3/lib/python3.8/site-packages (from mechanize) (1.1)\n",
      "Requirement already satisfied: webencodings in /Users/zoeweiss/opt/anaconda3/lib/python3.8/site-packages (from html5lib>=0.999999999->mechanize) (0.5.1)\n",
      "Requirement already satisfied: six>=1.9 in /Users/zoeweiss/opt/anaconda3/lib/python3.8/site-packages (from html5lib>=0.999999999->mechanize) (1.15.0)\n",
      "Requirement already satisfied: Bio in /Users/zoeweiss/opt/anaconda3/lib/python3.8/site-packages (1.3.2)\n",
      "Requirement already satisfied: tqdm in /Users/zoeweiss/opt/anaconda3/lib/python3.8/site-packages (from Bio) (4.59.0)\n",
      "Requirement already satisfied: biopython>=1.79 in /Users/zoeweiss/opt/anaconda3/lib/python3.8/site-packages (from Bio) (1.79)\n",
      "Requirement already satisfied: mygene in /Users/zoeweiss/opt/anaconda3/lib/python3.8/site-packages (from Bio) (3.2.2)\n",
      "Requirement already satisfied: requests in /Users/zoeweiss/opt/anaconda3/lib/python3.8/site-packages (from Bio) (2.25.1)\n",
      "Requirement already satisfied: numpy in /Users/zoeweiss/opt/anaconda3/lib/python3.8/site-packages (from biopython>=1.79->Bio) (1.20.1)\n",
      "Requirement already satisfied: biothings-client>=0.2.6 in /Users/zoeweiss/opt/anaconda3/lib/python3.8/site-packages (from mygene->Bio) (0.2.6)\n",
      "Requirement already satisfied: urllib3<1.27,>=1.21.1 in /Users/zoeweiss/opt/anaconda3/lib/python3.8/site-packages (from requests->Bio) (1.26.4)\n",
      "Requirement already satisfied: certifi>=2017.4.17 in /Users/zoeweiss/opt/anaconda3/lib/python3.8/site-packages (from requests->Bio) (2020.12.5)\n",
      "Requirement already satisfied: chardet<5,>=3.0.2 in /Users/zoeweiss/opt/anaconda3/lib/python3.8/site-packages (from requests->Bio) (4.0.0)\n",
      "Requirement already satisfied: idna<3,>=2.5 in /Users/zoeweiss/opt/anaconda3/lib/python3.8/site-packages (from requests->Bio) (2.10)\n"
     ]
    }
   ],
   "source": [
    "#IMPORTS\n",
    "#Install+Import Packages\n",
    "!pip install mechanize\n",
    "import random\n",
    "import re\n",
    "import mechanize\n",
    "import numpy as np\n",
    "from random import *\n",
    "import matplotlib.pyplot as plt\n",
    "!pip install Bio\n",
    "from Bio import SeqIO\n",
    "from Bio.Seq import Seq\n",
    "from collections import Counter \n",
    "from Bio.Cluster import kcluster\n",
    "import statistics\n",
    "import matplotlib.pyplot as plt\n",
    "from sklearn.cluster import KMeans\n",
    "from sklearn.metrics import silhouette_score\n",
    "from sklearn.preprocessing import StandardScaler\n",
    "import difflib\n",
    "import seaborn as sns; sns.set_theme()\n",
    "from collections import defaultdict\n",
    "import collections\n",
    "from mpl_toolkits.mplot3d import Axes3D\n",
    "from pylab import *\n",
    "from collections import OrderedDict\n",
    "import matplotlib.pyplot as plt\n",
    "#!pip install ipython-autotime"
   ]
  },
  {
   "cell_type": "code",
   "execution_count": 2,
   "id": "0f822018",
   "metadata": {},
   "outputs": [],
   "source": [
    "#Upload Data and Define Parameters\n",
    "\n",
    "file_type = '.fastq'\n",
    "\n",
    "aa_sequences = open('/Users/zoeweiss/Desktop/Desktop/lab(s)/szostak/spring 2022/aminoacylation/Str_S1_L001_R2_001.fastq').readlines()\n",
    "rna_only_sequences = open('/Users/zoeweiss/Desktop/Desktop/lab(s)/szostak/spring 2022/aminoacylation/Str-NaOH_S2_L001_R2_001.fastq').readlines()\n",
    "\n",
    "#Take the reverse complement? Enter 'yes' or 'no'\n",
    "rc = 'yes'\n",
    "\n",
    "#Quality Cutoff - what fraction of positions should have <1% error probability?\n",
    "quality_cutoff = 0.9\n",
    "\n",
    "\n",
    "#Position motif1 starts at\n",
    "motif_start = 1\n",
    "#Motif1 define\n",
    "motif = 'AAA'\n",
    "#Position motif2 starts at\n",
    "motif2_start = 23\n",
    "#Motif2 define\n",
    "motif2_rev = 'TTTGATCGTCGGACTGTAGAACTCTGAAC'\n",
    "\n"
   ]
  },
  {
   "cell_type": "code",
   "execution_count": null,
   "id": "8c9fa11e",
   "metadata": {},
   "outputs": [],
   "source": []
  },
  {
   "cell_type": "code",
   "execution_count": 3,
   "id": "ec0fe1cd",
   "metadata": {},
   "outputs": [],
   "source": [
    "def preprocess_seqs(list_of_seqs):\n",
    "\n",
    "    if file_type == '.fastq':\n",
    "        seqs = list_of_seqs[1::4]\n",
    "        qualities = list_of_seqs[3::4]\n",
    "        print('Total seqs: '+str(len(seqs)))\n",
    "\n",
    "        #Filter by quality\n",
    "        high_quality = []\n",
    "        acceptable_quals_1_percent_error = [5,6,7,8,9,':',';', '<', '=', '>', '?', '@', 'A', 'B', 'C', 'D', 'E', 'F', 'G', 'H', 'I', 'J', 'K']\n",
    "        for seq in range(len(qualities)):\n",
    "            overlap=0\n",
    "            for char in list(set(qualities[seq]).intersection(acceptable_quals_1_percent_error)):\n",
    "                overlap+=qualities[seq].count(char)\n",
    "            if overlap/len(qualities[1])>quality_cutoff:\n",
    "                high_quality.append(seqs[seq].strip(\"\\n\"))\n",
    "        print('High quality seqs: '+str(len(high_quality)))\n",
    "    \n",
    "    if file_type == '.fasta':\n",
    "        high_quality = list_of_seqs[1::2]\n",
    "        print('Total seqs: '+str(len(high_quality)))\n",
    "    \n",
    "    #Trim to keep only seqs with constant region\n",
    "    trimmed = []\n",
    "    for seq in high_quality:\n",
    "        if motif2_rev in seq:\n",
    "            if len(seq[seq.index(motif2_rev)-40:seq.index(motif2_rev)])>0:\n",
    "                trimmed.append(seq[seq.index(motif2_rev)-40:seq.index(motif2_rev)])\n",
    "                \n",
    "    print('Seqs after trimming: '+str(len(trimmed))) \n",
    "    \n",
    "    #Take RC if desired\n",
    "    pre_trim = []\n",
    "    if rc == 'yes':\n",
    "        rc_seqs = []\n",
    "        for sequence in trimmed:\n",
    "            rc_seqs.append(str(Seq(sequence).reverse_complement()).strip('\\n'))\n",
    "        pre_trim = rc_seqs\n",
    "    else:\n",
    "        for sequence in trimmed:\n",
    "            pre_trim.append(str(Seq(sequence)).strip('\\n'))\n",
    "    if rc == 'yes':\n",
    "        print('Reverse Comp = '+str(rc)) \n",
    "    \n",
    "    #All processed seqs\n",
    "    processed_seqs = pre_trim\n",
    "    #Unique seqs\n",
    "    processed_seqs_unique = list(set(pre_trim))\n",
    "    \n",
    "    return processed_seqs, processed_seqs_unique\n",
    "    \n",
    "\n",
    "#Function to get secondary structure on RNA Fold\n",
    "def get_energy_ss(seq):\n",
    "  url = \"http://rna.tbi.univie.ac.at//cgi-bin/RNAWebSuite/RNAfold.cgi\"\n",
    "  br = mechanize.Browser()\n",
    "  br.set_handle_robots(False) # ignore robots\n",
    "  br.open(url)\n",
    "  br.select_form(name=\"form\")\n",
    "  br[\"SCREEN\"] = seq\n",
    "  res = br.submit()\n",
    "  content = res.read()\n",
    "  energy = int(re.sub(\"[^0-9]\", \"\", str(content).split('thermodynamic ensemble is')[1].split('kcal/mol')[0]))\n",
    "  structure = str(content).split('STRUCTURE=')[1].split('target')[0].split('\"')[0]\n",
    "  return energy, structure\n",
    "\n"
   ]
  },
  {
   "cell_type": "code",
   "execution_count": 4,
   "id": "3f3d19da",
   "metadata": {},
   "outputs": [
    {
     "name": "stdout",
     "output_type": "stream",
     "text": [
      "Total seqs: 3006527\n",
      "High quality seqs: 2833045\n",
      "Seqs after trimming: 1836981\n",
      "Reverse Comp = yes\n",
      "[('ACGGGTCGATTTATAGGGTAATGGGAGCGATCGATGCGTG', 2), ('TGTTACTATTTGTTTCAGCTGAGGGTAGTATCGCAGGTTA', 2), ('GTAGCATGAACAGGTGTAGGCTGCGCATCTGTGGTATGCA', 2), ('GGAGTAGGTAACAGTTGGCATAAGATTGAGGTCGGTGGTG', 2), ('GCCGGCGGTTTTATTAATCTTTGTTATGCTGCAATAGGGG', 2), ('CAGCGATCATGGTTGACATGGAGGACATGGTAGGTAGTAG', 2), ('GTTTTTTTCACCAGGATGACAGCGCGCGGGGAGCATGGAC', 2), ('AGGAGTTACATGGCGATAAGGTATGTAACATTTTTTGTAG', 2), ('GTTAGCCGCCTATATATAGGGAGAGGCAAGCGCCAGTGAA', 2), ('TGTGTTGGTTATACCAAAGCAGAAGTGCATTTGAGATTGG', 2)]\n"
     ]
    }
   ],
   "source": [
    "#AA CONTROL\n",
    "#STATISTICS (note: this takes a few mins per round)\n",
    "aa_ctrl_processed_seqs, aa_ctrl_processed_seqs_unique = preprocess_seqs(aa_sequences)\n",
    "aa_ctrl_top_seqs = Counter(aa_ctrl_processed_seqs).most_common(100)\n",
    "print(aa_ctrl_top_seqs[:10])"
   ]
  },
  {
   "cell_type": "code",
   "execution_count": 5,
   "id": "906c5bcf",
   "metadata": {},
   "outputs": [
    {
     "name": "stdout",
     "output_type": "stream",
     "text": [
      "Total seqs: 3449734\n",
      "High quality seqs: 3166298\n",
      "Seqs after trimming: 1315976\n",
      "Reverse Comp = yes\n",
      "[('AGTGAGCCAGATAAGCCCCGCTGTTGGAGGGTGTAATATA', 2), ('TAGGGAAAGTACAACTGCACTGAGCTGGTTGGGATTAGGG', 2), ('TACAGTGGCGATTCTGCGCACTGGGGCGTTGGCTGGCTAA', 2), ('GGGGGCAAGAAGTTTGGTCGGATTGTAGGCGGAGACGTTC', 2), ('GGCATCTCAATAAAGTACTTACCGTGGGCGACAGCGGGCA', 2), ('AGAGGCGATCGGAGGGTCACTTTGTAAGTCGCGTGGGGGG', 2), ('CTTTGTTTCGATGATGATGCGTATGGTTTATCATAAGGGC', 2), ('AATGGGGTATGCGTATATCATTAGAGGGTAGGCATTGAGG', 2), ('TGAGCAATTTGGGGGAAGAGATTATATACTTATTGAGAAA', 2), ('AGGGCAGGGTCGTGCCAATGGGTGGTCCGGGCGGAATAGC', 2)]\n"
     ]
    }
   ],
   "source": [
    "#RNA CONTROL\n",
    "#STATISTICS (note: this takes a few mins per round)\n",
    "rna_ctrl_processed_seqs, rna_ctrl_processed_seqs_unique = preprocess_seqs(rna_only_sequences)\n",
    "rna_ctrl_top_seqs = Counter(rna_ctrl_processed_seqs).most_common(100)\n",
    "print(rna_ctrl_top_seqs[:10])\n",
    "\n"
   ]
  },
  {
   "cell_type": "code",
   "execution_count": 6,
   "id": "8d19a5cc",
   "metadata": {},
   "outputs": [
    {
     "name": "stdout",
     "output_type": "stream",
     "text": [
      "Seqs in AA but not RNA: 1836981\n",
      "[('ACGGGTCGATTTATAGGGTAATGGGAGCGATCGATGCGTG', 2), ('TGTTACTATTTGTTTCAGCTGAGGGTAGTATCGCAGGTTA', 2), ('GTAGCATGAACAGGTGTAGGCTGCGCATCTGTGGTATGCA', 2), ('GGAGTAGGTAACAGTTGGCATAAGATTGAGGTCGGTGGTG', 2), ('GCCGGCGGTTTTATTAATCTTTGTTATGCTGCAATAGGGG', 2), ('CAGCGATCATGGTTGACATGGAGGACATGGTAGGTAGTAG', 2), ('GTTTTTTTCACCAGGATGACAGCGCGCGGGGAGCATGGAC', 2), ('AGGAGTTACATGGCGATAAGGTATGTAACATTTTTTGTAG', 2), ('GTTAGCCGCCTATATATAGGGAGAGGCAAGCGCCAGTGAA', 2), ('TGTGTTGGTTATACCAAAGCAGAAGTGCATTTGAGATTGG', 2)]\n"
     ]
    }
   ],
   "source": [
    "#AA NOT RNA \n",
    "#STATISTICS (note: this takes a few mins per round)\n",
    "\n",
    "aa_rna_overlap = list(set(aa_ctrl_processed_seqs) & set(rna_ctrl_processed_seqs))\n",
    "\n",
    "aa_not_rna_seqs = aa_ctrl_processed_seqs\n",
    "counter = 0\n",
    "for seq in range(len(aa_rna_overlap)):\n",
    "    counter+=1\n",
    "    if counter%100==0:\n",
    "        print(str(counter)+'/'+str(len(aa_rna_overlap)))\n",
    "        \n",
    "    aa_not_rna_seqs.remove(aa_rna_overlap[seq])\n",
    "\n",
    "print('Seqs in AA but not RNA: '+str(round(len(aa_not_rna_seqs))))\n",
    "\n",
    "aa_not_rna_top_seqs = Counter(aa_not_rna_seqs).most_common(100)\n",
    "print(aa_not_rna_top_seqs[:10])\n"
   ]
  },
  {
   "cell_type": "code",
   "execution_count": 7,
   "id": "4d53416b",
   "metadata": {},
   "outputs": [
    {
     "name": "stdout",
     "output_type": "stream",
     "text": [
      "0\n",
      "2\n",
      "4\n",
      "6\n",
      "8\n",
      "10\n",
      "12\n",
      "14\n",
      "16\n",
      "18\n",
      "20\n",
      "22\n",
      "24\n",
      "26\n",
      "28\n",
      "30\n",
      "32\n",
      "34\n",
      "36\n",
      "38\n",
      "40\n",
      "42\n",
      "44\n",
      "46\n",
      "48\n",
      "50\n",
      "52\n",
      "54\n",
      "56\n",
      "58\n",
      "60\n",
      "62\n",
      "64\n",
      "66\n",
      "68\n",
      "70\n",
      "72\n",
      "74\n",
      "76\n",
      "78\n",
      "80\n",
      "82\n",
      "84\n",
      "86\n",
      "88\n",
      "90\n",
      "92\n",
      "94\n",
      "96\n",
      "98\n"
     ]
    },
    {
     "ename": "httperror_seek_wrapper",
     "evalue": "HTTP Error refresh: The HTTP server returned a redirect error that would lead to an infinite loop.\nThe last 30x error message was:\nOK",
     "output_type": "error",
     "traceback": [
      "\u001b[0;31m---------------------------------------------------------------------------\u001b[0m",
      "\u001b[0;31mhttperror_seek_wrapper\u001b[0m                    Traceback (most recent call last)",
      "\u001b[0;32m<ipython-input-7-fde73e5c2570>\u001b[0m in \u001b[0;36m<module>\u001b[0;34m\u001b[0m\n\u001b[1;32m      4\u001b[0m   \u001b[0;32mif\u001b[0m \u001b[0maa_not_rna_top_seqs\u001b[0m\u001b[0;34m.\u001b[0m\u001b[0mindex\u001b[0m\u001b[0;34m(\u001b[0m\u001b[0mseq\u001b[0m\u001b[0;34m)\u001b[0m\u001b[0;34m%\u001b[0m\u001b[0;36m2\u001b[0m\u001b[0;34m==\u001b[0m\u001b[0;36m0\u001b[0m\u001b[0;34m:\u001b[0m\u001b[0;34m\u001b[0m\u001b[0;34m\u001b[0m\u001b[0m\n\u001b[1;32m      5\u001b[0m     \u001b[0mprint\u001b[0m\u001b[0;34m(\u001b[0m\u001b[0maa_not_rna_top_seqs\u001b[0m\u001b[0;34m.\u001b[0m\u001b[0mindex\u001b[0m\u001b[0;34m(\u001b[0m\u001b[0mseq\u001b[0m\u001b[0;34m)\u001b[0m\u001b[0;34m)\u001b[0m\u001b[0;34m\u001b[0m\u001b[0;34m\u001b[0m\u001b[0m\n\u001b[0;32m----> 6\u001b[0;31m   \u001b[0mss_of_top_seqs\u001b[0m\u001b[0;34m.\u001b[0m\u001b[0mappend\u001b[0m\u001b[0;34m(\u001b[0m\u001b[0mget_energy_ss\u001b[0m\u001b[0;34m(\u001b[0m\u001b[0mseq\u001b[0m\u001b[0;34m[\u001b[0m\u001b[0;36m0\u001b[0m\u001b[0;34m]\u001b[0m\u001b[0;34m)\u001b[0m\u001b[0;34m[\u001b[0m\u001b[0;36m1\u001b[0m\u001b[0;34m]\u001b[0m\u001b[0;34m)\u001b[0m\u001b[0;34m\u001b[0m\u001b[0;34m\u001b[0m\u001b[0m\n\u001b[0m",
      "\u001b[0;32m<ipython-input-3-afcd5d5a80b7>\u001b[0m in \u001b[0;36mget_energy_ss\u001b[0;34m(seq)\u001b[0m\n\u001b[1;32m     59\u001b[0m   \u001b[0mbr\u001b[0m\u001b[0;34m.\u001b[0m\u001b[0mselect_form\u001b[0m\u001b[0;34m(\u001b[0m\u001b[0mname\u001b[0m\u001b[0;34m=\u001b[0m\u001b[0;34m\"form\"\u001b[0m\u001b[0;34m)\u001b[0m\u001b[0;34m\u001b[0m\u001b[0;34m\u001b[0m\u001b[0m\n\u001b[1;32m     60\u001b[0m   \u001b[0mbr\u001b[0m\u001b[0;34m[\u001b[0m\u001b[0;34m\"SCREEN\"\u001b[0m\u001b[0;34m]\u001b[0m \u001b[0;34m=\u001b[0m \u001b[0mseq\u001b[0m\u001b[0;34m\u001b[0m\u001b[0;34m\u001b[0m\u001b[0m\n\u001b[0;32m---> 61\u001b[0;31m   \u001b[0mres\u001b[0m \u001b[0;34m=\u001b[0m \u001b[0mbr\u001b[0m\u001b[0;34m.\u001b[0m\u001b[0msubmit\u001b[0m\u001b[0;34m(\u001b[0m\u001b[0;34m)\u001b[0m\u001b[0;34m\u001b[0m\u001b[0;34m\u001b[0m\u001b[0m\n\u001b[0m\u001b[1;32m     62\u001b[0m   \u001b[0mcontent\u001b[0m \u001b[0;34m=\u001b[0m \u001b[0mres\u001b[0m\u001b[0;34m.\u001b[0m\u001b[0mread\u001b[0m\u001b[0;34m(\u001b[0m\u001b[0;34m)\u001b[0m\u001b[0;34m\u001b[0m\u001b[0;34m\u001b[0m\u001b[0m\n\u001b[1;32m     63\u001b[0m   \u001b[0menergy\u001b[0m \u001b[0;34m=\u001b[0m \u001b[0mint\u001b[0m\u001b[0;34m(\u001b[0m\u001b[0mre\u001b[0m\u001b[0;34m.\u001b[0m\u001b[0msub\u001b[0m\u001b[0;34m(\u001b[0m\u001b[0;34m\"[^0-9]\"\u001b[0m\u001b[0;34m,\u001b[0m \u001b[0;34m\"\"\u001b[0m\u001b[0;34m,\u001b[0m \u001b[0mstr\u001b[0m\u001b[0;34m(\u001b[0m\u001b[0mcontent\u001b[0m\u001b[0;34m)\u001b[0m\u001b[0;34m.\u001b[0m\u001b[0msplit\u001b[0m\u001b[0;34m(\u001b[0m\u001b[0;34m'thermodynamic ensemble is'\u001b[0m\u001b[0;34m)\u001b[0m\u001b[0;34m[\u001b[0m\u001b[0;36m1\u001b[0m\u001b[0;34m]\u001b[0m\u001b[0;34m.\u001b[0m\u001b[0msplit\u001b[0m\u001b[0;34m(\u001b[0m\u001b[0;34m'kcal/mol'\u001b[0m\u001b[0;34m)\u001b[0m\u001b[0;34m[\u001b[0m\u001b[0;36m0\u001b[0m\u001b[0;34m]\u001b[0m\u001b[0;34m)\u001b[0m\u001b[0;34m)\u001b[0m\u001b[0;34m\u001b[0m\u001b[0;34m\u001b[0m\u001b[0m\n",
      "\u001b[0;32m~/opt/anaconda3/lib/python3.8/site-packages/mechanize/_mechanize.py\u001b[0m in \u001b[0;36msubmit\u001b[0;34m(self, *args, **kwds)\u001b[0m\n\u001b[1;32m    695\u001b[0m         \u001b[0mReturn\u001b[0m \u001b[0mvalue\u001b[0m \u001b[0;32mis\u001b[0m \u001b[0msame\u001b[0m \u001b[0;32mas\u001b[0m \u001b[0;32mfor\u001b[0m \u001b[0;34m:\u001b[0m\u001b[0mmeth\u001b[0m\u001b[0;34m:\u001b[0m\u001b[0;31m`\u001b[0m\u001b[0mopen\u001b[0m\u001b[0;34m(\u001b[0m\u001b[0;34m)\u001b[0m\u001b[0;31m`\u001b[0m\u001b[0;34m.\u001b[0m\u001b[0;34m\u001b[0m\u001b[0;34m\u001b[0m\u001b[0m\n\u001b[1;32m    696\u001b[0m         \"\"\"\n\u001b[0;32m--> 697\u001b[0;31m         \u001b[0;32mreturn\u001b[0m \u001b[0mself\u001b[0m\u001b[0;34m.\u001b[0m\u001b[0mopen\u001b[0m\u001b[0;34m(\u001b[0m\u001b[0mself\u001b[0m\u001b[0;34m.\u001b[0m\u001b[0mclick\u001b[0m\u001b[0;34m(\u001b[0m\u001b[0;34m*\u001b[0m\u001b[0margs\u001b[0m\u001b[0;34m,\u001b[0m \u001b[0;34m**\u001b[0m\u001b[0mkwds\u001b[0m\u001b[0;34m)\u001b[0m\u001b[0;34m)\u001b[0m\u001b[0;34m\u001b[0m\u001b[0;34m\u001b[0m\u001b[0m\n\u001b[0m\u001b[1;32m    698\u001b[0m \u001b[0;34m\u001b[0m\u001b[0m\n\u001b[1;32m    699\u001b[0m     \u001b[0;32mdef\u001b[0m \u001b[0mclick_link\u001b[0m\u001b[0;34m(\u001b[0m\u001b[0mself\u001b[0m\u001b[0;34m,\u001b[0m \u001b[0mlink\u001b[0m\u001b[0;34m=\u001b[0m\u001b[0;32mNone\u001b[0m\u001b[0;34m,\u001b[0m \u001b[0;34m**\u001b[0m\u001b[0mkwds\u001b[0m\u001b[0;34m)\u001b[0m\u001b[0;34m:\u001b[0m\u001b[0;34m\u001b[0m\u001b[0;34m\u001b[0m\u001b[0m\n",
      "\u001b[0;32m~/opt/anaconda3/lib/python3.8/site-packages/mechanize/_mechanize.py\u001b[0m in \u001b[0;36mopen\u001b[0;34m(self, url_or_request, data, timeout)\u001b[0m\n\u001b[1;32m    255\u001b[0m         \u001b[0;34m:\u001b[0m\u001b[0;32mreturn\u001b[0m\u001b[0;34m:\u001b[0m \u001b[0mA\u001b[0m \u001b[0;34m:\u001b[0m\u001b[0;32mclass\u001b[0m\u001b[0;34m:\u001b[0m\u001b[0;31m`\u001b[0m\u001b[0mmechanize\u001b[0m\u001b[0;34m.\u001b[0m\u001b[0mResponse\u001b[0m\u001b[0;31m`\u001b[0m \u001b[0mobject\u001b[0m\u001b[0;34m\u001b[0m\u001b[0;34m\u001b[0m\u001b[0m\n\u001b[1;32m    256\u001b[0m         '''\n\u001b[0;32m--> 257\u001b[0;31m         \u001b[0;32mreturn\u001b[0m \u001b[0mself\u001b[0m\u001b[0;34m.\u001b[0m\u001b[0m_mech_open\u001b[0m\u001b[0;34m(\u001b[0m\u001b[0murl_or_request\u001b[0m\u001b[0;34m,\u001b[0m \u001b[0mdata\u001b[0m\u001b[0;34m,\u001b[0m \u001b[0mtimeout\u001b[0m\u001b[0;34m=\u001b[0m\u001b[0mtimeout\u001b[0m\u001b[0;34m)\u001b[0m\u001b[0;34m\u001b[0m\u001b[0;34m\u001b[0m\u001b[0m\n\u001b[0m\u001b[1;32m    258\u001b[0m \u001b[0;34m\u001b[0m\u001b[0m\n\u001b[1;32m    259\u001b[0m     def _mech_open(self,\n",
      "\u001b[0;32m~/opt/anaconda3/lib/python3.8/site-packages/mechanize/_mechanize.py\u001b[0m in \u001b[0;36m_mech_open\u001b[0;34m(self, url, data, update_history, visit, timeout)\u001b[0m\n\u001b[1;32m    311\u001b[0m \u001b[0;34m\u001b[0m\u001b[0m\n\u001b[1;32m    312\u001b[0m         \u001b[0;32mif\u001b[0m \u001b[0;32mnot\u001b[0m \u001b[0msuccess\u001b[0m\u001b[0;34m:\u001b[0m\u001b[0;34m\u001b[0m\u001b[0;34m\u001b[0m\u001b[0m\n\u001b[0;32m--> 313\u001b[0;31m             \u001b[0;32mraise\u001b[0m \u001b[0mresponse\u001b[0m\u001b[0;34m\u001b[0m\u001b[0;34m\u001b[0m\u001b[0m\n\u001b[0m\u001b[1;32m    314\u001b[0m         \u001b[0;32mreturn\u001b[0m \u001b[0mresponse\u001b[0m\u001b[0;34m\u001b[0m\u001b[0;34m\u001b[0m\u001b[0m\n\u001b[1;32m    315\u001b[0m \u001b[0;34m\u001b[0m\u001b[0m\n",
      "\u001b[0;31mhttperror_seek_wrapper\u001b[0m: HTTP Error refresh: The HTTP server returned a redirect error that would lead to an infinite loop.\nThe last 30x error message was:\nOK"
     ]
    }
   ],
   "source": [
    "#Get the SS of the top sequences\n",
    "ss_of_top_seqs=[]\n",
    "for seq in aa_not_rna_top_seqs[:100]:\n",
    "  if aa_not_rna_top_seqs.index(seq)%2==0:\n",
    "    print(aa_not_rna_top_seqs.index(seq))\n",
    "  ss_of_top_seqs.append(get_energy_ss(seq[0])[1])"
   ]
  },
  {
   "cell_type": "code",
   "execution_count": 18,
   "id": "bed3db37",
   "metadata": {},
   "outputs": [
    {
     "name": "stdout",
     "output_type": "stream",
     "text": [
      "['(((.(((((((.................))))))).))).', '(((((((((((.(((......))).))).))).)))))..', '...(((((((((...((.....))...)))...)))))).', '.((((((((((.((.((....)).)).))...))))))))', '....(((((...........(((........)))))))).', '.((((((((((......((...))......))))))))))', '.((((((((.((..(((.....))))).))))))))....', '.....((((.((..((..........))..)).))))...']\n",
      "['(((((((((((...........))))))))..))).....', '(((((((((((((........))))))).)))))).....', '.((((((((.((.........)))))))))).........', '..(((((.((...........)).)))))...........', '(((((((((((.........))))))))))).........']\n",
      "['...(((((.((((((((.......))))))))..))))).', '..((((((((.((((((.....)))))).))))))))...', '.((((((((.(((((((.....))))))).))))))))..', '(((((...((.(((((((....))))))))).)))))...', '..(((((.((.((((.((....)))))).)).)))))...', '....(((((..(((((((....)))))))....)))))..', '...((((.(((.((((((....)))))).))).))))...', '...(((......(((((......))))).....)))....', '..(((((((.((((((((....)))))))).)))..))))', '....(((..((((((((((....)))).)))))).)))..', '...(((((..(((((((((......)))))))))))))).', '..(((((...((((((((...))))))))...)))))...']\n",
      "['..........((..(((((...........)))))..)).', '.........((((((((((........))))))))))...', '.............((((.((.....)).))))........', '.............(((.((......)).))).........', '......(((...((((((((.....))))).)))...)))', '.........((.(((((((....))))))).)).......']\n",
      "['....(((((...((........))...)))))........', '....(((((((.((......)))))))))...........', '....(((((((.((......)).)))))))..........', '...((((..(((((......)))))..)))).........', '.........(((((............))))).........', '...((((((.(((........))).)))))).........', '..((((...)))).......((((((......))))))..']\n",
      "['((((.......)))).((((.....))))...........', '(((.....(((((..((((.....)))))))))...))).', '((((((..((((...))))....))))))...........']\n",
      "['(((.((((....)))).)))..((.((.....)).))...', '(((.(((......))))))..((((.......))))....']\n",
      "['(((.(((.(((.......)))...))).))).........', '.(((((....)))))..((((.....))))..........', '(((((.((.((((.....)))).)))))))..........', '(((((....)))))...(((((..........)))))...']\n",
      "['(((.(((((...))))).)))...................', '.((((((((.........))))))))..............', '((((((.(((........))))))))).............', '((((((((((....))))).)))))...............', '((((((((.....)))..))))).................', '(((((...........)))))...................']\n",
      "['.....(((..((((((....))))))...)))........', '....((..(((.(((........))).))).)).......', '........(((.((......)).)))..............', '.....((..((((((....))).)))..))..........', '......((((((((((....))))))))))..........', '.......((((((((.....)))))....)))........']\n",
      "['......(((((..((((......))))..)))))......', '....(((((((...)))))))..((((.....))))....', '......((((...((((.((........)).)))))))).', '.......(((((((.((((.....)))).)))))))....', '.......((((((((((.((.....)).))).))))))).', '......((((((..((((........)))).))))))...']\n",
      "['..(((((((...))))))).....................', '..(((((.......(((((((......)))))))))))).', '....((((((...((((((....))))))....)).))))']\n",
      "['.((...((.((((((((.....)))))))).))...))..', '.(((....(((.(((((....))))))))....)))....', '.(((..(((.(((((((.....)))))))..)))..))).', '.(((((.....((((((...))))))...)))))......', '.((((((((..((((.....))))..))))))))......', '..(((.((.((((((((...)))))))).)))))......']\n",
      "['............((((...((......))..)))).....', '...........(((((..(((.....)))..)))))....', '.(((....)))((((..((((.....))))..))))....']\n",
      "['........(((((((...((....))..))))))).....', '...((.((((((((((.......)))))))))))).....', '...((((((.(((((.............))))))))))).', '...((((((..((((.......)))).)))))).......']\n",
      "['(((.(((((((((((..........)))))))))))))).', '((..((.((((((((((...))))))))))..))..))..', '((..(((((((((((.((......))))))))))))))).']\n",
      "['(((...((((......))))...)))..............', '...((.(((((......)))))..))..............', '....(((((((((...))))).))))..............']\n",
      "['................(((((...........)))))...', '.................((((.(((...))))))).....', '..................(((((((.....)))))))...']\n",
      "['........................................', '.............(((((...(((......)))..)))))', '((((((.........................))))))...', '............((.((..............))..))...', '.........((((............)))).(((...))).', '......((((.....(((.........))).....)))).']\n",
      "['(((...((..(((..((.......))..)))..)))))..', '(((((....))))).((.......)).((((...))))..', '(((((.((((((.............))))))..)))))..']\n"
     ]
    },
    {
     "name": "stderr",
     "output_type": "stream",
     "text": [
      "<ipython-input-18-429886209a86>:3: DeprecationWarning: The binary mode of fromstring is deprecated, as it behaves surprisingly on unicode inputs. Use frombuffer instead\n",
      "  matrix = np.asarray([np.fromstring(str(s), dtype=np.uint8) for s in ss_of_top_seqs]);\n"
     ]
    }
   ],
   "source": [
    "#Cluster by secondary structure\n",
    "k = 20\n",
    "matrix = np.asarray([np.fromstring(str(s), dtype=np.uint8) for s in ss_of_top_seqs]);\n",
    "kmeans = KMeans(init=\"random\", n_clusters=k,n_init=10,max_iter=300,random_state=42)\n",
    "kmeans.fit(matrix)\n",
    "labels = kmeans.labels_[:]\n",
    "\n",
    "all_clusters = []\n",
    "for cluster_num in range(0, k):\n",
    "  seqs_in_cluster = []\n",
    "  for seq in range(len(labels)):\n",
    "    if labels[seq] == cluster_num:\n",
    "      seqs_in_cluster.append(ss_of_top_seqs[seq])\n",
    "  all_clusters.append(seqs_in_cluster)\n",
    "\n",
    "labels\n",
    "\n",
    "order_of_clusters = []\n",
    "for rank in labels:\n",
    "    if rank not in order_of_clusters:\n",
    "        order_of_clusters.append(rank)\n",
    "\n",
    "for cluster_num in order_of_clusters:\n",
    "    print(all_clusters[cluster_num])\n",
    "        "
   ]
  },
  {
   "cell_type": "code",
   "execution_count": 15,
   "id": "6cfc6c2e",
   "metadata": {},
   "outputs": [],
   "source": []
  },
  {
   "cell_type": "code",
   "execution_count": 16,
   "id": "dd76bcb4",
   "metadata": {},
   "outputs": [
    {
     "data": {
      "text/plain": [
       "[10, 2, 4, 16, 9, 13, 1, 8, 12, 17, 18, 5, 11, 7, 19, 14, 3, 15, 0, 6]"
      ]
     },
     "execution_count": 16,
     "metadata": {},
     "output_type": "execute_result"
    }
   ],
   "source": []
  },
  {
   "cell_type": "code",
   "execution_count": null,
   "id": "b09efb9a",
   "metadata": {},
   "outputs": [],
   "source": []
  }
 ],
 "metadata": {
  "kernelspec": {
   "display_name": "Python 3",
   "language": "python",
   "name": "python3"
  },
  "language_info": {
   "codemirror_mode": {
    "name": "ipython",
    "version": 3
   },
   "file_extension": ".py",
   "mimetype": "text/x-python",
   "name": "python",
   "nbconvert_exporter": "python",
   "pygments_lexer": "ipython3",
   "version": "3.8.8"
  }
 },
 "nbformat": 4,
 "nbformat_minor": 5
}
