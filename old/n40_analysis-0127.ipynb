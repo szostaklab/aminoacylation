{
 "cells": [
  {
   "cell_type": "markdown",
   "metadata": {
    "colab_type": "text",
    "id": "view-in-github"
   },
   "source": [
    "<a href=\"https://colab.research.google.com/github/szostaklab/aminoacylation/blob/main/gly_structure_analysis.ipynb\" target=\"_parent\"><img src=\"https://colab.research.google.com/assets/colab-badge.svg\" alt=\"Open In Colab\"/></a>"
   ]
  },
  {
   "cell_type": "code",
   "execution_count": 115,
   "metadata": {
    "colab": {
     "base_uri": "https://localhost:8080/"
    },
    "id": "cgu6GfD4-5oF",
    "outputId": "840a751e-858a-4d48-967a-8b60c99c6fa2"
   },
   "outputs": [
    {
     "name": "stdout",
     "output_type": "stream",
     "text": [
      "Requirement already satisfied: mechanize in /Users/zoeweiss/opt/anaconda3/lib/python3.8/site-packages (0.4.7)\n",
      "Requirement already satisfied: html5lib>=0.999999999 in /Users/zoeweiss/opt/anaconda3/lib/python3.8/site-packages (from mechanize) (1.1)\n",
      "Requirement already satisfied: six>=1.9 in /Users/zoeweiss/opt/anaconda3/lib/python3.8/site-packages (from html5lib>=0.999999999->mechanize) (1.15.0)\n",
      "Requirement already satisfied: webencodings in /Users/zoeweiss/opt/anaconda3/lib/python3.8/site-packages (from html5lib>=0.999999999->mechanize) (0.5.1)\n",
      "Requirement already satisfied: Bio in /Users/zoeweiss/opt/anaconda3/lib/python3.8/site-packages (1.3.2)\n",
      "Requirement already satisfied: biopython>=1.79 in /Users/zoeweiss/opt/anaconda3/lib/python3.8/site-packages (from Bio) (1.79)\n",
      "Requirement already satisfied: mygene in /Users/zoeweiss/opt/anaconda3/lib/python3.8/site-packages (from Bio) (3.2.2)\n",
      "Requirement already satisfied: tqdm in /Users/zoeweiss/opt/anaconda3/lib/python3.8/site-packages (from Bio) (4.59.0)\n",
      "Requirement already satisfied: requests in /Users/zoeweiss/opt/anaconda3/lib/python3.8/site-packages (from Bio) (2.25.1)\n",
      "Requirement already satisfied: numpy in /Users/zoeweiss/opt/anaconda3/lib/python3.8/site-packages (from biopython>=1.79->Bio) (1.20.1)\n",
      "Requirement already satisfied: biothings-client>=0.2.6 in /Users/zoeweiss/opt/anaconda3/lib/python3.8/site-packages (from mygene->Bio) (0.2.6)\n",
      "Requirement already satisfied: urllib3<1.27,>=1.21.1 in /Users/zoeweiss/opt/anaconda3/lib/python3.8/site-packages (from requests->Bio) (1.26.4)\n",
      "Requirement already satisfied: certifi>=2017.4.17 in /Users/zoeweiss/opt/anaconda3/lib/python3.8/site-packages (from requests->Bio) (2020.12.5)\n",
      "Requirement already satisfied: idna<3,>=2.5 in /Users/zoeweiss/opt/anaconda3/lib/python3.8/site-packages (from requests->Bio) (2.10)\n",
      "Requirement already satisfied: chardet<5,>=3.0.2 in /Users/zoeweiss/opt/anaconda3/lib/python3.8/site-packages (from requests->Bio) (4.0.0)\n"
     ]
    }
   ],
   "source": [
    "#IMPORTS\n",
    "#Install+Import Packages\n",
    "!pip install mechanize\n",
    "import random\n",
    "import re\n",
    "import mechanize\n",
    "import numpy as np\n",
    "from random import *\n",
    "import matplotlib.pyplot as plt\n",
    "!pip install Bio\n",
    "from Bio import SeqIO\n",
    "from Bio.Seq import Seq\n",
    "from collections import Counter \n",
    "from Bio.Cluster import kcluster\n",
    "import statistics\n",
    "import matplotlib.pyplot as plt\n",
    "from sklearn.cluster import KMeans\n",
    "from sklearn.metrics import silhouette_score\n",
    "from sklearn.preprocessing import StandardScaler\n",
    "import difflib\n",
    "import seaborn as sns; sns.set_theme()\n",
    "from collections import defaultdict\n",
    "import collections\n",
    "from mpl_toolkits.mplot3d import Axes3D\n",
    "from pylab import *\n",
    "from collections import OrderedDict\n",
    "import matplotlib.pyplot as plt\n",
    "#!pip install ipython-autotime"
   ]
  },
  {
   "cell_type": "code",
   "execution_count": 116,
   "metadata": {
    "id": "om-uTJs6_shJ"
   },
   "outputs": [],
   "source": [
    "#Upload Data and Define Parameters\n",
    "aa_sequences = open('/Users/zoeweiss/Desktop/Desktop/lab(s)/szostak/spring 2022/aminoacylation/Str_S1_L001_R1_001.fastq').readlines()\n",
    "rna_only_sequences = open('/Users/zoeweiss/Desktop/Desktop/lab(s)/szostak/spring 2022/aminoacylation/Str-NaOH_S2_L001_R1_001.fastq').readlines()\n",
    "\n",
    "#Take the reverse complement? Enter 'yes' or 'no'\n",
    "rc = 'no'\n",
    "\n",
    "#Quality Cutoff - what fraction of positions should have <1% error probability?\n",
    "quality_cutoff = 0.9\n",
    "\n",
    "#Position motif1 starts at\n",
    "motif_start = 1\n",
    "#Motif1 define\n",
    "motif = 'AAA'\n",
    "#Position motif2 starts at\n",
    "motif2_start = 44\n",
    "#Motif2 define\n",
    "motif2 = 'AAAAGATCGGAAGAGCACACGTCT'"
   ]
  },
  {
   "cell_type": "code",
   "execution_count": 137,
   "metadata": {},
   "outputs": [],
   "source": [
    "def preprocess_seqs(list_of_seqs):\n",
    "    \n",
    "    quality = list_of_seqs[3::4]\n",
    "    seqs = list_of_seqs[1::4]\n",
    "\n",
    "    #Remove duplicates:\n",
    "    unique_seqs = []\n",
    "    unique_qualities = []\n",
    "    indicies_of_unique_seqs = list(np.unique(seqs, return_index=True)[1])\n",
    "    for index in sorted(np.unique(seqs, return_index = True)[1])[:-1]:\n",
    "      unique_qualities.append(quality[index])\n",
    "      unique_seqs.append(seqs[index])\n",
    "\n",
    "    #Take RC if desired\n",
    "    pre_trim = []\n",
    "    if rc == 'yes':\n",
    "      rc_seqs = []\n",
    "      for sequence in unique_seqs:\n",
    "          rc_seqs.append(str(Seq(sequence).reverse_complement()).strip('\\n'))\n",
    "      pre_trim = rc_seqs\n",
    "    else:\n",
    "      for sequence in unique_seqs:\n",
    "          pre_trim.append(str(Seq(sequence)).strip('\\n'))\n",
    "    if rc == 'yes':\n",
    "      print('Number of unique seqs after rc: '+str(len(pre_trim))) \n",
    "\n",
    "    #Trim\n",
    "    trimmed = []\n",
    "    for seq in pre_trim:\n",
    "      trimmed.append(seq[(motif_start-1)+len(motif):(motif2_start-1)])\n",
    "\n",
    "    print('Number of unique seqs after trimming: '+str(len(trimmed))) \n",
    "\n",
    "    #Counts of all seqs\n",
    "    seq_dict = Counter(trimmed)\n",
    "    seq_dict_list = [(k, v) for k, v in seq_dict.items()]\n",
    "    sorted_seq_dict = sorted(seq_dict_list, key = lambda x: x[1], reverse=True)\n",
    "    sorted_seq_dict_inve = sorted(seq_dict_list, key = lambda x: x[1])\n",
    "\n",
    "    #Filter by quality\n",
    "    high_quality = []\n",
    "    acceptable_quals_1_percent_error = [5,6,7,8,9,':',';', '<', '=', '>', '?', '@', 'A', 'B', 'C', 'D', 'E', 'F', 'G', 'H', 'I', 'J', 'K']\n",
    "    for seq in range(len(unique_qualities)):\n",
    "      overlap=0\n",
    "      for char in list(set(unique_qualities[seq]).intersection(acceptable_quals_1_percent_error)):\n",
    "            overlap+=unique_qualities[seq].count(char)\n",
    "      if overlap/len(unique_qualities[1])>quality_cutoff:\n",
    "            high_quality.append(trimmed[seq].strip(\"\\n\"))\n",
    "    print('Number of high quality seqs: '+str(len(high_quality))) \n",
    "    return sorted_seq_dict, high_quality, seqs\n",
    "\n",
    "\n",
    "#Function to get secondary structure on RNA Fold\n",
    "def get_energy_ss(seq):\n",
    "  url = \"http://rna.tbi.univie.ac.at//cgi-bin/RNAWebSuite/RNAfold.cgi\"\n",
    "  br = mechanize.Browser()\n",
    "  br.set_handle_robots(False) # ignore robots\n",
    "  br.open(url)\n",
    "  br.select_form(name=\"form\")\n",
    "  br[\"SCREEN\"] = seq\n",
    "  res = br.submit()\n",
    "  content = res.read()\n",
    "  energy = int(re.sub(\"[^0-9]\", \"\", str(content).split('thermodynamic ensemble is')[1].split('kcal/mol')[0]))\n",
    "  structure = str(content).split('STRUCTURE=')[1].split('target')[0].split('\"')[0]\n",
    "  return energy, structure\n",
    "\n",
    "#Top high quality seqs\n",
    "def get_top_seqs(num_to_analyze, num_to_print, ctrl_seqs, high_quality):\n",
    "    order_dict = {k: v for k, v in sorted(dict(collections.Counter(ctrl_seqs)).items(), key=lambda item: item[1])}\n",
    "    order_seqs = list(order_dict.keys())\n",
    "    order_seqs.reverse()\n",
    "    order_counts = list(order_dict.values())\n",
    "    order_counts.reverse()\n",
    "\n",
    "    top_seqs_high_qual = []\n",
    "    for seq in order_seqs[:num_to_analyze]:\n",
    "        for high_qual in high_quality:\n",
    "            if high_qual in seq:\n",
    "                top_seqs_high_qual.append(seq[seq.index(motif)+len(motif):seq.index(motif2)])\n",
    "                break\n",
    "    print('High Quality, Filtered Top Seqs:')\n",
    "    for i in range(num_to_print):\n",
    "        print(top_seqs_high_qual[i],order_counts[i])\n",
    "\n",
    "    return top_seqs\n"
   ]
  },
  {
   "cell_type": "code",
   "execution_count": 136,
   "metadata": {},
   "outputs": [
    {
     "name": "stdout",
     "output_type": "stream",
     "text": [
      "Number of seqs in AA: 3006527\n",
      "Number of seqs with correct constant region: 1532378\n",
      "Number of unique seqs after trimming: 1531729\n",
      "Number of high quality seqs: 1503462\n",
      "High Quality, Filtered Top Seqs:\n",
      "TTAGTGAAGGATTTGGCGATCGTTATTACAAAGTAGAGGG 2\n",
      "CGGCAGTGCGTAGCGGTGGAATGGGGGAGTGGATGGTGGG 2\n",
      "GCGGTGCAACCAATGGGCTGTTGTGATTGGTGGTAAGTGG 2\n",
      "CGCTATGTCTGCTGGATTCGGTAGGATAAACGGGTGTAGA 2\n",
      "ATATGTTTCGCGTGCAACGCCGAGTTGGGCGAGGTAGTAG 2\n",
      "GGGAATGTTTGAATATGGTATGGGGGATAACGCGGCATGA 2\n",
      "TAAAGGAGGCAAGCAGCGGAGGGGCGGCGAGCTTTTCGTA 2\n",
      "AGCTGGGGGTTTATATGTGCGGTCGCAGAGATGAGTTGTT 2\n",
      "TACGTGCTGCGTGTCCGTGTCGAAGGATGGGCATGTGAGC 2\n",
      "GATTTGATAGGGATGTAGGGGATCGGCGGGGTTCGGTAAC 2\n",
      "Low Quality, Unfiltered Top Seqs:\n",
      "TTAGTGAAGGATTTGGCGATCGTTATTACAAAGTAGAGGG 2\n",
      "CGGCAGTGCGTAGCGGTGGAATGGGGGAGTGGATGGTGGG 2\n",
      "GCGGTGCAACCAATGGGCTGTTGTGATTGGTGGTAAGTGG 2\n",
      "CGCTATGTCTGCTGGATTCGGTAGGATAAACGGGTGTAGA 2\n",
      "ATATGTTTCGCGTGCAACGCCGAGTTGGGCGAGGTAGTAG 2\n",
      "GGGAATGTTTGAATATGGTATGGGGGATAACGCGGCATGA 2\n",
      "TAAAGGAGGCAAGCAGCGGAGGGGCGGCGAGCTTTTCGTA 2\n",
      "AGCTGGGGGTTTATATGTGCGGTCGCAGAGATGAGTTGTT 2\n",
      "TACGTGCTGCGTGTCCGTGTCGAAGGATGGGCATGTGAGC 2\n",
      "GATTTGATAGGGATGTAGGGGATCGGCGGGGTTCGGTAAC 2\n"
     ]
    }
   ],
   "source": [
    "#AA CONTROL\n",
    "#STATISTICS (note: this takes a few mins per round)\n",
    "print('Number of seqs in AA: '+str(round(len(aa_sequences)/4)))\n",
    "aa_correct_seqs = []\n",
    "for seq in range(len(aa_sequences)):\n",
    "  if (seq-1)%4==0:\n",
    "      if aa_sequences[seq][motif_start-1:(motif_start-1)+len(motif)] == motif and aa_sequences[seq][motif2_start-1:(motif2_start-1)+len(motif2)] == motif2:\n",
    "        aa_correct_seqs+=(aa_sequences[seq-1:seq+3])\n",
    "print('Number of seqs with correct constant region: '+str(len(aa_correct_seqs[1::4])))\n",
    "\n",
    "\n",
    "aa_ctrl_sorted_seq_dict, aa_ctrl_high_quality, aa_ctrl_seqs = preprocess_seqs(aa_correct_seqs)\n",
    "top_seqs_aa_not_rna =  get_top_seqs(100, 10, aa_ctrl_seqs, aa_ctrl_high_quality)\n",
    "\n"
   ]
  },
  {
   "cell_type": "code",
   "execution_count": 131,
   "metadata": {},
   "outputs": [
    {
     "name": "stdout",
     "output_type": "stream",
     "text": [
      "Number of seqs in RNA: 3449734\n",
      "Number of seqs with correct constant region: 1171922\n",
      "Number of unique seqs after trimming: 1171243\n",
      "Number of high quality seqs: 1149204\n",
      "GTGTTAAGTTGGGCAGGAGCTCATTTGATCGGAGTTGTAA 2\n",
      "GGGGGAGAGGTTTGACTGGCTACTGTCGGATTACTGTGGC 2\n",
      "TGGGCTGGTGCGTTGGAGCCCGAGTACTGCTTTACTGTGT 2\n",
      "AGAGAAGACTGAGTGCGTGGCATTCGGTGCCTGGTAAAGC 2\n",
      "AGAAGCCAGAGTTCATCACTTTGCATCTAGCGTAGCGCTC 2\n",
      "ATTTTGGTGTTTGTACGCGCGGAAAGAATCGGATGTTGTA 2\n",
      "TGTGCGGGATGTTGCAATTCTGAGCGGCGGTACGGGACGG 2\n",
      "TTGCACCTAGGTACAGCTTTAGCTGGCGACGGTGAACGTG 2\n",
      "TGGGATAGCAGCATCTGAGTTCAATGCAGGAAATAAGAAC 2\n",
      "TCGTTATGCGGCCAAATGCAATTTGGTTTGGGTTAAGCAG 2\n"
     ]
    }
   ],
   "source": [
    "#RNA CONTROL\n",
    "#STATISTICS (note: this takes a few mins per round)\n",
    "print('Number of seqs in RNA: '+str(round(len(rna_only_sequences)/4)))\n",
    "rna_correct_seqs = []\n",
    "for seq in range(len(rna_only_sequences)):\n",
    "  if (seq-1)%4==0:\n",
    "      if rna_only_sequences[seq][motif_start-1:(motif_start-1)+len(motif)] == motif and rna_only_sequences[seq][motif2_start-1:(motif2_start-1)+len(motif2)] == motif2:\n",
    "        rna_correct_seqs+=(rna_only_sequences[seq-1:seq+3])\n",
    "print('Number of seqs with correct constant region: '+str(len(rna_correct_seqs[1::4])))\n",
    "\n",
    "rna_ctrl_sorted_seq_dict, rna_ctrl_high_quality, rna_ctrl_seqs = preprocess_seqs(rna_correct_seqs)\n",
    "top_seqs_aa_not_rna =  get_top_seqs(100, 10, rna_ctrl_seqs, rna_ctrl_high_quality)\n",
    "\n",
    "\n"
   ]
  },
  {
   "cell_type": "code",
   "execution_count": 132,
   "metadata": {},
   "outputs": [
    {
     "name": "stdout",
     "output_type": "stream",
     "text": [
      "Number of seqs in AA but not RNA: 1503433\n",
      "TTAGTGAAGGATTTGGCGATCGTTATTACAAAGTAGAGGG 2\n",
      "CGGCAGTGCGTAGCGGTGGAATGGGGGAGTGGATGGTGGG 2\n",
      "GCGGTGCAACCAATGGGCTGTTGTGATTGGTGGTAAGTGG 2\n",
      "CGCTATGTCTGCTGGATTCGGTAGGATAAACGGGTGTAGA 2\n",
      "ATATGTTTCGCGTGCAACGCCGAGTTGGGCGAGGTAGTAG 2\n",
      "GGGAATGTTTGAATATGGTATGGGGGATAACGCGGCATGA 2\n",
      "TAAAGGAGGCAAGCAGCGGAGGGGCGGCGAGCTTTTCGTA 2\n",
      "AGCTGGGGGTTTATATGTGCGGTCGCAGAGATGAGTTGTT 2\n",
      "TACGTGCTGCGTGTCCGTGTCGAAGGATGGGCATGTGAGC 2\n",
      "GATTTGATAGGGATGTAGGGGATCGGCGGGGTTCGGTAAC 2\n"
     ]
    }
   ],
   "source": [
    "#AA NOT RNA \n",
    "#STATISTICS (note: this takes a few mins per round)\n",
    "\n",
    "aa_not_rna_high_quality = list(set(aa_ctrl_high_quality) - set(rna_ctrl_high_quality))\n",
    "print('Number of seqs in AA but not RNA: '+str(round(len(aa_not_rna_high_quality))))\n",
    "top_seqs_aa_not_rna =  get_top_seqs(100, 10, aa_ctrl_seqs, aa_not_rna_high_quality)\n"
   ]
  },
  {
   "cell_type": "code",
   "execution_count": 138,
   "metadata": {},
   "outputs": [
    {
     "name": "stdout",
     "output_type": "stream",
     "text": [
      "0\n",
      "2\n",
      "4\n",
      "6\n",
      "8\n"
     ]
    }
   ],
   "source": [
    "#Get the SS of the top sequences\n",
    "ss_of_top_seqs=[]\n",
    "for seq in top_seqs_aa_not_rna[:10]:\n",
    "  if top_seqs_aa_not_rna.index(seq)%2==0:\n",
    "    print(top_seqs_aa_not_rna.index(seq))\n",
    "  ss_of_top_seqs.append(get_energy_ss(seq)[1])"
   ]
  },
  {
   "cell_type": "code",
   "execution_count": 139,
   "metadata": {},
   "outputs": [
    {
     "name": "stderr",
     "output_type": "stream",
     "text": [
      "<ipython-input-139-cbb264d0e58f>:3: DeprecationWarning: The binary mode of fromstring is deprecated, as it behaves surprisingly on unicode inputs. Use frombuffer instead\n",
      "  matrix = np.asarray([np.fromstring(str(s), dtype=np.uint8) for s in ss_of_top_seqs]);\n"
     ]
    },
    {
     "data": {
      "text/plain": [
       "[['.((((((..((((....)))).))))))............',\n",
       "  '((((...(((((((....))))))).......))))....',\n",
       "  '.........(((((...(((....)))...))))).....'],\n",
       " ['...((.(((...))).))......................',\n",
       "  '.........((.(((..((((......))))..)))))..',\n",
       "  '.............((((...((........))...)))).',\n",
       "  '...................(((((.....)))))......'],\n",
       " ['((..(((.((((((..((....)).)))))).))).))..',\n",
       "  '....((((((..((.((......)).))..))))))....',\n",
       "  '.....(((((((((((((........)))))))))).)))']]"
      ]
     },
     "execution_count": 139,
     "metadata": {},
     "output_type": "execute_result"
    }
   ],
   "source": [
    "#Cluster by secondary structure\n",
    "k = 3\n",
    "matrix = np.asarray([np.fromstring(str(s), dtype=np.uint8) for s in ss_of_top_seqs]);\n",
    "kmeans = KMeans(init=\"random\", n_clusters=k,n_init=10,max_iter=300,random_state=42)\n",
    "kmeans.fit(matrix)\n",
    "labels = kmeans.labels_[:]\n",
    "\n",
    "all_clusters = []\n",
    "for cluster_num in range(0, k):\n",
    "  seqs_in_cluster = []\n",
    "  for seq in range(len(labels)):\n",
    "    if labels[seq] == cluster_num:\n",
    "      seqs_in_cluster.append(ss_of_top_seqs[seq])\n",
    "  all_clusters.append(seqs_in_cluster)\n",
    "all_clusters"
   ]
  },
  {
   "cell_type": "code",
   "execution_count": null,
   "metadata": {},
   "outputs": [],
   "source": []
  },
  {
   "cell_type": "code",
   "execution_count": null,
   "metadata": {},
   "outputs": [],
   "source": []
  }
 ],
 "metadata": {
  "colab": {
   "authorship_tag": "ABX9TyNYquusls++X53UBouwWprL",
   "collapsed_sections": [],
   "include_colab_link": true,
   "name": "gly_structure_analysis.ipynb",
   "provenance": []
  },
  "kernelspec": {
   "display_name": "Python 3",
   "language": "python",
   "name": "python3"
  },
  "language_info": {
   "codemirror_mode": {
    "name": "ipython",
    "version": 3
   },
   "file_extension": ".py",
   "mimetype": "text/x-python",
   "name": "python",
   "nbconvert_exporter": "python",
   "pygments_lexer": "ipython3",
   "version": "3.8.8"
  }
 },
 "nbformat": 4,
 "nbformat_minor": 1
}
