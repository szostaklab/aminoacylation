{
 "cells": [
  {
   "cell_type": "code",
   "execution_count": 44,
   "id": "9cb0d826",
   "metadata": {},
   "outputs": [
    {
     "name": "stdout",
     "output_type": "stream",
     "text": [
      "Requirement already satisfied: Bio in /Users/zoeweiss/opt/anaconda3/lib/python3.8/site-packages (1.3.2)\n",
      "Requirement already satisfied: biopython>=1.79 in /Users/zoeweiss/opt/anaconda3/lib/python3.8/site-packages (from Bio) (1.79)\n",
      "Requirement already satisfied: requests in /Users/zoeweiss/opt/anaconda3/lib/python3.8/site-packages (from Bio) (2.25.1)\n",
      "Requirement already satisfied: tqdm in /Users/zoeweiss/opt/anaconda3/lib/python3.8/site-packages (from Bio) (4.59.0)\n",
      "Requirement already satisfied: mygene in /Users/zoeweiss/opt/anaconda3/lib/python3.8/site-packages (from Bio) (3.2.2)\n",
      "Requirement already satisfied: numpy in /Users/zoeweiss/opt/anaconda3/lib/python3.8/site-packages (from biopython>=1.79->Bio) (1.20.1)\n",
      "Requirement already satisfied: biothings-client>=0.2.6 in /Users/zoeweiss/opt/anaconda3/lib/python3.8/site-packages (from mygene->Bio) (0.2.6)\n",
      "Requirement already satisfied: chardet<5,>=3.0.2 in /Users/zoeweiss/opt/anaconda3/lib/python3.8/site-packages (from requests->Bio) (4.0.0)\n",
      "Requirement already satisfied: certifi>=2017.4.17 in /Users/zoeweiss/opt/anaconda3/lib/python3.8/site-packages (from requests->Bio) (2020.12.5)\n",
      "Requirement already satisfied: idna<3,>=2.5 in /Users/zoeweiss/opt/anaconda3/lib/python3.8/site-packages (from requests->Bio) (2.10)\n",
      "Requirement already satisfied: urllib3<1.27,>=1.21.1 in /Users/zoeweiss/opt/anaconda3/lib/python3.8/site-packages (from requests->Bio) (1.26.4)\n"
     ]
    }
   ],
   "source": [
    "#@title IMPORTS\n",
    "import random\n",
    "import numpy as np\n",
    "import matplotlib.pyplot as plt\n",
    "!pip install Bio\n",
    "from Bio import SeqIO\n",
    "from Bio.Seq import Seq\n",
    "from collections import Counter \n",
    "from Bio.Cluster import kcluster\n",
    "import statistics\n",
    "import matplotlib.pyplot as plt\n",
    "from sklearn.cluster import KMeans\n",
    "from sklearn.metrics import silhouette_score\n",
    "from sklearn.preprocessing import StandardScaler\n",
    "import difflib\n",
    "import seaborn as sns; sns.set_theme()\n",
    "from collections import defaultdict\n",
    "import collections\n",
    "\n",
    "#!pip install ipython-autotime"
   ]
  },
  {
   "cell_type": "code",
   "execution_count": 195,
   "id": "19c6a106",
   "metadata": {},
   "outputs": [
    {
     "name": "stdout",
     "output_type": "stream",
     "text": [
      "Starting Pool Length: 100000\n",
      "Selected Pool Length: 16147\n",
      "Selected Pool Unique Sequences: 15907\n"
     ]
    }
   ],
   "source": [
    "###CREATE DEMO DATA TO TEST CODE\n",
    "#4 Constructs\n",
    "#10 Amino Acids Each\n",
    "\n",
    "#STEM1234568910METS\n",
    "\n",
    "stem = 'AAAA'\n",
    "randomized_len = 10\n",
    "triplet_start = 1\n",
    "number_of_seqs = 100000\n",
    "selection_advantage_single_nt = 0.2\n",
    "background_selection = 0.01\n",
    "preference = 'AUG'\n",
    "\n",
    "#Create Pool\n",
    "random_pool = []\n",
    "for j in range(number_of_seqs):\n",
    "    randomized_seq = stem\n",
    "    for i in range(randomized_len):\n",
    "        new_nt = random.choice(['C', 'G', 'A', 'U'])\n",
    "        randomized_seq+=new_nt\n",
    "    randomized_seq+='UUUU'\n",
    "    random_pool.append(randomized_seq)\n",
    "\n",
    "#Add preference via 1 round of selection\n",
    "#Add stochasticity \n",
    "selected_pool = []\n",
    "\n",
    "for seq in random_pool:\n",
    "    selection_probability = background_selection\n",
    "    for position in range(3):\n",
    "        if seq[len(stem)+triplet_start-1+position] == preference[position]:\n",
    "            selection_probability+=selection_advantage_single_nt\n",
    "\n",
    "    if selection_probability>random.random():\n",
    "        selected_pool.append(seq)\n",
    "\n",
    "print('Starting Pool Length: '+str(number_of_seqs))\n",
    "print('Selected Pool Length: '+str(len(selected_pool)))\n",
    "print('Selected Pool Unique Sequences: '+str(len(list(set(selected_pool)))))"
   ]
  },
  {
   "cell_type": "code",
   "execution_count": 196,
   "id": "c9727c5a",
   "metadata": {},
   "outputs": [],
   "source": [
    "#Instructions:\n",
    "#1) Name the raw .fastq file: 'Aleks.fastq', UNZIPPED\n",
    "#2) Input the following parameters - defaults are already set\n",
    "#3) On the bar at the top, press 'Runtime' and then 'Restart and Run All'\n",
    "\n",
    "#Take the reverse complement? Enter 'yes' or 'no'\n",
    "rc = 'no'\n",
    "\n",
    "#Desired Region to analyze (e.g. if 8nt constant region in 56nt sequence, input 'start, stop = 8, 48')\n",
    "start, stop = 13, 23\n",
    "\n",
    "#Quality Cutoff - what fraction of positions should have <1% error probability?\n",
    "quality_cutoff = 0.9\n",
    "\n",
    "#Number of Clusters (I WOULD MAKE THIS >50)\n",
    "k = 50"
   ]
  },
  {
   "cell_type": "code",
   "execution_count": 197,
   "id": "19b8a021",
   "metadata": {},
   "outputs": [
    {
     "name": "stdout",
     "output_type": "stream",
     "text": [
      "Number of raw seqs: 2519\n",
      "Number of unique seqs: 1615\n",
      "Number of seqs after trimming: 1615\n",
      "Number of high quality seqs: 592\n"
     ]
    }
   ],
   "source": [
    "#@title STATISTICS (note: this takes a few mins per round)\n",
    "\n",
    "round = open('/Users/zoeweiss/Desktop/Desktop/fastq/smaller_ai/Aleks4.fastq').readlines()\n",
    "quality = round[3::4]\n",
    "seqs = round[1::4]\n",
    "print('Number of raw seqs: '+str(len(seqs))) \n",
    "\n",
    "#Remove duplicates:\n",
    "unique_seqs = []\n",
    "unique_qualities = []\n",
    "indicies_of_unique_seqs = list(np.unique(seqs, return_index=True)[1])\n",
    "for index in sorted(np.unique(seqs, return_index = True)[1])[:-1]:\n",
    "  unique_qualities.append(quality[index])\n",
    "  unique_seqs.append(seqs[index])\n",
    "print('Number of unique seqs: '+str(len(unique_seqs))) \n",
    "\n",
    "#Counts of all seqs\n",
    "seq_dict = Counter(seqs)\n",
    "seq_dict_list = [(k, v) for k, v in seq_dict.items()]\n",
    "sorted_seq_dict = sorted(seq_dict_list, key = lambda x: x[1], reverse=True)\n",
    "sorted_seq_dict_inve = sorted(seq_dict_list, key = lambda x: x[1])\n",
    "\n",
    "#Take RC if desired\n",
    "pre_trim = []\n",
    "if rc == 'yes':\n",
    "  rc_seqs = []\n",
    "  for sequence in unique_seqs:\n",
    "      rc_seqs.append(str(Seq(sequence).reverse_complement()).strip('\\n'))\n",
    "  pre_trim = rc_seqs\n",
    "else:\n",
    "  for sequence in unique_seqs:\n",
    "      pre_trim.append(str(Seq(sequence)).strip('\\n'))\n",
    "if rc == 'yes':\n",
    "  print('Number of seqs after rc: '+str(len(pre_trim))) \n",
    "\n",
    "#Trim\n",
    "trimmed = []\n",
    "for seq in pre_trim:\n",
    "  trimmed.append(seq[(start-1):(stop-1)])\n",
    "print('Number of seqs after trimming: '+str(len(trimmed))) \n",
    "\n",
    "#Filter by quality\n",
    "high_quality = []\n",
    "acceptable_quals_1_percent_error = [5,6,7,8,9,':',';', '<', '=', '>', '?', '@', 'A', 'B', 'C', 'D', 'E', 'F', 'G', 'H', 'I', 'J', 'K']\n",
    "for seq in range(len(unique_qualities)):\n",
    "  overlap=0\n",
    "  for char in list(set(unique_qualities[seq]).intersection(acceptable_quals_1_percent_error)):\n",
    "        overlap+=unique_qualities[seq].count(char)\n",
    "  if overlap/len(unique_qualities[1])>quality_cutoff:\n",
    "        high_quality.append(trimmed[seq].strip(\"\\n\"))\n",
    "print('Number of high quality seqs: '+str(len(high_quality))) "
   ]
  },
  {
   "cell_type": "code",
   "execution_count": 198,
   "id": "59180f78",
   "metadata": {},
   "outputs": [
    {
     "name": "stdout",
     "output_type": "stream",
     "text": [
      "10 Most Abundant Sequences, Counts\n",
      "ACTCACTGACACAGATCCACTCACGGACAGCGGAATGCTGCCAACCGTGCGGGCTAATTGGCAGACTGAGCTCGCTGTCCT 252\n",
      "ACTCACTGACACAGATCCACTCACGGACAGCGCCTAGCTAGCGCTGACTAGGACAGATGAGCGGCGGAACCACGCTGTCCT 98\n",
      "ACTCACTGACACAGATCCACTCACGGACAGCGGAACCCTTATCACAGTCGTGCGGATTTGTAAGCCTAAGCGCGCTGTCCT 44\n",
      "ACTCACTGACACAGATCCACTCACGGACAGCGTTAGTGAAATTGGTGCCCAAGCAGAGAATTGGGATAAATCCGCTGTCCT 43\n",
      "ACTCACTGACACAGATCCACTCACGGAGCGTATTGGGTGCCGATTTCCTCTAATTTTAAAGTGCGGATAACGCTGTCCTTT 36\n",
      "ACTCACTGACACAGATCCACTCACGGACAGCGGAATGCTACCAACCGTGCGGGCTAATTGGCAGACTGAGCTCGCTGTCCT 21\n",
      "ACTCACTGACACAGATCCACTCACGGACAGCGAGAGACCGTGAGCTTGCGGAATGTTAGCAGAACAGAACTGCGCTGTCCT 19\n",
      "ACTCACTGACACAGATCCACTCACGGACGCGCCAGAAGATCAATTTAGTGCGATTGCTAAAGACGTAAACCCGCTGTCCTT 18\n",
      "ACTCACTGACACAGATCCACTCACGGACAGCGGAATGCTGCCAACCGTGCGGGCTAATTGGCAGACTGAGCTCGCTGCCCT 18\n",
      "ACTCACTGACACAGATCCACTCACGGACAGCGAGCCACTGCGGAAGACCTTAAGAGGTGTAATTGCTCACCCCGCTGTCCT 18\n"
     ]
    }
   ],
   "source": [
    "#@title MOST ABUNDANT SEQUENCES [NOT FILTERED BY QUALITY]\n",
    "#10 Top Sequences in the last round\n",
    "print('10 Most Abundant Sequences, Counts')\n",
    "for seq in sorted_seq_dict[:10]:\n",
    "  print(seq[0].strip(\"\\n\"), seq[1])"
   ]
  },
  {
   "cell_type": "code",
   "execution_count": 199,
   "id": "a8b8f2e2",
   "metadata": {},
   "outputs": [],
   "source": [
    "#@title FUNCTION TO FIND CONSERVED POSITIONS\n",
    "#Idtenify conserved positions in cluster 1\n",
    "\n",
    "def make_heatmap(seqs_to_analyze):\n",
    "  heatmap_data = []\n",
    "\n",
    "  for position in range(len(seqs_to_analyze[0])):\n",
    "      options = []\n",
    "      for seq in seqs_to_analyze:\n",
    "          options.append(seq[position])\n",
    "      raw_options = [(k, v) for k, v in Counter(options).items()]\n",
    "      nuc_list = []\n",
    "      for element in raw_options:\n",
    "          nuc_list.append(element[0])\n",
    "      if 'A' not in nuc_list:\n",
    "            raw_options.append(('A', 0))\n",
    "      if 'C' not in nuc_list:\n",
    "            raw_options.append(('C', 0))\n",
    "      if 'G' not in nuc_list:\n",
    "            raw_options.append(('G', 0))\n",
    "      if 'U' not in nuc_list:\n",
    "            raw_options.append(('T', 0))    \n",
    "      raw_options = sorted(raw_options, key=lambda x: x[0])        \n",
    "      \n",
    "      heatmap_data_position = []\n",
    "      for element in raw_options:\n",
    "          heatmap_data_position.append(element[1]/len(seqs_to_analyze))\n",
    "      heatmap_data.append(heatmap_data_position)\n",
    "\n",
    "\n",
    "  fig, ax = plt.subplots(figsize = (30,6));\n",
    "  im = ax.imshow(np.array(heatmap_data).transpose(), interpolation='nearest', cmap='YlOrRd');\n",
    "  im.set_clim(0,1)\n",
    "  cbar = fig.colorbar(im, orientation='vertical',)\n",
    "  y_label_list = ['', 'A', 'C', 'G', 'T', ''];\n",
    "  ax.set_yticks(range(-1, 1+len(heatmap_data[0])));\n",
    "  ax.set_yticklabels(y_label_list);\n",
    "  ax.set_xticks(range(len(heatmap_data)));\n",
    "  ax.set_xticklabels(range(1, len(heatmap_data)+1));\n",
    "  ax.grid(False)\n",
    "  plt.show()\n",
    "  return heatmap_data"
   ]
  },
  {
   "cell_type": "code",
   "execution_count": 200,
   "id": "f8378555",
   "metadata": {},
   "outputs": [
    {
     "data": {
      "image/png": "[encoded data removed]",
      "text/plain": [
       "<Figure size 2160x432 with 2 Axes>"
      ]
     },
     "metadata": {},
     "output_type": "display_data"
    },
    {
     "data": {
      "text/plain": [
       "[[0.48442435127268224,\n",
       "  0.16981482628352015,\n",
       "  0.1740880658945934,\n",
       "  0.1716727565492042],\n",
       " [0.17359261782374436,\n",
       "  0.17210627361119712,\n",
       "  0.17786585743481761,\n",
       "  0.47643525113024093],\n",
       " [0.1696909642658079,\n",
       "  0.1709915154517867,\n",
       "  0.49043165913172726,\n",
       "  0.16888586115067813],\n",
       " [0.2553415495138416,\n",
       "  0.2516256889824735,\n",
       "  0.2452467950702917,\n",
       "  0.2477859664333932],\n",
       " [0.24790982845110546,\n",
       "  0.24908651761937203,\n",
       "  0.24921037963708428,\n",
       "  0.2537932742924382],\n",
       " [0.25168761999132966,\n",
       "  0.2406019694060816,\n",
       "  0.25094444788505604,\n",
       "  0.25676596271753266],\n",
       " [0.25558927354926614,\n",
       "  0.24679507029169506,\n",
       "  0.24698086331826347,\n",
       "  0.2506347928407754],\n",
       " [0.251377964947049,\n",
       "  0.2539171363101505,\n",
       "  0.24716665634483187,\n",
       "  0.24753824239796865],\n",
       " [0.24970582770793337,\n",
       "  0.24964389669907722,\n",
       "  0.24809562147767386,\n",
       "  0.2525546541153155],\n",
       " [0.2572614107883817,\n",
       "  0.24605189818542145,\n",
       "  0.24871493156623523,\n",
       "  0.2479717594599616]]"
      ]
     },
     "execution_count": 200,
     "metadata": {},
     "output_type": "execute_result"
    }
   ],
   "source": [
    "###TEMPORARY\n",
    "high_quality = selected_pool\n",
    "high_quality_trimmed = []\n",
    "for seq in list(high_quality):\n",
    "    high_quality_trimmed.append(seq[len(stem):(-len(stem))])\n",
    "\n",
    "make_heatmap(high_quality_trimmed)"
   ]
  },
  {
   "cell_type": "code",
   "execution_count": null,
   "id": "84bd9734",
   "metadata": {},
   "outputs": [],
   "source": []
  },
  {
   "cell_type": "code",
   "execution_count": null,
   "id": "e85d6cba",
   "metadata": {},
   "outputs": [],
   "source": []
  }
 ],
 "metadata": {
  "kernelspec": {
   "display_name": "Python 3",
   "language": "python",
   "name": "python3"
  },
  "language_info": {
   "codemirror_mode": {
    "name": "ipython",
    "version": 3
   },
   "file_extension": ".py",
   "mimetype": "text/x-python",
   "name": "python",
   "nbconvert_exporter": "python",
   "pygments_lexer": "ipython3",
   "version": "3.8.8"
  }
 },
 "nbformat": 4,
 "nbformat_minor": 5
}
