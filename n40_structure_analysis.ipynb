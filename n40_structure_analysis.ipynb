{
  "nbformat": 4,
  "nbformat_minor": 0,
  "metadata": {
    "colab": {
      "name": "n40_structure_analysis.ipynb",
      "provenance": [],
      "collapsed_sections": [],
      "authorship_tag": "ABX9TyP753E7kQeegSBV2amjCfc/",
      "include_colab_link": true
    },
    "kernelspec": {
      "name": "python3",
      "display_name": "Python 3"
    },
    "language_info": {
      "name": "python"
    }
  },
  "cells": [
    {
      "cell_type": "markdown",
      "metadata": {
        "id": "view-in-github",
        "colab_type": "text"
      },
      "source": [
        "<a href=\"https://colab.research.google.com/github/szostaklab/aminoacylation/blob/main/n40_structure_analysis.ipynb\" target=\"_parent\"><img src=\"https://colab.research.google.com/assets/colab-badge.svg\" alt=\"Open In Colab\"/></a>"
      ]
    },
    {
      "cell_type": "code",
      "execution_count": 1,
      "metadata": {
        "colab": {
          "base_uri": "https://localhost:8080/"
        },
        "id": "cgu6GfD4-5oF",
        "outputId": "415e96fd-3a16-4a0d-bc7a-9bd7c3300e3e"
      },
      "outputs": [
        {
          "output_type": "stream",
          "name": "stdout",
          "text": [
            "Requirement already satisfied: mechanize in /usr/local/lib/python3.7/dist-packages (0.4.7)\n",
            "Requirement already satisfied: html5lib>=0.999999999 in /usr/local/lib/python3.7/dist-packages (from mechanize) (1.0.1)\n",
            "Requirement already satisfied: six>=1.9 in /usr/local/lib/python3.7/dist-packages (from html5lib>=0.999999999->mechanize) (1.15.0)\n",
            "Requirement already satisfied: webencodings in /usr/local/lib/python3.7/dist-packages (from html5lib>=0.999999999->mechanize) (0.5.1)\n",
            "Requirement already satisfied: Bio in /usr/local/lib/python3.7/dist-packages (1.3.3)\n",
            "Requirement already satisfied: requests in /usr/local/lib/python3.7/dist-packages (from Bio) (2.23.0)\n",
            "Requirement already satisfied: tqdm in /usr/local/lib/python3.7/dist-packages (from Bio) (4.62.3)\n",
            "Requirement already satisfied: mygene in /usr/local/lib/python3.7/dist-packages (from Bio) (3.2.2)\n",
            "Requirement already satisfied: biopython>=1.79 in /usr/local/lib/python3.7/dist-packages (from Bio) (1.79)\n",
            "Requirement already satisfied: numpy in /usr/local/lib/python3.7/dist-packages (from biopython>=1.79->Bio) (1.19.5)\n",
            "Requirement already satisfied: biothings-client>=0.2.6 in /usr/local/lib/python3.7/dist-packages (from mygene->Bio) (0.2.6)\n",
            "Requirement already satisfied: urllib3!=1.25.0,!=1.25.1,<1.26,>=1.21.1 in /usr/local/lib/python3.7/dist-packages (from requests->Bio) (1.24.3)\n",
            "Requirement already satisfied: certifi>=2017.4.17 in /usr/local/lib/python3.7/dist-packages (from requests->Bio) (2021.10.8)\n",
            "Requirement already satisfied: idna<3,>=2.5 in /usr/local/lib/python3.7/dist-packages (from requests->Bio) (2.10)\n",
            "Requirement already satisfied: chardet<4,>=3.0.2 in /usr/local/lib/python3.7/dist-packages (from requests->Bio) (3.0.4)\n"
          ]
        }
      ],
      "source": [
        "#@title IMPORTS\n",
        "#Install+Import Packages\n",
        "!pip install mechanize\n",
        "import random\n",
        "import re\n",
        "import mechanize\n",
        "import numpy as np\n",
        "from random import *\n",
        "import matplotlib.pyplot as plt\n",
        "!pip install Bio\n",
        "from Bio import SeqIO\n",
        "from Bio.Seq import Seq\n",
        "from collections import Counter \n",
        "from Bio.Cluster import kcluster\n",
        "import statistics\n",
        "import matplotlib.pyplot as plt\n",
        "from sklearn.cluster import KMeans\n",
        "from sklearn.metrics import silhouette_score\n",
        "from sklearn.preprocessing import StandardScaler\n",
        "import difflib\n",
        "import seaborn as sns; sns.set_theme()\n",
        "from collections import defaultdict\n",
        "import collections\n",
        "from mpl_toolkits.mplot3d import Axes3D\n",
        "from pylab import *\n",
        "from collections import OrderedDict\n",
        "import matplotlib.pyplot as plt\n",
        "#!pip install ipython-autotime"
      ]
    },
    {
      "cell_type": "code",
      "source": [
        "#@title Upload Data and Define Parameters\n",
        "aa_sequences = open('Str_S1_L001_R1_001.fastq').readlines()\n",
        "rna_only_sequences = open('Str-NaOH_S2_L001_R1_001.fastq').readlines()\n",
        "\n",
        "#Take the reverse complement? Enter 'yes' or 'no'\n",
        "rc = 'no'\n",
        "\n",
        "#Quality Cutoff - what fraction of positions should have <1% error probability?\n",
        "quality_cutoff = 0.9\n",
        "\n",
        "#Position motif1 starts at\n",
        "motif_start = 1\n",
        "#Motif1 define\n",
        "motif = 'AAA'\n",
        "\n",
        "#Position motif2 starts at\n",
        "motif2_start = 42\n",
        "#Motif2 define\n",
        "motif2 = 'AAA'"
      ],
      "metadata": {
        "id": "om-uTJs6_shJ"
      },
      "execution_count": 11,
      "outputs": []
    },
    {
      "cell_type": "code",
      "source": [
        "#@title STATISTICS (note: this takes a few mins per round)\n",
        "#Remove sequences which are present in the RNA only list and keep only correct constant region \n",
        "print('Number of seqs in AA: '+str(len(aa_sequences)/4)) \n",
        "\n",
        "aa_minus_rna_seqs = []\n",
        "for seq in range(len(aa_sequences)):\n",
        "  if (seq-1)%4==0:\n",
        "      if aa_sequences[seq][motif_start-1:(motif_start-1)+len(motif)] == motif and aa_sequences[seq][motif2_start-1:(motif2_start-1)+len(motif2)] == motif2:\n",
        "        aa_minus_rna_seqs+=(aa_sequences[seq-1:seq+3])\n",
        "quality = aa_minus_rna_seqs[3::4]\n",
        "seqs = aa_minus_rna_seqs[1::4]\n",
        "print('Number of seqs with correct constant region in AA but not RNA: '+str(len(seqs))) \n",
        "\n",
        "#Remove duplicates:\n",
        "unique_seqs = []\n",
        "unique_qualities = []\n",
        "indicies_of_unique_seqs = list(np.unique(seqs, return_index=True)[1])\n",
        "for index in sorted(np.unique(seqs, return_index = True)[1])[:-1]:\n",
        "  unique_qualities.append(quality[index])\n",
        "  unique_seqs.append(seqs[index])\n",
        "print('Number of unique seqs: '+str(len(unique_seqs))) \n",
        "\n",
        "#Counts of all seqs\n",
        "seq_dict = Counter(seqs)\n",
        "seq_dict_list = [(k, v) for k, v in seq_dict.items()]\n",
        "sorted_seq_dict = sorted(seq_dict_list, key = lambda x: x[1], reverse=True)\n",
        "sorted_seq_dict_inve = sorted(seq_dict_list, key = lambda x: x[1])\n",
        "\n",
        "#Take RC if desired\n",
        "pre_trim = []\n",
        "if rc == 'yes':\n",
        "  rc_seqs = []\n",
        "  for sequence in unique_seqs:\n",
        "      rc_seqs.append(str(Seq(sequence).reverse_complement()).strip('\\n'))\n",
        "  pre_trim = rc_seqs\n",
        "else:\n",
        "  for sequence in unique_seqs:\n",
        "      pre_trim.append(str(Seq(sequence)).strip('\\n'))\n",
        "if rc == 'yes':\n",
        "  print('Number of seqs after rc: '+str(len(pre_trim))) \n",
        "\n",
        "#Trim\n",
        "trimmed = []\n",
        "for seq in pre_trim:\n",
        "  trimmed.append(seq[(motif_start-1):(motif2_start-1)])\n",
        "\n",
        "print('Number of seqs after trimming: '+str(len(trimmed))) \n",
        "\n",
        "#Filter by quality\n",
        "high_quality = []\n",
        "acceptable_quals_1_percent_error = [5,6,7,8,9,':',';', '<', '=', '>', '?', '@', 'A', 'B', 'C', 'D', 'E', 'F', 'G', 'H', 'I', 'J', 'K']\n",
        "for seq in range(len(unique_qualities)):\n",
        "  overlap=0\n",
        "  for char in list(set(unique_qualities[seq]).intersection(acceptable_quals_1_percent_error)):\n",
        "        overlap+=unique_qualities[seq].count(char)\n",
        "  if overlap/len(unique_qualities[1])>quality_cutoff:\n",
        "        high_quality.append(trimmed[seq].strip(\"\\n\"))\n",
        "print('Number of high quality seqs: '+str(len(high_quality))) "
      ],
      "metadata": {
        "colab": {
          "base_uri": "https://localhost:8080/"
        },
        "id": "6m30rH4w_9Or",
        "outputId": "02d2ee40-ccd7-4085-b168-1d9c77b3417d"
      },
      "execution_count": 12,
      "outputs": [
        {
          "output_type": "stream",
          "name": "stdout",
          "text": [
            "Number of seqs in AA: 3006527.0\n",
            "Number of seqs with correct constant region in AA but not RNA: 229456\n",
            "Number of unique seqs: 228862\n",
            "Number of seqs after trimming: 228862\n",
            "Number of high quality seqs: 223371\n"
          ]
        }
      ]
    },
    {
      "cell_type": "code",
      "source": [
        "#@title TOP SEQUENCES (ensure high quality)\n",
        "#Top Sequences \n",
        "print('Most Abundant Sequences, Counts')\n",
        "top_seqs = []\n",
        "\n",
        "for seq in sorted_seq_dict[:30]:\n",
        "  for high_qual in high_quality:\n",
        "    if high_qual in seq[0]:\n",
        "      top_seqs.append(high_qual[motif_start+2:motif2_start-1])\n",
        "      break\n",
        "\n",
        "for top in top_seqs:\n",
        "  counts=0\n",
        "  for seq in seqs:\n",
        "    if top in seq:\n",
        "      counts+=1\n",
        "  print(top, counts)"
      ],
      "metadata": {
        "colab": {
          "base_uri": "https://localhost:8080/"
        },
        "id": "kOJGUuXSAjym",
        "outputId": "9a3da98b-02cc-4a48-9465-b9f6c0d2b2d6"
      },
      "execution_count": 13,
      "outputs": [
        {
          "output_type": "stream",
          "name": "stdout",
          "text": [
            "Most Abundant Sequences, Counts\n",
            "ATGCAACTGGACAATCAGAAAGAGATTGCCGAGATGCA 77\n",
            "AGTCAGATATGGACCTTGCTGCTAAAGGTCTAGGAGCT 52\n",
            "TTGTTCCAAGTATCGGCAACAGCTTTATCAATACCATG 45\n",
            "TTACGTGCAGAAGGAGTGATGTAATGTCTAAAGGTAAA 110\n",
            "TTTAGGGTCGGCATCAAAAGCAATATCAGCACCAACAG 41\n",
            "ATTACGTGCAGAAGGAGTGATGTAATGTCTAAAGGTAA 110\n",
            "TGAAGACGGCCATTAGCTGTACCATACTCAGGCACACA 37\n",
            "CGCCTCTAATCGGTCGTCAGCCAACGTGAGAGTGTCAA 63\n",
            "ACCTACCGCGCTTCGCTTGGTCAACCCCTCAGCGGCAA 34\n",
            "CTTTGTTACTCGTCAGAAAATCGAAATCATCTTCGGTT 29\n",
            "ATTACGTGCAGAAGGAGTGATGTAATGTCTAAAGGTAA 110\n",
            "CGCCTCTAATCGGTCGTCAGCCAACGTGAGAGTGTCAA 63\n",
            "TATCCGAAAGTGTTAACTTCTGCGTCATGGAAGCGATA 27\n",
            "CACTGACGTTCTTACTGACGCAGAAGAAAACGTGCGTC 27\n",
            "TAAATTTCTAGGTGGTATGATGGTTAGAAAATCACAGT 2\n",
            "GCGGTCATGGCTGTTCTATCACAGCACTGGCGACTGGC 2\n",
            "GGTTATGTCGACGACGTAGATTTGGTATCAGGCTGTGT 2\n",
            "GGTCATGGTGTATATTTACTGTGTAACAATGGTCTGTA 2\n",
            "GTTAAGTGGAGGCCGCATACCAAAGCCGGGGGTGGAGT 2\n",
            "GTTTATATTGGGTGCAAGCTGTTTGTGTCAAATGTGAA 2\n",
            "CGGGGAATGGTTCCATATAGTAGGTCACTTGGTGGATT 2\n",
            "AGGACTGGGTGGGAATGCCTTGCAAGCGTCAACGAAGC 2\n",
            "GTGGAGTTGTCAGGTCACAGGGGCGCTATATGTTGAGG 2\n",
            "GTTTTATAGGCACGATTGGACTAGAAGGGTGAATAAGC 2\n",
            "TTGTCGGAAGACAGGGCAGTTGAAGCGGCGTGGTGCGT 2\n",
            "GGACGGGATCCGTGTCGTGAGATTTGAAGGGGCAGATT 2\n",
            "TACAGATAGGGGGTAGAAAAGTGGGAGCTTCTACTGTT 2\n",
            "GAGCGCGTCCTTTACATGAGATAAGGAGGTGGCTGAGC 2\n",
            "GTTGTCTTGGATACCCATGCTGGTTGGGTAGGACTAAG 2\n"
          ]
        }
      ]
    },
    {
      "cell_type": "code",
      "source": [
        "#@title Function to get secondary structure on RNA Fold\n",
        "\n",
        "def get_energy_ss(seq):\n",
        "  url = \"http://rna.tbi.univie.ac.at//cgi-bin/RNAWebSuite/RNAfold.cgi\"\n",
        "  br = mechanize.Browser()\n",
        "  br.set_handle_robots(False) # ignore robots\n",
        "  br.open(url)\n",
        "  br.select_form(name=\"form\")\n",
        "  br[\"SCREEN\"] = seq\n",
        "  res = br.submit()\n",
        "  content = res.read()\n",
        "\n",
        "  energy = int(re.sub(\"[^0-9]\", \"\", str(content).split('thermodynamic ensemble is')[1].split('kcal/mol')[0]))\n",
        "  structure = str(content).split('STRUCTURE=')[1].split('target')[0].split('\"')[0]\n",
        "  return energy, structure"
      ],
      "metadata": {
        "id": "8v4tjYgf--yl"
      },
      "execution_count": 14,
      "outputs": []
    },
    {
      "cell_type": "code",
      "source": [
        "#@title Get the SS of the top sequences\n",
        "ss_of_top_seqs=[]\n",
        "for seq in top_seqs:\n",
        "  if top_seqs.index(seq)%2==0:\n",
        "    print(top_seqs.index(seq))\n",
        "  ss_of_top_seqs.append(get_energy_ss(seq[motif_start+2:motif2_start-1])[1])"
      ],
      "metadata": {
        "colab": {
          "base_uri": "https://localhost:8080/"
        },
        "id": "KOwX4cAC_B4U",
        "outputId": "c2653e80-48fe-47a7-81f0-720d705cc43a"
      },
      "execution_count": 18,
      "outputs": [
        {
          "output_type": "stream",
          "name": "stdout",
          "text": [
            "0\n",
            "2\n",
            "4\n",
            "6\n",
            "8\n",
            "12\n",
            "14\n",
            "16\n",
            "18\n",
            "20\n",
            "22\n",
            "24\n",
            "26\n",
            "28\n"
          ]
        }
      ]
    },
    {
      "cell_type": "code",
      "source": [
        "#@title Cluster by secondary structure\n",
        "k = 4\n",
        "matrix = np.asarray([np.fromstring(str(s), dtype=np.uint8) for s in ss_of_top_seqs]);\n",
        "kmeans = KMeans(init=\"random\", n_clusters=k,n_init=10,max_iter=300,random_state=42)\n",
        "kmeans.fit(matrix)\n",
        "labels = kmeans.labels_[:]\n",
        "\n",
        "all_clusters = []\n",
        "for cluster_num in range(0, k):\n",
        "  seqs_in_cluster = []\n",
        "  for seq in range(len(labels)):\n",
        "    if labels[seq] == cluster_num:\n",
        "      seqs_in_cluster.append(ss_of_top_seqs[seq])\n",
        "  all_clusters.append(seqs_in_cluster)\n",
        "all_clusters"
      ],
      "metadata": {
        "id": "oKdkskiXNmeU",
        "colab": {
          "base_uri": "https://localhost:8080/"
        },
        "outputId": "2e2a6843-f770-40d9-951c-9ccd635bae91"
      },
      "execution_count": 19,
      "outputs": [
        {
          "output_type": "stream",
          "name": "stderr",
          "text": [
            "/usr/local/lib/python3.7/dist-packages/ipykernel_launcher.py:3: DeprecationWarning: The binary mode of fromstring is deprecated, as it behaves surprisingly on unicode inputs. Use frombuffer instead\n",
            "  This is separate from the ipykernel package so we can avoid doing imports until\n"
          ]
        },
        {
          "output_type": "execute_result",
          "data": {
            "text/plain": [
              "[['...........(((....)))..............',\n",
              "  '..(((((.....)))))..................',\n",
              "  '......((..((((.((......))..))))))..',\n",
              "  '...............(((((((......)))))))',\n",
              "  '.............(((((.......))))).....',\n",
              "  '.............((((((..........))))))',\n",
              "  '.........((((...((......))..))))...',\n",
              "  '........(((((..(((.....)))..)))))..',\n",
              "  '...(((((....)))))..................'],\n",
              " ['..((((..........))))...............',\n",
              "  '(((((((..........))).))))..........',\n",
              "  '(((((((..........))).))))..........',\n",
              "  '.(((((((.((......)).)))))))........',\n",
              "  '((((((...))))))(((.....))).........',\n",
              "  '(((((((......)))))))...............',\n",
              "  '.(((.(((..........))))))...........',\n",
              "  '(((.(((((..........))))).))).......'],\n",
              " ['(((.....(((.....))).....)))........',\n",
              "  '(((.....(((.....))).....)))........',\n",
              "  '((((..(((((......)))))..)))).......',\n",
              "  '.((...(((......)))....))((((...))))'],\n",
              " ['....(((.(((((.......)))))))).......',\n",
              "  '......((((((((.......))))))))......',\n",
              "  '..(((..((................))))).....',\n",
              "  '((((((.(((((((.....))))))).))))))..',\n",
              "  '...((..(((..((.......))..)))..))...',\n",
              "  '...((((.((.((............)).)).))))',\n",
              "  '.....((.((((((..(((....))))))))).))',\n",
              "  '((((....((((((.......))))))))))....']]"
            ]
          },
          "metadata": {},
          "execution_count": 19
        }
      ]
    },
    {
      "cell_type": "code",
      "source": [
        ""
      ],
      "metadata": {
        "id": "hxcyN29jRfXx"
      },
      "execution_count": 7,
      "outputs": []
    }
  ]
}