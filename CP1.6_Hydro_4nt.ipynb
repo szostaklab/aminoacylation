{
 "cells": [
  {
   "cell_type": "code",
   "execution_count": 1,
   "id": "24934cdd",
   "metadata": {},
   "outputs": [
    {
     "name": "stdout",
     "output_type": "stream",
     "text": [
      "Requirement already satisfied: mechanize in /Users/radakovic/opt/anaconda3/lib/python3.9/site-packages (0.4.7)\n",
      "Requirement already satisfied: html5lib>=0.999999999 in /Users/radakovic/opt/anaconda3/lib/python3.9/site-packages (from mechanize) (1.1)\n",
      "Requirement already satisfied: six>=1.9 in /Users/radakovic/opt/anaconda3/lib/python3.9/site-packages (from html5lib>=0.999999999->mechanize) (1.16.0)\n",
      "Requirement already satisfied: webencodings in /Users/radakovic/opt/anaconda3/lib/python3.9/site-packages (from html5lib>=0.999999999->mechanize) (0.5.1)\n",
      "Requirement already satisfied: Bio in /Users/radakovic/opt/anaconda3/lib/python3.9/site-packages (1.3.3)\n",
      "Requirement already satisfied: biopython>=1.79 in /Users/radakovic/opt/anaconda3/lib/python3.9/site-packages (from Bio) (1.79)\n",
      "Requirement already satisfied: requests in /Users/radakovic/opt/anaconda3/lib/python3.9/site-packages (from Bio) (2.26.0)\n",
      "Requirement already satisfied: tqdm in /Users/radakovic/opt/anaconda3/lib/python3.9/site-packages (from Bio) (4.62.3)\n",
      "Requirement already satisfied: mygene in /Users/radakovic/opt/anaconda3/lib/python3.9/site-packages (from Bio) (3.2.2)\n",
      "Requirement already satisfied: numpy in /Users/radakovic/opt/anaconda3/lib/python3.9/site-packages (from biopython>=1.79->Bio) (1.20.3)\n",
      "Requirement already satisfied: biothings-client>=0.2.6 in /Users/radakovic/opt/anaconda3/lib/python3.9/site-packages (from mygene->Bio) (0.2.6)\n",
      "Requirement already satisfied: idna<4,>=2.5 in /Users/radakovic/opt/anaconda3/lib/python3.9/site-packages (from requests->Bio) (3.2)\n",
      "Requirement already satisfied: certifi>=2017.4.17 in /Users/radakovic/opt/anaconda3/lib/python3.9/site-packages (from requests->Bio) (2021.10.8)\n",
      "Requirement already satisfied: charset-normalizer~=2.0.0 in /Users/radakovic/opt/anaconda3/lib/python3.9/site-packages (from requests->Bio) (2.0.4)\n",
      "Requirement already satisfied: urllib3<1.27,>=1.21.1 in /Users/radakovic/opt/anaconda3/lib/python3.9/site-packages (from requests->Bio) (1.26.7)\n"
     ]
    }
   ],
   "source": [
    "#IMPORTS\n",
    "#Install+Import Packages\n",
    "!pip install mechanize\n",
    "import random\n",
    "import re\n",
    "import mechanize\n",
    "import numpy as np\n",
    "from random import *\n",
    "import matplotlib.pyplot as plt\n",
    "!pip install Bio\n",
    "from Bio import SeqIO\n",
    "from Bio.Seq import Seq\n",
    "from collections import Counter \n",
    "from Bio.Cluster import kcluster\n",
    "import statistics\n",
    "import matplotlib.pyplot as plt\n",
    "from sklearn.cluster import KMeans\n",
    "from sklearn.metrics import silhouette_score\n",
    "from sklearn.preprocessing import StandardScaler\n",
    "import difflib\n",
    "import seaborn as sns; sns.set_theme()\n",
    "from collections import defaultdict\n",
    "import collections\n",
    "from mpl_toolkits.mplot3d import Axes3D\n",
    "from pylab import *\n",
    "from collections import OrderedDict\n",
    "import matplotlib.pyplot as plt\n",
    "from itertools import filterfalse\n",
    "from matplotlib.pyplot import figure\n",
    "import scipy.stats as stats\n",
    "import pylab\n",
    "from itertools import permutations\n",
    "#!pip install ipython-autotime"
   ]
  },
  {
   "cell_type": "code",
   "execution_count": 2,
   "id": "d3c69bb9",
   "metadata": {},
   "outputs": [],
   "source": [
    "#Upload Data and Define Parameters\n",
    "gly_aa = open('/Users/radakovic/Library/CloudStorage/OneDrive-DepartmentofMolecularBiology-MGH/Szostak lab/Szostak Lab/RNA-Peptide Conjugates/Sequencing/Fastq/CP 1.6/Rep2/Hydro-gly_S4_L001_R1_001.fastq').readlines()\n",
    "\n",
    "ctrl = open('/Users/radakovic/Library/CloudStorage/OneDrive-DepartmentofMolecularBiology-MGH/Szostak lab/Szostak Lab/RNA-Peptide Conjugates/Sequencing/Fastq/CP 1.6/Rep2/Drop-ctrl_S2_L001_R1_001.fastq').readlines()"
   ]
  },
  {
   "cell_type": "code",
   "execution_count": 6,
   "id": "7c64fda2",
   "metadata": {},
   "outputs": [],
   "source": [
    "#Upload Data and Define Parameters\n",
    "file_type = '.fastq'\n",
    "\n",
    "#Take the reverse complement? Enter 'yes' or 'no'\n",
    "rc = 'no'\n",
    "\n",
    "#Quality Cutoff - what fraction of positions should have <1% error probability?\n",
    "quality_cutoff = 0.9\n",
    "\n",
    "#construct 9a\n",
    "#Position motif1 starts at\n",
    "motif_start = 1\n",
    "#Motif1 define\n",
    "motif = 'GCGAGGACC'\n",
    "#Position motif2 starts at\n",
    "motif2_start = 14\n",
    "#Motif2 define\n",
    "motif2 = 'AGATCGGAAGAGCACACGTCT'\n",
    "#ctrl motif 2 starts at\n",
    "ctrlmotif2_start = 14\n",
    "#ctrlmotif2 define\n",
    "ctrlmotif2 = 'AGATCGGAAGAGCACACGTCT'"
   ]
  },
  {
   "cell_type": "code",
   "execution_count": 7,
   "id": "2394871f",
   "metadata": {},
   "outputs": [],
   "source": [
    "#functions for the initial processing of sequences\n",
    "\n",
    "def preprocess_seqs(list_of_seqs):\n",
    "\n",
    "    if file_type == '.fastq':\n",
    "        seqs = list_of_seqs[1::4]\n",
    "        qualities = list_of_seqs[3::4]\n",
    "        print('Total seqs: '+str(len(seqs)))\n",
    "\n",
    "        #Filter by quality\n",
    "        high_quality = []\n",
    "        acceptable_quals_1_percent_error = [5,6,7,8,9,':',';', '<', '=', '>', '?', '@', 'A', 'B', 'C', 'D', 'E', 'F', 'G', 'H', 'I', 'J', 'K']\n",
    "        for seq in range(len(qualities)):\n",
    "            overlap=0\n",
    "            for char in list(set(qualities[seq]).intersection(acceptable_quals_1_percent_error)):\n",
    "                overlap+=qualities[seq].count(char)\n",
    "            if overlap/len(qualities[1])>quality_cutoff:\n",
    "                high_quality.append(seqs[seq].strip(\"\\n\"))\n",
    "        print('High quality seqs: '+str(len(high_quality)))\n",
    "        \n",
    "    #Take RC if desired\n",
    "    pre_trim = []\n",
    "    if rc == 'yes':\n",
    "        rc_seqs = []\n",
    "        for sequence in high_quality:\n",
    "            rc_seqs.append(str(Seq(sequence).reverse_complement()).strip('\\n')) #reverse_complement is imported from one of the packages above\n",
    "        pre_trim = rc_seqs\n",
    "    else:\n",
    "        for sequence in high_quality:\n",
    "            pre_trim.append(str(Seq(sequence)).strip('\\n'))\n",
    "    if rc == 'yes':\n",
    "        print('Reverse Comp = '+str(rc)) \n",
    "\n",
    "    #Trim to keep only seqs with constant region\n",
    "    trimmed = []\n",
    "    for seq in pre_trim:\n",
    "        if motif in seq:\n",
    "            if motif2 in seq:\n",
    "                trimmed.append(seq[(motif_start-1)+len(motif):(motif2_start-1)]) #the -1 accounts for indexing starting at 0 in python. dont mess with this\n",
    "    print('Seqs after trimming: '+str(len(trimmed))) \n",
    "    \n",
    "    #All processed seqs\n",
    "    processed_seqs = trimmed\n",
    "    #Unique seqs\n",
    "    processed_seqs_unique = list(set(trimmed))\n",
    "    \n",
    "    return processed_seqs, processed_seqs_unique\n",
    "\n",
    "\n",
    "def preprocess_ctrl_seqs(list_of_seqs):\n",
    "        \n",
    "    if file_type == '.fastq':\n",
    "        seqs = list_of_seqs[1::4]\n",
    "        qualities = list_of_seqs[3::4]\n",
    "        print('Ctrl Total seqs: '+str(len(seqs)))\n",
    "\n",
    "        #Filter by quality\n",
    "        high_quality = []\n",
    "        acceptable_quals_1_percent_error = [5,6,7,8,9,':',';', '<', '=', '>', '?', '@', 'A', 'B', 'C', 'D', 'E', 'F', 'G', 'H', 'I', 'J', 'K']\n",
    "        for seq in range(len(qualities)):\n",
    "            overlap=0\n",
    "            for char in list(set(qualities[seq]).intersection(acceptable_quals_1_percent_error)):\n",
    "                overlap+=qualities[seq].count(char)\n",
    "            if overlap/len(qualities[1])>quality_cutoff:\n",
    "                high_quality.append(seqs[seq].strip(\"\\n\"))\n",
    "        print('Ctrl High quality seqs: '+str(len(high_quality)))\n",
    "        \n",
    "    #Take RC if desired\n",
    "    pre_trim = []\n",
    "    if rc == 'yes':\n",
    "        rc_seqs = []\n",
    "        for sequence in high_quality:\n",
    "            rc_seqs.append(str(Seq(sequence).reverse_complement()).strip('\\n')) #reverse_complement is imported from one of the packages above\n",
    "        pre_trim = rc_seqs\n",
    "    else:\n",
    "        for sequence in high_quality:\n",
    "            pre_trim.append(str(Seq(sequence)).strip('\\n'))\n",
    "    if rc == 'yes':\n",
    "        print('Reverse Comp = '+str(rc)) \n",
    "\n",
    "    #Trim to keep only seqs with constant region\n",
    "    trimmed = []\n",
    "    for seq in pre_trim:\n",
    "        if motif in seq:\n",
    "            if ctrlmotif2 in seq:\n",
    "                trimmed.append(seq[(motif_start-1)+len(motif):(motif2_start-1)]) #the -1 accounts for indexing starting at 0 in python. dont mess with this\n",
    "    print('Ctrl Seqs after trimming: '+str(len(trimmed))) \n",
    "    \n",
    "    #All processed seqs\n",
    "    processed_ctrl_seqs = trimmed\n",
    "    #Unique seqs\n",
    "    processed_ctrl_seqs_unique = list(set(trimmed))\n",
    "    \n",
    "    return processed_ctrl_seqs, processed_ctrl_seqs_unique\n",
    "\n"
   ]
  },
  {
   "cell_type": "code",
   "execution_count": 8,
   "id": "20b8821e",
   "metadata": {},
   "outputs": [
    {
     "name": "stdout",
     "output_type": "stream",
     "text": [
      "Total seqs: 1561120\n",
      "High quality seqs: 1426381\n",
      "Seqs after trimming: 448\n",
      "Unique AA seqs 167\n",
      "[('GCGC', 19), ('AGAT', 17), ('AGCA', 16), ('GCAA', 14), ('ATGC', 8), ('CATA', 8), ('CGAC', 7), ('TGCC', 7), ('GAGC', 7), ('AGCT', 7)]\n"
     ]
    }
   ],
   "source": [
    "#amino acid sequences processed\n",
    "gly_processed_seqs, gly_processed_seqs_unique = preprocess_seqs(gly_aa)\n",
    "gly_top_seqs = Counter(gly_processed_seqs).most_common(1000)\n",
    "print('Unique AA seqs '+str(len(gly_processed_seqs_unique)))\n",
    "print(gly_top_seqs[:10])"
   ]
  },
  {
   "cell_type": "code",
   "execution_count": 9,
   "id": "6544671d",
   "metadata": {},
   "outputs": [
    {
     "name": "stdout",
     "output_type": "stream",
     "text": [
      "Ctrl Total seqs: 2701385\n",
      "Ctrl High quality seqs: 2459878\n",
      "Ctrl Seqs after trimming: 2966\n",
      "Unique control seqs 253\n",
      "[('AGAT', 182), ('TGGA', 41), ('AGGA', 40), ('CAGA', 38), ('GGAC', 35), ('TAGC', 33), ('GAAC', 33), ('AGTA', 32), ('TGTA', 32), ('TGGC', 31)]\n"
     ]
    }
   ],
   "source": [
    "#control sequences processed\n",
    "ctrl_processed_ctrl_seqs, ctrl_processed_ctrl_seqs_unique = preprocess_ctrl_seqs(ctrl)\n",
    "ctrl_top_seqs = Counter(ctrl_processed_ctrl_seqs).most_common(1000)\n",
    "print('Unique control seqs '+str(len(ctrl_processed_ctrl_seqs_unique)))\n",
    "print(ctrl_top_seqs[:10])"
   ]
  },
  {
   "cell_type": "code",
   "execution_count": 15,
   "id": "fa366726",
   "metadata": {},
   "outputs": [
    {
     "name": "stdout",
     "output_type": "stream",
     "text": [
      "[('GCGC', 37.0), ('GCAA', 20.0), ('AGCA', 14.0), ('CATA', 13.0), ('GCAC', 10.0), ('AGCT', 10.0), ('GCTA', 9.0), ('CGAG', 7.0), ('CATT', 7.0), ('CGAC', 7.0)]\n"
     ]
    }
   ],
   "source": [
    "#normalization of amino acid sequences\n",
    "ctrl_top_seqs_dict = dict(ctrl_top_seqs)\n",
    "ctrl_top_seqs_dict = {k: v / 11.72 for k, v in ctrl_top_seqs_dict.items() if v > 5}\n",
    "gly_top_seqs_dict = dict(gly_top_seqs)\n",
    "\n",
    "normalized_gly_seqs = {key: gly_top_seqs_dict[key] // ctrl_top_seqs_dict.get(key, 0) if ctrl_top_seqs_dict.get(key,0) != 0 else 0\n",
    "                        for key in gly_top_seqs_dict.keys()}\n",
    "sorted_normalized_gly_seqs = sorted(normalized_gly_seqs.items(), key=lambda item: item[1])[::-1]\n",
    "print(sorted_normalized_gly_seqs[:10])\n",
    "\n",
    "import pandas as pd\n",
    "df = pd.DataFrame(sorted_normalized_gly_seqs, columns =['Sequence', 'Normalized counts'])\n",
    "df.to_excel(r'/Users/radakovic/Library/CloudStorage/OneDrive-DepartmentofMolecularBiology-MGH/Szostak lab/Szostak Lab/RNA-Peptide Conjugates/Sequencing/Fastq/Code/CP1-6_4nt_Hydro.xlsx', index = False)"
   ]
  },
  {
   "cell_type": "code",
   "execution_count": 11,
   "id": "c6faf101",
   "metadata": {},
   "outputs": [
    {
     "data": {
      "text/plain": [
       "<Figure size 432x288 with 0 Axes>"
      ]
     },
     "metadata": {},
     "output_type": "display_data"
    },
    {
     "data": {
      "image/png": "[encoded data removed]",
      "text/plain": [
       "<Figure size 2000x1000 with 1 Axes>"
      ]
     },
     "metadata": {},
     "output_type": "display_data"
    }
   ],
   "source": [
    "#Sutherland distribution plot all seqs with >1 reads\n",
    "plt.figure(facecolor=\"white\")\n",
    "figure(figsize=(10, 5), dpi=200)\n",
    "ordered_counts_aa = sorted(dict(Counter(normalized_gly_seqs)).values(), reverse=True)\n",
    "plt.scatter(range(1,len([i for i in ordered_counts_aa if i > 1])+1), [i for i in ordered_counts_aa if i > 1], color = 'purple', label = 'All AA Sequences')\n",
    "plt.xlabel('Sequence Rank', fontsize = 17)\n",
    "plt.ylabel('Reads', fontsize = 17)\n",
    "plt.yscale('log')\n",
    "plt.ylim([1, 100])\n",
    "plt.savefig('/Users/radakovic/Library/CloudStorage/OneDrive-DepartmentofMolecularBiology-MGH/Szostak lab/Szostak Lab/RNA-Peptide Conjugates/Sequencing/Fastq/Code/4nt_Hydro.png', bbox_inches='tight')\n",
    "\n"
   ]
  },
  {
   "cell_type": "code",
   "execution_count": 12,
   "id": "f38104ae",
   "metadata": {},
   "outputs": [],
   "source": [
    "#heatmap function\n",
    "def make_heatmap(seqs_to_analyze):\n",
    "  heatmap_data = []\n",
    "\n",
    "  for position in range(len(seqs_to_analyze[0])):\n",
    "      options = []\n",
    "      for seq in seqs_to_analyze:\n",
    "          options.append(seq[position])\n",
    "      raw_options = [(k, v) for k, v in Counter(options).items()]\n",
    "      nuc_list = []\n",
    "      for element in raw_options:\n",
    "          nuc_list.append(element[0])\n",
    "      if 'A' not in nuc_list:\n",
    "            raw_options.append(('A', 0))\n",
    "      if 'C' not in nuc_list:\n",
    "            raw_options.append(('C', 0))\n",
    "      if 'G' not in nuc_list:\n",
    "            raw_options.append(('G', 0))\n",
    "      if 'T' not in nuc_list:\n",
    "            raw_options.append(('T', 0))    \n",
    "      raw_options = sorted(raw_options, key=lambda x: x[0])        \n",
    "      \n",
    "      heatmap_data_position = []\n",
    "      for element in raw_options:\n",
    "          heatmap_data_position.append(element[1]/len(seqs_to_analyze))\n",
    "      heatmap_data.append(heatmap_data_position)\n",
    "\n",
    "\n",
    "  fig, ax = plt.subplots(figsize = (30,6));\n",
    "  im = ax.imshow(np.array(heatmap_data).transpose(), interpolation='nearest', cmap='YlOrRd');\n",
    "  im.set_clim(0,1)\n",
    "  cbar = fig.colorbar(im, orientation='vertical',)\n",
    "  y_label_list = ['', 'A', 'C', 'G', 'T', ''];\n",
    "  ax.set_yticks(range(-1, 1+len(heatmap_data[0])));\n",
    "  ax.set_yticklabels(y_label_list);\n",
    "  ax.set_xticks(range(len(heatmap_data)));\n",
    "  ax.set_xticklabels(range(1, len(heatmap_data)+1));\n",
    "  ax.grid(False)\n",
    "  plt.show()\n",
    "  return heatmap_data"
   ]
  },
  {
   "cell_type": "code",
   "execution_count": 13,
   "id": "853f75eb",
   "metadata": {},
   "outputs": [
    {
     "data": {
      "image/png": "[encoded data removed]",
      "text/plain": [
       "<Figure size 2160x432 with 2 Axes>"
      ]
     },
     "metadata": {},
     "output_type": "display_data"
    },
    {
     "data": {
      "text/plain": [
       "[[0.29631828978622327,\n",
       "  0.17814726840855108,\n",
       "  0.23574821852731592,\n",
       "  0.28978622327790976],\n",
       " [0.27019002375296913,\n",
       "  0.13568883610451307,\n",
       "  0.38271971496437057,\n",
       "  0.21140142517814728],\n",
       " [0.333729216152019,\n",
       "  0.16448931116389548,\n",
       "  0.29572446555819476,\n",
       "  0.20605700712589073],\n",
       " [0.30581947743467935,\n",
       "  0.28533254156769594,\n",
       "  0.1742874109263658,\n",
       "  0.2345605700712589]]"
      ]
     },
     "execution_count": 13,
     "metadata": {},
     "output_type": "execute_result"
    }
   ],
   "source": [
    "#Find prevalence of sequences in control\n",
    "#ctrl prevalence\n",
    "motif_ctrl_1 = 'GCGAGGACC'\n",
    "len_half_1 = 4\n",
    "half_1 = []\n",
    "for seq in ctrl[1::4]:\n",
    "    if motif_ctrl_1 in seq:\n",
    "        sub = seq[seq.index(motif_ctrl_1)+len(motif_ctrl_1):seq.index(motif_ctrl_1)+len(motif_ctrl_1)+len_half_1]\n",
    "        if len(sub) == 4:\n",
    "            half_1.append(sub)\n",
    "\n",
    "make_heatmap(half_1)"
   ]
  }
 ],
 "metadata": {
  "kernelspec": {
   "display_name": "Python 3",
   "language": "python",
   "name": "python3"
  },
  "language_info": {
   "codemirror_mode": {
    "name": "ipython",
    "version": 3
   },
   "file_extension": ".py",
   "mimetype": "text/x-python",
   "name": "python",
   "nbconvert_exporter": "python",
   "pygments_lexer": "ipython3",
   "version": "3.8.8"
  }
 },
 "nbformat": 4,
 "nbformat_minor": 5
}
