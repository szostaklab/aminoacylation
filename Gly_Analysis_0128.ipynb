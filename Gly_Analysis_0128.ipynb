{
 "cells": [
  {
   "cell_type": "code",
   "execution_count": 1,
   "id": "30a8a163",
   "metadata": {},
   "outputs": [
    {
     "name": "stdout",
     "output_type": "stream",
     "text": [
      "Requirement already satisfied: mechanize in /Users/zoeweiss/opt/anaconda3/lib/python3.8/site-packages (0.4.7)\n",
      "Requirement already satisfied: html5lib>=0.999999999 in /Users/zoeweiss/opt/anaconda3/lib/python3.8/site-packages (from mechanize) (1.1)\n",
      "Requirement already satisfied: six>=1.9 in /Users/zoeweiss/opt/anaconda3/lib/python3.8/site-packages (from html5lib>=0.999999999->mechanize) (1.15.0)\n",
      "Requirement already satisfied: webencodings in /Users/zoeweiss/opt/anaconda3/lib/python3.8/site-packages (from html5lib>=0.999999999->mechanize) (0.5.1)\n",
      "Requirement already satisfied: Bio in /Users/zoeweiss/opt/anaconda3/lib/python3.8/site-packages (1.3.2)\n",
      "Requirement already satisfied: biopython>=1.79 in /Users/zoeweiss/opt/anaconda3/lib/python3.8/site-packages (from Bio) (1.79)\n",
      "Requirement already satisfied: mygene in /Users/zoeweiss/opt/anaconda3/lib/python3.8/site-packages (from Bio) (3.2.2)\n",
      "Requirement already satisfied: tqdm in /Users/zoeweiss/opt/anaconda3/lib/python3.8/site-packages (from Bio) (4.59.0)\n",
      "Requirement already satisfied: requests in /Users/zoeweiss/opt/anaconda3/lib/python3.8/site-packages (from Bio) (2.25.1)\n",
      "Requirement already satisfied: numpy in /Users/zoeweiss/opt/anaconda3/lib/python3.8/site-packages (from biopython>=1.79->Bio) (1.20.1)\n",
      "Requirement already satisfied: biothings-client>=0.2.6 in /Users/zoeweiss/opt/anaconda3/lib/python3.8/site-packages (from mygene->Bio) (0.2.6)\n",
      "Requirement already satisfied: chardet<5,>=3.0.2 in /Users/zoeweiss/opt/anaconda3/lib/python3.8/site-packages (from requests->Bio) (4.0.0)\n",
      "Requirement already satisfied: idna<3,>=2.5 in /Users/zoeweiss/opt/anaconda3/lib/python3.8/site-packages (from requests->Bio) (2.10)\n",
      "Requirement already satisfied: urllib3<1.27,>=1.21.1 in /Users/zoeweiss/opt/anaconda3/lib/python3.8/site-packages (from requests->Bio) (1.26.4)\n",
      "Requirement already satisfied: certifi>=2017.4.17 in /Users/zoeweiss/opt/anaconda3/lib/python3.8/site-packages (from requests->Bio) (2020.12.5)\n"
     ]
    }
   ],
   "source": [
    "#IMPORTS\n",
    "#Install+Import Packages\n",
    "!pip install mechanize\n",
    "import random\n",
    "import re\n",
    "import mechanize\n",
    "import numpy as np\n",
    "from random import *\n",
    "import matplotlib.pyplot as plt\n",
    "!pip install Bio\n",
    "from Bio import SeqIO\n",
    "from Bio.Seq import Seq\n",
    "from collections import Counter \n",
    "from Bio.Cluster import kcluster\n",
    "import statistics\n",
    "import matplotlib.pyplot as plt\n",
    "from sklearn.cluster import KMeans\n",
    "from sklearn.metrics import silhouette_score\n",
    "from sklearn.preprocessing import StandardScaler\n",
    "import difflib\n",
    "import seaborn as sns; sns.set_theme()\n",
    "from collections import defaultdict\n",
    "import collections\n",
    "from mpl_toolkits.mplot3d import Axes3D\n",
    "from pylab import *\n",
    "from collections import OrderedDict\n",
    "import matplotlib.pyplot as plt\n",
    "from itertools import filterfalse\n",
    "\n",
    "#!pip install ipython-autotime"
   ]
  },
  {
   "cell_type": "code",
   "execution_count": 2,
   "id": "fd92496d",
   "metadata": {},
   "outputs": [],
   "source": [
    "#Upload Data and Define Parameters\n",
    "\n",
    "file_type = '.fastq'\n",
    "\n",
    "aa_sequences = open('/Users/zoeweiss/Desktop/Desktop/lab(s)/szostak/spring 2022/aminoacylation/CP1-1-gly_S3_L001_R1_001.fastq').readlines()\n",
    "rna_only_sequences = open('/Users/zoeweiss/Desktop/Desktop/lab(s)/szostak/spring 2022/aminoacylation/CP1-1-gly-NaOH_S4_L001_R1_001.fastq').readlines()\n",
    "\n",
    "#Take the reverse complement? Enter 'yes' or 'no'\n",
    "rc = 'no'\n",
    "\n",
    "#Quality Cutoff - what fraction of positions should have <1% error probability?\n",
    "quality_cutoff = 0.9\n",
    "\n",
    "\n",
    "#Position motif1 starts at\n",
    "motif_start = 1\n",
    "#Motif1 define\n",
    "motif = 'AAA'\n",
    "#Position motif2 starts at\n",
    "motif2_start = 23\n",
    "#Motif2 define\n",
    "motif2 = 'AAAAGATCGGAAGAGCACACGTCT'\n",
    "\n"
   ]
  },
  {
   "cell_type": "code",
   "execution_count": 3,
   "id": "3767be65",
   "metadata": {},
   "outputs": [],
   "source": [
    "def preprocess_seqs(list_of_seqs):\n",
    "\n",
    "    if file_type == '.fastq':\n",
    "        seqs = list_of_seqs[1::4]\n",
    "        qualities = list_of_seqs[3::4]\n",
    "        print('Total seqs: '+str(len(seqs)))\n",
    "\n",
    "        #Filter by quality\n",
    "        high_quality = []\n",
    "        acceptable_quals_1_percent_error = [5,6,7,8,9,':',';', '<', '=', '>', '?', '@', 'A', 'B', 'C', 'D', 'E', 'F', 'G', 'H', 'I', 'J', 'K']\n",
    "        for seq in range(len(qualities)):\n",
    "            overlap=0\n",
    "            for char in list(set(qualities[seq]).intersection(acceptable_quals_1_percent_error)):\n",
    "                overlap+=qualities[seq].count(char)\n",
    "            if overlap/len(qualities[1])>quality_cutoff:\n",
    "                high_quality.append(seqs[seq].strip(\"\\n\"))\n",
    "        print('High quality seqs: '+str(len(high_quality)))\n",
    "    \n",
    "    if file_type == '.fasta':\n",
    "        high_quality = list_of_seqs[1::2]\n",
    "        print('Total seqs: '+str(len(high_quality)))\n",
    "    \n",
    "    #Take RC if desired\n",
    "    pre_trim = []\n",
    "    if rc == 'yes':\n",
    "        rc_seqs = []\n",
    "        for sequence in high_quality:\n",
    "            rc_seqs.append(str(Seq(sequence).reverse_complement()).strip('\\n'))\n",
    "        pre_trim = rc_seqs\n",
    "    else:\n",
    "        for sequence in high_quality:\n",
    "            pre_trim.append(str(Seq(sequence)).strip('\\n'))\n",
    "    if rc == 'yes':\n",
    "        print('Reverse Comp = '+str(rc)) \n",
    "\n",
    "    #Trim to keep only seqs with constant region\n",
    "    trimmed = []\n",
    "    for seq in pre_trim:\n",
    "        if motif in seq:\n",
    "            if motif2 in seq:\n",
    "                if (motif2_start - motif_start - len(motif)) == len(seq[(motif_start-1)+len(motif):(motif2_start-1)]):\n",
    "                    trimmed.append(seq[(motif_start-1)+len(motif):(motif2_start-1)])\n",
    "    print('Seqs after trimming: '+str(len(trimmed))) \n",
    "    \n",
    "    #All processed seqs\n",
    "    processed_seqs = trimmed\n",
    "    #Unique seqs\n",
    "    processed_seqs_unique = list(set(trimmed))\n",
    "    \n",
    "    return processed_seqs, processed_seqs_unique\n",
    "\n",
    "\n",
    "def rscape_format(num_seqs_to_analyze, top_seqs):\n",
    "    #Create file for R-Scape Covariation\n",
    "    f = open(\"/Users/zoeweiss/Desktop/Desktop/lab(s)/szostak/spring 2022/aminoacylation/gly_rscape\"+str(num_seqs_to_analyze)+\".txt\", \"w\")\n",
    "    f.write('# STOCKHOLM 1.0\\n')\n",
    "    f.write('\\n')\n",
    "    counter = 0\n",
    "    for seq in top_seqs[:num_seqs_to_analyze]:\n",
    "      counter+=1\n",
    "      f.write(str(counter)+'\\t'+seq[0]+'\\n')\n",
    "    f.write('#=GC SS_cons\t(((((((((,)))))))))\\n')\n",
    "    f.write('//')\n",
    "    \n",
    "def make_heatmap_bp(position_lhs, aa_not_rna_top_seqs):\n",
    "    print(str(position_lhs+1)+'/'+ str(len(aa_not_rna_top_seqs[0])-position_lhs))\n",
    "    bps = []\n",
    "    for seq in range(len(aa_not_rna_top_seqs)):\n",
    "        bps.append([aa_not_rna_top_seqs[seq][0][position_lhs], aa_not_rna_top_seqs[seq][0][len(aa_not_rna_top_seqs[seq][0])-position_lhs-1]])\n",
    "    bp_options = [['A', 'A'],['A', 'C'],['A', 'G'],['A', 'T'],['C', 'A'],['C', 'C'],['C', 'G'],['C', 'T'],['G', 'A'],['G', 'C'],['G', 'G'],['G', 'T'],['T', 'A'],['T', 'C'],['T', 'G'],['T', 'T']]\n",
    "    option_counts = []\n",
    "    for option in bp_options:\n",
    "        option_counts.append(bps.count(option))\n",
    "    \n",
    "    xticks = ['A','C','G','T']\n",
    "    yticks = ['A','C','G','T']\n",
    "    sns.heatmap(np.array(option_counts).reshape(4,4), cmap='coolwarm', xticklabels=xticks, yticklabels=yticks)\n",
    "    print(option_counts)\n",
    "    plt.title(str(position_lhs+1)+'/'+ str(len(aa_not_rna_top_seqs[0])-position_lhs))\n",
    "    plt.show()\n",
    "    "
   ]
  },
  {
   "cell_type": "code",
   "execution_count": 4,
   "id": "f04e5b1e",
   "metadata": {},
   "outputs": [
    {
     "name": "stdout",
     "output_type": "stream",
     "text": [
      "Total seqs: 2818273\n",
      "High quality seqs: 2725931\n",
      "Seqs after trimming: 2313803\n",
      "[('AGATCGGAAGAGCACACGT', 6358), ('GCCGGCAAAAGATCGGAAG', 729), ('CAAAAGATCGGAAGAGCAC', 284), ('GCCGGGGGGGCAAAAGATC', 267), ('GCCGGGGGGGGCAAAAGAT', 262), ('GCCGGGCAAAAGATCGGAA', 256), ('GCCGGGGGGCAAAAGATCG', 249), ('AAAAGATCGGAAGAGCACA', 236), ('GCCGGGGCAAAAGATCGGA', 181), ('GCCGGGGCGGCAAAAGATC', 170)]\n"
     ]
    }
   ],
   "source": [
    "#AA CONTROL\n",
    "#STATISTICS (note: this takes a few mins per round)\n",
    "aa_ctrl_processed_seqs, aa_ctrl_processed_seqs_unique = preprocess_seqs(aa_sequences)\n",
    "aa_ctrl_top_seqs = Counter(aa_ctrl_processed_seqs).most_common(100)\n",
    "print(aa_ctrl_top_seqs[:10])"
   ]
  },
  {
   "cell_type": "code",
   "execution_count": 5,
   "id": "1cdb422b",
   "metadata": {},
   "outputs": [
    {
     "name": "stdout",
     "output_type": "stream",
     "text": [
      "Total seqs: 681129\n",
      "High quality seqs: 651333\n",
      "Seqs after trimming: 480551\n",
      "[('AGATCGGAAGAGCACACGT', 4113), ('GCCGGCAAAAGATCGGAAG', 843), ('GCCAAAAGATCGGAAGAGC', 257), ('ACCGGCAAAAGATCGGAAG', 145), ('GCCTGGCAAAAGATCGGAA', 140), ('GCCGGGCAAAAGATCGGAA', 135), ('GCCCGGCAAAAGATCGGAA', 135), ('GCCGGGTGGCAAAAGATCG', 128), ('GCCGGGGGTGGCAAAAGAT', 112), ('GCAAAAGATCGGAAGAGCA', 108)]\n"
     ]
    }
   ],
   "source": [
    "#RNA CONTROL\n",
    "#STATISTICS (note: this takes a few mins per round)\n",
    "rna_ctrl_processed_seqs, rna_ctrl_processed_seqs_unique = preprocess_seqs(rna_only_sequences)\n",
    "rna_ctrl_top_seqs = Counter(rna_ctrl_processed_seqs).most_common(100)\n",
    "print(rna_ctrl_top_seqs[:10])\n",
    "\n"
   ]
  },
  {
   "cell_type": "code",
   "execution_count": 6,
   "id": "017eeefd",
   "metadata": {},
   "outputs": [
    {
     "name": "stdout",
     "output_type": "stream",
     "text": [
      "Seqs in AA but not RNA: 2164921\n",
      "[('GCCTGATTGTAGATTGGGC', 88), ('GCCAGTTTGTAGAATTGGC', 61), ('GCCGTCTTGTAGAGAGGGC', 61), ('GCCTGTTTGTAGAATGGGC', 60), ('GCCGGAGCGTAAGTGAGGC', 59), ('GCCGGTCGTGGCGATTGGC', 56), ('GCCGAGTTGTAGATGAGGC', 52), ('GCCGGAGGGGAACTCTGGC', 48), ('GCCAGTTTGAGGGATTGGC', 47), ('GCCGGATTGAGGGTTCGGC', 46)]\n",
      "R-Scape file saved\n"
     ]
    }
   ],
   "source": [
    "#AA NOT RNA \n",
    "#STATISTICS (note: this takes a few mins per round)\n",
    "\n",
    "aa_rna_no_overlap = list(filterfalse(set(rna_ctrl_processed_seqs).__contains__, aa_ctrl_processed_seqs))\n",
    "\n",
    "print('Seqs in AA but not RNA: '+str(round(len(aa_rna_no_overlap))))\n",
    "\n",
    "aa_not_rna_top_seqs = Counter(aa_rna_no_overlap).most_common(10000)\n",
    "print(aa_not_rna_top_seqs[:10])\n",
    "\n",
    "#Save file for R-Scape\n",
    "rscape_format(1002, aa_not_rna_top_seqs)\n",
    "print('R-Scape file saved')"
   ]
  },
  {
   "cell_type": "code",
   "execution_count": 7,
   "id": "4832eca5",
   "metadata": {},
   "outputs": [
    {
     "name": "stdout",
     "output_type": "stream",
     "text": [
      "1/2\n",
      "[0, 0, 0, 0, 0, 0, 0, 0, 64, 9928, 5, 3, 0, 0, 0, 0]\n"
     ]
    },
    {
     "data": {
      "image/png": "[encoded data removed]",
      "text/plain": [
       "<Figure size 432x288 with 2 Axes>"
      ]
     },
     "metadata": {},
     "output_type": "display_data"
    },
    {
     "name": "stdout",
     "output_type": "stream",
     "text": [
      "2/1\n",
      "[0, 0, 0, 0, 10, 55, 9932, 2, 1, 0, 0, 0, 0, 0, 0, 0]\n"
     ]
    },
    {
     "data": {
      "image/png": "[encoded data removed]",
      "text/plain": [
       "<Figure size 432x288 with 2 Axes>"
      ]
     },
     "metadata": {},
     "output_type": "display_data"
    },
    {
     "name": "stdout",
     "output_type": "stream",
     "text": [
      "3/0\n",
      "[1, 0, 0, 0, 11, 1, 9985, 1, 0, 0, 1, 0, 0, 0, 0, 0]\n"
     ]
    },
    {
     "data": {
      "image/png": "[encoded data removed]",
      "text/plain": [
       "<Figure size 432x288 with 2 Axes>"
      ]
     },
     "metadata": {},
     "output_type": "display_data"
    },
    {
     "name": "stdout",
     "output_type": "stream",
     "text": [
      "4/-1\n",
      "[7, 8, 59, 1075, 1, 7, 311, 1, 484, 1441, 1202, 2786, 1032, 6, 1563, 17]\n"
     ]
    },
    {
     "data": {
      "image/png": "[encoded data removed]",
      "text/plain": [
       "<Figure size 432x288 with 2 Axes>"
      ]
     },
     "metadata": {},
     "output_type": "display_data"
    },
    {
     "name": "stdout",
     "output_type": "stream",
     "text": [
      "5/-2\n",
      "[23, 5, 170, 1022, 3, 2, 572, 2, 443, 1474, 431, 2058, 2464, 24, 1279, 28]\n"
     ]
    },
    {
     "data": {
      "image/png": "[encoded data removed]",
      "text/plain": [
       "<Figure size 432x288 with 2 Axes>"
      ]
     },
     "metadata": {},
     "output_type": "display_data"
    },
    {
     "name": "stdout",
     "output_type": "stream",
     "text": [
      "6/-3\n",
      "[42, 48, 471, 2007, 11, 25, 1159, 12, 288, 740, 330, 838, 2284, 84, 1560, 101]\n"
     ]
    },
    {
     "data": {
      "image/png": "[encoded data removed]",
      "text/plain": [
       "<Figure size 432x288 with 2 Axes>"
      ]
     },
     "metadata": {},
     "output_type": "display_data"
    },
    {
     "name": "stdout",
     "output_type": "stream",
     "text": [
      "7/-4\n",
      "[98, 2, 357, 971, 82, 2, 1522, 19, 625, 382, 1006, 667, 2124, 9, 2048, 86]\n"
     ]
    },
    {
     "data": {
      "image/png": "[encoded data removed]",
      "text/plain": [
       "<Figure size 432x288 with 2 Axes>"
      ]
     },
     "metadata": {},
     "output_type": "display_data"
    },
    {
     "name": "stdout",
     "output_type": "stream",
     "text": [
      "8/-5\n",
      "[102, 22, 692, 256, 124, 2, 1123, 18, 293, 1217, 2177, 437, 526, 78, 2649, 284]\n"
     ]
    },
    {
     "data": {
      "image/png": "[encoded data removed]",
      "text/plain": [
       "<Figure size 432x288 with 2 Axes>"
      ]
     },
     "metadata": {},
     "output_type": "display_data"
    }
   ],
   "source": [
    "#Show Covariation\n",
    "for i in range(8):\n",
    "    make_heatmap_bp(i, aa_not_rna_top_seqs)"
   ]
  },
  {
   "cell_type": "code",
   "execution_count": 16,
   "id": "10592cb1",
   "metadata": {},
   "outputs": [
    {
     "data": {
      "text/plain": [
       "44"
      ]
     },
     "execution_count": 16,
     "metadata": {},
     "output_type": "execute_result"
    }
   ],
   "source": [
    "rna_ctrl_processed_seqs.count('GCCGGGGCGGCAAAAGATC')"
   ]
  },
  {
   "cell_type": "code",
   "execution_count": null,
   "id": "e65adf7a",
   "metadata": {},
   "outputs": [],
   "source": []
  }
 ],
 "metadata": {
  "kernelspec": {
   "display_name": "Python 3",
   "language": "python",
   "name": "python3"
  },
  "language_info": {
   "codemirror_mode": {
    "name": "ipython",
    "version": 3
   },
   "file_extension": ".py",
   "mimetype": "text/x-python",
   "name": "python",
   "nbconvert_exporter": "python",
   "pygments_lexer": "ipython3",
   "version": "3.8.8"
  }
 },
 "nbformat": 4,
 "nbformat_minor": 5
}
