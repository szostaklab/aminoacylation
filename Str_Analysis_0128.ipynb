{
 "cells": [
  {
   "cell_type": "code",
   "execution_count": 1,
   "id": "de53531c",
   "metadata": {},
   "outputs": [
    {
     "name": "stdout",
     "output_type": "stream",
     "text": [
      "Requirement already satisfied: mechanize in /Users/zoeweiss/opt/anaconda3/lib/python3.8/site-packages (0.4.7)\n",
      "Requirement already satisfied: html5lib>=0.999999999 in /Users/zoeweiss/opt/anaconda3/lib/python3.8/site-packages (from mechanize) (1.1)\n",
      "Requirement already satisfied: webencodings in /Users/zoeweiss/opt/anaconda3/lib/python3.8/site-packages (from html5lib>=0.999999999->mechanize) (0.5.1)\n",
      "Requirement already satisfied: six>=1.9 in /Users/zoeweiss/opt/anaconda3/lib/python3.8/site-packages (from html5lib>=0.999999999->mechanize) (1.15.0)\n",
      "Requirement already satisfied: Bio in /Users/zoeweiss/opt/anaconda3/lib/python3.8/site-packages (1.3.2)\n",
      "Requirement already satisfied: mygene in /Users/zoeweiss/opt/anaconda3/lib/python3.8/site-packages (from Bio) (3.2.2)\n",
      "Requirement already satisfied: biopython>=1.79 in /Users/zoeweiss/opt/anaconda3/lib/python3.8/site-packages (from Bio) (1.79)\n",
      "Requirement already satisfied: tqdm in /Users/zoeweiss/opt/anaconda3/lib/python3.8/site-packages (from Bio) (4.59.0)\n",
      "Requirement already satisfied: requests in /Users/zoeweiss/opt/anaconda3/lib/python3.8/site-packages (from Bio) (2.25.1)\n",
      "Requirement already satisfied: numpy in /Users/zoeweiss/opt/anaconda3/lib/python3.8/site-packages (from biopython>=1.79->Bio) (1.20.1)\n",
      "Requirement already satisfied: biothings-client>=0.2.6 in /Users/zoeweiss/opt/anaconda3/lib/python3.8/site-packages (from mygene->Bio) (0.2.6)\n",
      "Requirement already satisfied: urllib3<1.27,>=1.21.1 in /Users/zoeweiss/opt/anaconda3/lib/python3.8/site-packages (from requests->Bio) (1.26.4)\n",
      "Requirement already satisfied: chardet<5,>=3.0.2 in /Users/zoeweiss/opt/anaconda3/lib/python3.8/site-packages (from requests->Bio) (4.0.0)\n",
      "Requirement already satisfied: certifi>=2017.4.17 in /Users/zoeweiss/opt/anaconda3/lib/python3.8/site-packages (from requests->Bio) (2020.12.5)\n",
      "Requirement already satisfied: idna<3,>=2.5 in /Users/zoeweiss/opt/anaconda3/lib/python3.8/site-packages (from requests->Bio) (2.10)\n"
     ]
    }
   ],
   "source": [
    "#IMPORTS\n",
    "#Install+Import Packages\n",
    "!pip install mechanize\n",
    "import random\n",
    "import re\n",
    "import mechanize\n",
    "import numpy as np\n",
    "from random import *\n",
    "import matplotlib.pyplot as plt\n",
    "!pip install Bio\n",
    "from Bio import SeqIO\n",
    "from Bio.Seq import Seq\n",
    "from collections import Counter \n",
    "from Bio.Cluster import kcluster\n",
    "import statistics\n",
    "import matplotlib.pyplot as plt\n",
    "from sklearn.cluster import KMeans\n",
    "from sklearn.metrics import silhouette_score\n",
    "from sklearn.preprocessing import StandardScaler\n",
    "import difflib\n",
    "import seaborn as sns; sns.set_theme()\n",
    "from collections import defaultdict\n",
    "import collections\n",
    "from mpl_toolkits.mplot3d import Axes3D\n",
    "from pylab import *\n",
    "from collections import OrderedDict\n",
    "import matplotlib.pyplot as plt\n",
    "#!pip install ipython-autotime"
   ]
  },
  {
   "cell_type": "code",
   "execution_count": 2,
   "id": "0f822018",
   "metadata": {},
   "outputs": [
    {
     "data": {
      "text/plain": [
       "'GTTCAGAGTTCTACAGTCCGACGATCAAA'"
      ]
     },
     "execution_count": 2,
     "metadata": {},
     "output_type": "execute_result"
    }
   ],
   "source": [
    "#Upload Data and Define Parameters\n",
    "\n",
    "file_type = '.fasta'\n",
    "\n",
    "aa_sequences = open('/Users/zoeweiss/Desktop/Desktop/lab(s)/szostak/spring 2022/aminoacylation/Str_AA_Merged_lowqual.fasta').readlines()\n",
    "rna_only_sequences = open('/Users/zoeweiss/Desktop/Desktop/lab(s)/szostak/spring 2022/aminoacylation/Str-NaOH_Merged_lowqual.fasta').readlines()\n",
    "\n",
    "#Take the reverse complement? Enter 'yes' or 'no'\n",
    "rc = 'no'\n",
    "\n",
    "#Quality Cutoff - what fraction of positions should have <1% error probability?\n",
    "quality_cutoff = 0.9\n",
    "\n",
    "forward_motif = 'GUUCAGAGUUCUACAGUCCGACGAUCAAA'.replace('U', 'T')\n",
    "\n",
    "forward_motif\n",
    "\n"
   ]
  },
  {
   "cell_type": "code",
   "execution_count": 3,
   "id": "ec0fe1cd",
   "metadata": {},
   "outputs": [],
   "source": [
    "def preprocess_seqs(list_of_seqs):\n",
    "\n",
    "    if file_type == '.fastq':\n",
    "        seqs = list_of_seqs[1::4]\n",
    "        qualities = list_of_seqs[3::4]\n",
    "        print('Total seqs: '+str(len(seqs)))\n",
    "\n",
    "        #Filter by quality\n",
    "        high_quality = []\n",
    "        acceptable_quals_1_percent_error = [5,6,7,8,9,':',';', '<', '=', '>', '?', '@', 'A', 'B', 'C', 'D', 'E', 'F', 'G', 'H', 'I', 'J', 'K']\n",
    "        for seq in range(len(qualities)):\n",
    "            overlap=0\n",
    "            for char in list(set(qualities[seq]).intersection(acceptable_quals_1_percent_error)):\n",
    "                overlap+=qualities[seq].count(char)\n",
    "            if overlap/len(qualities[1])>quality_cutoff:\n",
    "                high_quality.append(seqs[seq].strip(\"\\n\"))\n",
    "        print('High quality seqs: '+str(len(high_quality)))\n",
    "    \n",
    "    if file_type == '.fasta':\n",
    "        high_quality = list_of_seqs[1::2]\n",
    "        print('Total seqs: '+str(len(high_quality)))\n",
    "    \n",
    "    #Take RC if desired\n",
    "    pre_trim = []\n",
    "    if rc == 'yes':\n",
    "        rc_seqs = []\n",
    "        for sequence in high_quality:\n",
    "            rc_seqs.append(str(Seq(sequence).reverse_complement()).strip('\\n'))\n",
    "        pre_trim = rc_seqs\n",
    "    else:\n",
    "        for sequence in high_quality:\n",
    "            pre_trim.append(str(Seq(sequence)).strip('\\n'))\n",
    "    if rc == 'yes':\n",
    "        print('Reverse Comp = '+str(rc)) \n",
    "\n",
    "    #Trim to keep only seqs with constant region\n",
    "    trimmed = []\n",
    "    for seq in pre_trim:\n",
    "        if forward_motif in seq:\n",
    "            next_40 = seq[seq.index(forward_motif)+len(forward_motif):seq.index(forward_motif)+len(forward_motif)+40]\n",
    "            if len(next_40)==40:\n",
    "                trimmed.append(next_40)\n",
    "    print('Seqs after trimming: '+str(len(trimmed))) \n",
    "    \n",
    "    #All processed seqs\n",
    "    processed_seqs = trimmed\n",
    "    #Unique seqs\n",
    "    processed_seqs_unique = list(set(trimmed))\n",
    "    \n",
    "    return processed_seqs, processed_seqs_unique\n",
    "    \n",
    "\n",
    "#Function to get secondary structure on RNA Fold\n",
    "def get_energy_ss(seq):\n",
    "  url = \"http://rna.tbi.univie.ac.at//cgi-bin/RNAWebSuite/RNAfold.cgi\"\n",
    "  br = mechanize.Browser()\n",
    "  br.set_handle_robots(False) # ignore robots\n",
    "  br.open(url)\n",
    "  br.select_form(name=\"form\")\n",
    "  br[\"SCREEN\"] = seq\n",
    "  res = br.submit()\n",
    "  content = res.read()\n",
    "  energy = int(re.sub(\"[^0-9]\", \"\", str(content).split('thermodynamic ensemble is')[1].split('kcal/mol')[0]))\n",
    "  structure = str(content).split('STRUCTURE=')[1].split('target')[0].split('\"')[0]\n",
    "  return energy, structure\n",
    "\n"
   ]
  },
  {
   "cell_type": "code",
   "execution_count": 4,
   "id": "3f3d19da",
   "metadata": {},
   "outputs": [
    {
     "name": "stdout",
     "output_type": "stream",
     "text": [
      "Total seqs: 3006527\n",
      "Seqs after trimming: 2378029\n",
      "[('AAGATCGGAAGAGCACACGTCTGAACTCCAGTCACATCAC', 1675), ('AAAGATCGGAAGAGCACACGTCTGAACTCCAGTCACATCA', 619), ('GGAAAAGATCGGAAGAGCACACGTCTGAACTCCAGTCACA', 445), ('GAAAAGATCGGAAGAGCACACGTCTGAACTCCAGTCACAT', 402), ('GGGAAAAGATCGGAAGAGCACACGTCTGAACTCCAGTCAC', 357), ('AAAAGATCGGAAGAGCACACGTCTGAACTCCAGTCACATC', 328), ('GGGGAAAAGATCGGAAGAGCACACGTCTGAACTCCAGTCA', 202), ('GGTAAAAGATCGGAAGAGCACACGTCTGAACTCCAGTCAC', 177), ('GTAAAAGATCGGAAGAGCACACGTCTGAACTCCAGTCACA', 169), ('GCAAAAGATCGGAAGAGCACACGTCTGAACTCCAGTCACA', 157)]\n"
     ]
    }
   ],
   "source": [
    "#AA CONTROL\n",
    "#STATISTICS (note: this takes a few mins per round)\n",
    "aa_ctrl_processed_seqs, aa_ctrl_processed_seqs_unique = preprocess_seqs(aa_sequences)\n",
    "aa_ctrl_top_seqs = Counter(aa_ctrl_processed_seqs).most_common(100)\n",
    "print(aa_ctrl_top_seqs[:10])"
   ]
  },
  {
   "cell_type": "code",
   "execution_count": 5,
   "id": "906c5bcf",
   "metadata": {},
   "outputs": [
    {
     "name": "stdout",
     "output_type": "stream",
     "text": [
      "Total seqs: 3449734\n",
      "Seqs after trimming: 2682013\n",
      "[('AAGATCGGAAGAGCACACGTCTGAACTCCAGTCACCGATG', 6080), ('AAAGATCGGAAGAGCACACGTCTGAACTCCAGTCACCGAT', 2036), ('GAGATCGGAAGAGCACACGTCTGAACTCCAGTCACCGATG', 857), ('AAAAGATCGGAAGAGCACACGTCTGAACTCCAGTCACCGA', 798), ('GAAAAGATCGGAAGAGCACACGTCTGAACTCCAGTCACCG', 604), ('TAGATCGGAAGAGCACACGTCTGAACTCCAGTCACCGATG', 583), ('GGAAAAGATCGGAAGAGCACACGTCTGAACTCCAGTCACC', 470), ('GAAGATCGGAAGAGCACACGTCTGAACTCCAGTCACCGAT', 377), ('TAAAAGATCGGAAGAGCACACGTCTGAACTCCAGTCACCG', 367), ('GGGAAAAGATCGGAAGAGCACACGTCTGAACTCCAGTCAC', 336)]\n"
     ]
    }
   ],
   "source": [
    "#RNA CONTROL\n",
    "#STATISTICS (note: this takes a few mins per round)\n",
    "rna_ctrl_processed_seqs, rna_ctrl_processed_seqs_unique = preprocess_seqs(rna_only_sequences)\n",
    "rna_ctrl_top_seqs = Counter(rna_ctrl_processed_seqs).most_common(100)\n",
    "print(rna_ctrl_top_seqs[:10])\n",
    "\n"
   ]
  },
  {
   "cell_type": "code",
   "execution_count": 7,
   "id": "8d19a5cc",
   "metadata": {},
   "outputs": [
    {
     "name": "stdout",
     "output_type": "stream",
     "text": [
      "100/3291\n",
      "200/3291\n",
      "300/3291\n",
      "400/3291\n",
      "500/3291\n",
      "600/3291\n",
      "700/3291\n",
      "800/3291\n",
      "900/3291\n",
      "1000/3291\n",
      "1100/3291\n",
      "1200/3291\n",
      "1300/3291\n",
      "1400/3291\n",
      "1500/3291\n",
      "1600/3291\n",
      "1700/3291\n",
      "1800/3291\n",
      "1900/3291\n",
      "2000/3291\n",
      "2100/3291\n",
      "2200/3291\n",
      "2300/3291\n",
      "2400/3291\n",
      "2500/3291\n",
      "2600/3291\n",
      "2700/3291\n",
      "2800/3291\n",
      "2900/3291\n",
      "3000/3291\n",
      "3100/3291\n",
      "3200/3291\n",
      "Seqs in AA but not RNA: 2366312\n",
      "[('AAGATCGGAAGAGCACACGTCTGAACTCCAGTCACATCAC', 1675), ('AAAGATCGGAAGAGCACACGTCTGAACTCCAGTCACATCA', 619), ('GGAAAAGATCGGAAGAGCACACGTCTGAACTCCAGTCACA', 445), ('GAAAAGATCGGAAGAGCACACGTCTGAACTCCAGTCACAT', 402), ('GGGAAAAGATCGGAAGAGCACACGTCTGAACTCCAGTCAC', 355), ('AAAAGATCGGAAGAGCACACGTCTGAACTCCAGTCACATC', 328), ('GGGGAAAAGATCGGAAGAGCACACGTCTGAACTCCAGTCA', 200), ('GGTAAAAGATCGGAAGAGCACACGTCTGAACTCCAGTCAC', 175), ('GTAAAAGATCGGAAGAGCACACGTCTGAACTCCAGTCACA', 169), ('GCAAAAGATCGGAAGAGCACACGTCTGAACTCCAGTCACA', 157)]\n"
     ]
    }
   ],
   "source": [
    "#AA NOT RNA \n",
    "#STATISTICS (note: this takes a few mins per round)\n",
    "\n",
    "aa_rna_overlap = list(set(aa_ctrl_processed_seqs) & set(rna_ctrl_processed_seqs))\n",
    "\n",
    "aa_not_rna_seqs = aa_ctrl_processed_seqs\n",
    "counter = 0\n",
    "for seq in range(len(aa_rna_overlap)):\n",
    "    counter+=1\n",
    "    if counter%100==0:\n",
    "        print(str(counter)+'/'+str(len(aa_rna_overlap)))\n",
    "        \n",
    "    aa_not_rna_seqs.remove(aa_rna_overlap[seq])\n",
    "\n",
    "print('Seqs in AA but not RNA: '+str(round(len(aa_not_rna_seqs))))\n",
    "\n",
    "aa_not_rna_top_seqs = Counter(aa_not_rna_seqs).most_common(100)\n",
    "print(aa_not_rna_top_seqs[:10])\n"
   ]
  },
  {
   "cell_type": "code",
   "execution_count": null,
   "id": "4d53416b",
   "metadata": {},
   "outputs": [
    {
     "name": "stdout",
     "output_type": "stream",
     "text": [
      "0\n",
      "2\n",
      "4\n",
      "6\n",
      "8\n",
      "10\n",
      "12\n",
      "14\n",
      "16\n",
      "18\n",
      "20\n"
     ]
    }
   ],
   "source": [
    "#Get the SS of the top sequences\n",
    "ss_of_top_seqs=[]\n",
    "for seq in aa_not_rna_top_seqs[:100]:\n",
    "  if aa_not_rna_top_seqs.index(seq)%2==0:\n",
    "    print(aa_not_rna_top_seqs.index(seq))\n",
    "  ss_of_top_seqs.append(get_energy_ss(seq[0])[1])"
   ]
  },
  {
   "cell_type": "code",
   "execution_count": null,
   "id": "bed3db37",
   "metadata": {},
   "outputs": [],
   "source": [
    "#Cluster by secondary structure\n",
    "k = 3\n",
    "matrix = np.asarray([np.fromstring(str(s), dtype=np.uint8) for s in ss_of_top_seqs]);\n",
    "kmeans = KMeans(init=\"random\", n_clusters=k,n_init=10,max_iter=300,random_state=42)\n",
    "kmeans.fit(matrix)\n",
    "labels = kmeans.labels_[:]\n",
    "\n",
    "all_clusters = []\n",
    "for cluster_num in range(0, k):\n",
    "  seqs_in_cluster = []\n",
    "  for seq in range(len(labels)):\n",
    "    if labels[seq] == cluster_num:\n",
    "      seqs_in_cluster.append(ss_of_top_seqs[seq])\n",
    "  all_clusters.append(seqs_in_cluster)\n",
    "all_clusters"
   ]
  },
  {
   "cell_type": "code",
   "execution_count": null,
   "id": "6cfc6c2e",
   "metadata": {},
   "outputs": [],
   "source": []
  }
 ],
 "metadata": {
  "kernelspec": {
   "display_name": "Python 3",
   "language": "python",
   "name": "python3"
  },
  "language_info": {
   "codemirror_mode": {
    "name": "ipython",
    "version": 3
   },
   "file_extension": ".py",
   "mimetype": "text/x-python",
   "name": "python",
   "nbconvert_exporter": "python",
   "pygments_lexer": "ipython3",
   "version": "3.8.8"
  }
 },
 "nbformat": 4,
 "nbformat_minor": 5
}
