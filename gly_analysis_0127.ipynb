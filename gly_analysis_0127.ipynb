{
 "cells": [
  {
   "cell_type": "markdown",
   "metadata": {
    "colab_type": "text",
    "id": "view-in-github"
   },
   "source": [
    "<a href=\"https://colab.research.google.com/github/szostaklab/aminoacylation/blob/main/gly_structure_analysis.ipynb\" target=\"_parent\"><img src=\"https://colab.research.google.com/assets/colab-badge.svg\" alt=\"Open In Colab\"/></a>"
   ]
  },
  {
   "cell_type": "code",
   "execution_count": 1,
   "metadata": {
    "colab": {
     "base_uri": "https://localhost:8080/"
    },
    "id": "cgu6GfD4-5oF",
    "outputId": "840a751e-858a-4d48-967a-8b60c99c6fa2"
   },
   "outputs": [
    {
     "name": "stdout",
     "output_type": "stream",
     "text": [
      "Requirement already satisfied: mechanize in /Users/zoeweiss/opt/anaconda3/lib/python3.8/site-packages (0.4.7)\n",
      "Requirement already satisfied: html5lib>=0.999999999 in /Users/zoeweiss/opt/anaconda3/lib/python3.8/site-packages (from mechanize) (1.1)\n",
      "Requirement already satisfied: six>=1.9 in /Users/zoeweiss/opt/anaconda3/lib/python3.8/site-packages (from html5lib>=0.999999999->mechanize) (1.15.0)\n",
      "Requirement already satisfied: webencodings in /Users/zoeweiss/opt/anaconda3/lib/python3.8/site-packages (from html5lib>=0.999999999->mechanize) (0.5.1)\n",
      "Requirement already satisfied: Bio in /Users/zoeweiss/opt/anaconda3/lib/python3.8/site-packages (1.3.2)\n",
      "Requirement already satisfied: mygene in /Users/zoeweiss/opt/anaconda3/lib/python3.8/site-packages (from Bio) (3.2.2)\n",
      "Requirement already satisfied: requests in /Users/zoeweiss/opt/anaconda3/lib/python3.8/site-packages (from Bio) (2.25.1)\n",
      "Requirement already satisfied: biopython>=1.79 in /Users/zoeweiss/opt/anaconda3/lib/python3.8/site-packages (from Bio) (1.79)\n",
      "Requirement already satisfied: tqdm in /Users/zoeweiss/opt/anaconda3/lib/python3.8/site-packages (from Bio) (4.59.0)\n",
      "Requirement already satisfied: numpy in /Users/zoeweiss/opt/anaconda3/lib/python3.8/site-packages (from biopython>=1.79->Bio) (1.20.1)\n",
      "Requirement already satisfied: biothings-client>=0.2.6 in /Users/zoeweiss/opt/anaconda3/lib/python3.8/site-packages (from mygene->Bio) (0.2.6)\n",
      "Requirement already satisfied: urllib3<1.27,>=1.21.1 in /Users/zoeweiss/opt/anaconda3/lib/python3.8/site-packages (from requests->Bio) (1.26.4)\n",
      "Requirement already satisfied: chardet<5,>=3.0.2 in /Users/zoeweiss/opt/anaconda3/lib/python3.8/site-packages (from requests->Bio) (4.0.0)\n",
      "Requirement already satisfied: idna<3,>=2.5 in /Users/zoeweiss/opt/anaconda3/lib/python3.8/site-packages (from requests->Bio) (2.10)\n",
      "Requirement already satisfied: certifi>=2017.4.17 in /Users/zoeweiss/opt/anaconda3/lib/python3.8/site-packages (from requests->Bio) (2020.12.5)\n"
     ]
    }
   ],
   "source": [
    "#IMPORTS\n",
    "#Install+Import Packages\n",
    "!pip install mechanize\n",
    "import random\n",
    "import re\n",
    "import mechanize\n",
    "import numpy as np\n",
    "from random import *\n",
    "import matplotlib.pyplot as plt\n",
    "!pip install Bio\n",
    "from Bio import SeqIO\n",
    "from Bio.Seq import Seq\n",
    "from collections import Counter \n",
    "from Bio.Cluster import kcluster\n",
    "import statistics\n",
    "import matplotlib.pyplot as plt\n",
    "from sklearn.cluster import KMeans\n",
    "from sklearn.metrics import silhouette_score\n",
    "from sklearn.preprocessing import StandardScaler\n",
    "import difflib\n",
    "import seaborn as sns; sns.set_theme()\n",
    "from collections import defaultdict\n",
    "import collections\n",
    "from mpl_toolkits.mplot3d import Axes3D\n",
    "from pylab import *\n",
    "from collections import OrderedDict\n",
    "import matplotlib.pyplot as plt\n",
    "#!pip install ipython-autotime"
   ]
  },
  {
   "cell_type": "code",
   "execution_count": 2,
   "metadata": {
    "id": "om-uTJs6_shJ"
   },
   "outputs": [],
   "source": [
    "#Upload Data and Define Parameters\n",
    "aa_sequences = open('/Users/zoeweiss/Desktop/Desktop/lab(s)/szostak/spring 2022/aminoacylation/CP1-1-gly_S3_L001_R1_001.fastq').readlines()\n",
    "rna_only_sequences = open('/Users/zoeweiss/Desktop/Desktop/lab(s)/szostak/spring 2022/aminoacylation/CP1-1-gly-NaOH_S4_L001_R1_001.fastq').readlines()\n",
    "\n",
    "#Take the reverse complement? Enter 'yes' or 'no'\n",
    "rc = 'no'\n",
    "\n",
    "#Quality Cutoff - what fraction of positions should have <1% error probability?\n",
    "quality_cutoff = 0.9\n",
    "\n",
    "#Position motif1 starts at\n",
    "motif_start = 1\n",
    "#Motif1 define\n",
    "motif = 'AAA'\n",
    "#Position motif2 starts at\n",
    "motif2_start = 23\n",
    "#Motif2 define\n",
    "motif2 = 'AAAAGATCGGAAGAGCACACGTCT'\n"
   ]
  },
  {
   "cell_type": "code",
   "execution_count": 18,
   "metadata": {},
   "outputs": [],
   "source": [
    "def preprocess_seqs(list_of_seqs):\n",
    "    \n",
    "    quality = list_of_seqs[3::4]\n",
    "    seqs = list_of_seqs[1::4]\n",
    "\n",
    "    #Remove duplicates:\n",
    "    unique_seqs = []\n",
    "    unique_qualities = []\n",
    "    indicies_of_unique_seqs = list(np.unique(seqs, return_index=True)[1])\n",
    "    for index in sorted(np.unique(seqs, return_index = True)[1])[:-1]:\n",
    "      unique_qualities.append(quality[index])\n",
    "      unique_seqs.append(seqs[index])\n",
    "\n",
    "    #Take RC if desired\n",
    "    pre_trim = []\n",
    "    if rc == 'yes':\n",
    "      rc_seqs = []\n",
    "      for sequence in unique_seqs:\n",
    "          rc_seqs.append(str(Seq(sequence).reverse_complement()).strip('\\n'))\n",
    "      pre_trim = rc_seqs\n",
    "    else:\n",
    "      for sequence in unique_seqs:\n",
    "          pre_trim.append(str(Seq(sequence)).strip('\\n'))\n",
    "    if rc == 'yes':\n",
    "      print('Number of unique seqs after rc: '+str(len(pre_trim))) \n",
    "\n",
    "    #Trim\n",
    "    trimmed = []\n",
    "    for seq in pre_trim:\n",
    "      trimmed.append(seq[(motif_start-1):(motif2_start-1)])\n",
    "\n",
    "    print('Number of unique seqs after trimming: '+str(len(trimmed))) \n",
    "\n",
    "    #Counts of all seqs\n",
    "    seq_dict = Counter(trimmed)\n",
    "    seq_dict_list = [(k, v) for k, v in seq_dict.items()]\n",
    "    sorted_seq_dict = sorted(seq_dict_list, key = lambda x: x[1], reverse=True)\n",
    "    sorted_seq_dict_inve = sorted(seq_dict_list, key = lambda x: x[1])\n",
    "\n",
    "    #Filter by quality\n",
    "    high_quality = []\n",
    "    acceptable_quals_1_percent_error = [5,6,7,8,9,':',';', '<', '=', '>', '?', '@', 'A', 'B', 'C', 'D', 'E', 'F', 'G', 'H', 'I', 'J', 'K']\n",
    "    for seq in range(len(unique_qualities)):\n",
    "      overlap=0\n",
    "      for char in list(set(unique_qualities[seq]).intersection(acceptable_quals_1_percent_error)):\n",
    "            overlap+=unique_qualities[seq].count(char)\n",
    "      if overlap/len(unique_qualities[1])>quality_cutoff:\n",
    "            high_quality.append(trimmed[seq].strip(\"\\n\"))\n",
    "    print('Number of high quality seqs: '+str(len(high_quality))) \n",
    "    return sorted_seq_dict, high_quality, seqs\n",
    "\n",
    "\n",
    "#TOP SEQUENCES (ensure high quality)\n",
    "def top_seqs(sorted_seq_dict, high_quality, seqs):\n",
    "    num_seqs_to_analyze = 100\n",
    "    #Top Sequences \n",
    "    print('Most Abundant Sequences, Counts')\n",
    "    top_seqs = []\n",
    "\n",
    "    for seq in sorted_seq_dict[:num_seqs_to_analyze]:\n",
    "      for high_qual in high_quality:\n",
    "        if high_qual in seq[0]:\n",
    "          top_seqs.append(high_qual[motif_start+2:motif2_start-1])\n",
    "          break\n",
    "\n",
    "    #Print top 10 sequences\n",
    "    for top in top_seqs[:10]:\n",
    "      counts=0\n",
    "      for seq in seqs:\n",
    "        if top in seq:\n",
    "          counts+=1\n",
    "      print(top, counts)\n",
    "\n",
    "    #Create file for R-Scape Covariation\n",
    "\n",
    "    f = open(\"/Users/zoeweiss/Desktop/Desktop/lab(s)/szostak/spring 2022/aminoacylation/gly_rscape\"+str(num_seqs_to_analyze)+\".txt\", \"w\")\n",
    "    f.write('# STOCKHOLM 1.0\\n')\n",
    "    f.write('\\n')\n",
    "    counter = 0\n",
    "    for seq in top_seqs:\n",
    "      counter+=1\n",
    "      f.write(str(counter)+'\\t'+seq+'\\n')\n",
    "    f.write('#=GC SS_cons\t(((((((((,)))))))))\\n')\n",
    "    f.write('//')"
   ]
  },
  {
   "cell_type": "code",
   "execution_count": 59,
   "metadata": {},
   "outputs": [
    {
     "name": "stdout",
     "output_type": "stream",
     "text": [
      "Number of seqs in AA: 2818273\n",
      "Number of seqs with correct constant region: 2073979\n",
      "Number of unique seqs after trimming: 1620022\n",
      "Number of high quality seqs: 1574655\n",
      "Most Abundant Sequences, Counts\n",
      "GCCTGATTGTAGATTGGGC 88\n",
      "GCCAGTTTGTAGAATTGGC 61\n",
      "GCCGGTATGTAGTATTGGC 59\n",
      "GCCAGTCGTGGGGATTGGC 58\n",
      "GCCTGTTTGTAGAATGGGC 62\n",
      "GCCGTCTTGTAGAGAGGGC 63\n",
      "GCCGAGTTGTAGATGAGGC 54\n",
      "GCCGTATTGTAGATATGGC 55\n",
      "GCCGGTCGTGGCGATTGGC 56\n",
      "GCCGGAGCGTAAGTGAGGC 60\n"
     ]
    }
   ],
   "source": [
    "#AA CONTROL\n",
    "#STATISTICS (note: this takes a few mins per round)\n",
    "print('Number of seqs in AA: '+str(round(len(aa_sequences)/4)))\n",
    "aa_correct_seqs = []\n",
    "for seq in range(len(aa_sequences)):\n",
    "  if (seq-1)%4==0:\n",
    "      if aa_sequences[seq][motif_start-1:(motif_start-1)+len(motif)] == motif and aa_sequences[seq][motif2_start-1:(motif2_start-1)+len(motif2)] == motif2:\n",
    "        aa_correct_seqs+=(aa_sequences[seq-1:seq+3])\n",
    "print('Number of seqs with correct constant region: '+str(len(aa_correct_seqs[1::4])))\n",
    "\n",
    "\n",
    "aa_ctrl_sorted_seq_dict, aa_ctrl_high_quality, aa_ctrl_seqs = preprocess_seqs(aa_correct_seqs)\n",
    "top_seqs(aa_ctrl_sorted_seq_dict, aa_ctrl_high_quality, seqs)\n"
   ]
  },
  {
   "cell_type": "code",
   "execution_count": 60,
   "metadata": {},
   "outputs": [
    {
     "name": "stdout",
     "output_type": "stream",
     "text": [
      "Number of seqs in RNA: 681129\n",
      "Number of seqs with correct constant region: 441026\n",
      "Number of unique seqs after trimming: 415658\n",
      "Number of high quality seqs: 405121\n",
      "Most Abundant Sequences, Counts\n",
      "GCCGTGAGCCTGTAGCGGC 24\n",
      "GCCGCGAGCCTGTAGCGGC 24\n",
      "GCCCTGAGCCTGTAGGGGC 22\n",
      "GCCTCGAGCCTGTAGAGGC 22\n",
      "GCCCGGGGGCGTGTGCGGC 19\n",
      "GCCCTGGGCCCGTAGGGGC 19\n",
      "GCCATGGGTCCCGAGTGGC 18\n",
      "GCCAGACTGCGGGGTTGGC 17\n",
      "GCCTCGGGGCGTGTGCGGC 16\n",
      "GCCGTGGGCCCGTAGCGGC 16\n"
     ]
    }
   ],
   "source": [
    "#RNA CONTROL\n",
    "#STATISTICS (note: this takes a few mins per round)\n",
    "print('Number of seqs in RNA: '+str(round(len(rna_only_sequences)/4)))\n",
    "rna_correct_seqs = []\n",
    "for seq in range(len(rna_only_sequences)):\n",
    "  if (seq-1)%4==0:\n",
    "      if rna_only_sequences[seq][motif_start-1:(motif_start-1)+len(motif)] == motif and rna_only_sequences[seq][motif2_start-1:(motif2_start-1)+len(motif2)] == motif2:\n",
    "        rna_correct_seqs+=(rna_only_sequences[seq-1:seq+3])\n",
    "print('Number of seqs with correct constant region: '+str(len(rna_correct_seqs[1::4])))\n",
    "\n",
    "\n",
    "rna_ctrl_sorted_seq_dict, rna_ctrl_high_quality, rna_ctrl_seqs = preprocess_seqs(rna_correct_seqs)\n",
    "top_seqs(rna_ctrl_sorted_seq_dict, rna_ctrl_high_quality, rna_ctrl_seqs)\n"
   ]
  },
  {
   "cell_type": "code",
   "execution_count": 66,
   "metadata": {},
   "outputs": [
    {
     "name": "stdout",
     "output_type": "stream",
     "text": [
      "Number of seqs in AA but not RNA: 1470310\n",
      "Most Abundant Sequences, Counts\n",
      "GCCTGATTGTAGATTGGGC 88\n",
      "GCCAGTTTGTAGAATTGGC 61\n",
      "GCCTGTTTGTAGAATGGGC 62\n",
      "GCCGTCTTGTAGAGAGGGC 63\n",
      "GCCGAGTTGTAGATGAGGC 54\n",
      "GCCGGTCGTGGCGATTGGC 56\n",
      "GCCGGAGCGTAAGTGAGGC 60\n",
      "GCCGGATTGAGGGTTCGGC 48\n",
      "GCCGGAGGGGAACTCTGGC 50\n",
      "GCCAGTTTGAGGGATTGGC 47\n"
     ]
    }
   ],
   "source": [
    "#AA NOT RNA \n",
    "#STATISTICS (note: this takes a few mins per round)\n",
    "\n",
    "aa_not_rna_high_quality = list(set(aa_ctrl_high_quality) - set(rna_ctrl_high_quality))\n",
    "\n",
    "print('Number of seqs in AA but not RNA: '+str(round(len(aa_not_rna_high_quality))))\n",
    "\n",
    "top_seqs(sorted_seq_dict, aa_not_rna_high_quality, seqs)\n"
   ]
  },
  {
   "cell_type": "code",
   "execution_count": null,
   "metadata": {},
   "outputs": [],
   "source": []
  },
  {
   "cell_type": "code",
   "execution_count": null,
   "metadata": {},
   "outputs": [],
   "source": []
  }
 ],
 "metadata": {
  "colab": {
   "authorship_tag": "ABX9TyNYquusls++X53UBouwWprL",
   "collapsed_sections": [],
   "include_colab_link": true,
   "name": "gly_structure_analysis.ipynb",
   "provenance": []
  },
  "kernelspec": {
   "display_name": "Python 3",
   "language": "python",
   "name": "python3"
  },
  "language_info": {
   "codemirror_mode": {
    "name": "ipython",
    "version": 3
   },
   "file_extension": ".py",
   "mimetype": "text/x-python",
   "name": "python",
   "nbconvert_exporter": "python",
   "pygments_lexer": "ipython3",
   "version": "3.8.8"
  }
 },
 "nbformat": 4,
 "nbformat_minor": 1
}
