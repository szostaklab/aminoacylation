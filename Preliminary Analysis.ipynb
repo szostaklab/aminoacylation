{
 "cells": [
  {
   "cell_type": "code",
   "execution_count": 16,
   "id": "0436d5d2",
   "metadata": {},
   "outputs": [],
   "source": [
    "#Instructions:\n",
    "#1) Name the raw .fastq file: 'Aleks.fastq', UNZIPPED\n",
    "#2) Input the following parameters - defaults are already set\n",
    "#3) On the bar at the top, press 'Runtime' and then 'Restart and Run All'\n",
    "\n",
    "#Take the reverse complement? Enter 'yes' or 'no'\n",
    "rc = 'no'\n",
    "\n",
    "#Desired Region to analyze (e.g. if 8nt constant region in 56nt sequence, input 'start, stop = 8, 48')\n",
    "start, stop = 13, 23\n",
    "\n",
    "#Quality Cutoff - what fraction of positions should have <1% error probability?\n",
    "quality_cutoff = 0.9\n",
    "\n",
    "#Number of Clusters (I WOULD MAKE THIS >50)\n",
    "k = 50"
   ]
  },
  {
   "cell_type": "code",
   "execution_count": 17,
   "id": "02f7981b",
   "metadata": {},
   "outputs": [
    {
     "name": "stdout",
     "output_type": "stream",
     "text": [
      "Requirement already satisfied: Bio in /Users/zoeweiss/opt/anaconda3/lib/python3.8/site-packages (1.3.2)\n",
      "Requirement already satisfied: biopython>=1.79 in /Users/zoeweiss/opt/anaconda3/lib/python3.8/site-packages (from Bio) (1.79)\n",
      "Requirement already satisfied: mygene in /Users/zoeweiss/opt/anaconda3/lib/python3.8/site-packages (from Bio) (3.2.2)\n",
      "Requirement already satisfied: requests in /Users/zoeweiss/opt/anaconda3/lib/python3.8/site-packages (from Bio) (2.25.1)\n",
      "Requirement already satisfied: tqdm in /Users/zoeweiss/opt/anaconda3/lib/python3.8/site-packages (from Bio) (4.59.0)\n",
      "Requirement already satisfied: numpy in /Users/zoeweiss/opt/anaconda3/lib/python3.8/site-packages (from biopython>=1.79->Bio) (1.20.1)\n",
      "Requirement already satisfied: biothings-client>=0.2.6 in /Users/zoeweiss/opt/anaconda3/lib/python3.8/site-packages (from mygene->Bio) (0.2.6)\n",
      "Requirement already satisfied: idna<3,>=2.5 in /Users/zoeweiss/opt/anaconda3/lib/python3.8/site-packages (from requests->Bio) (2.10)\n",
      "Requirement already satisfied: urllib3<1.27,>=1.21.1 in /Users/zoeweiss/opt/anaconda3/lib/python3.8/site-packages (from requests->Bio) (1.26.4)\n",
      "Requirement already satisfied: chardet<5,>=3.0.2 in /Users/zoeweiss/opt/anaconda3/lib/python3.8/site-packages (from requests->Bio) (4.0.0)\n",
      "Requirement already satisfied: certifi>=2017.4.17 in /Users/zoeweiss/opt/anaconda3/lib/python3.8/site-packages (from requests->Bio) (2020.12.5)\n"
     ]
    }
   ],
   "source": [
    "#@title IMPORTS\n",
    "import numpy as np\n",
    "import matplotlib.pyplot as plt\n",
    "!pip install Bio\n",
    "from Bio import SeqIO\n",
    "from Bio.Seq import Seq\n",
    "from collections import Counter \n",
    "from Bio.Cluster import kcluster\n",
    "import statistics\n",
    "import matplotlib.pyplot as plt\n",
    "from sklearn.cluster import KMeans\n",
    "from sklearn.metrics import silhouette_score\n",
    "from sklearn.preprocessing import StandardScaler\n",
    "import difflib\n",
    "import seaborn as sns; sns.set_theme()\n",
    "from collections import defaultdict\n",
    "import collections\n",
    "\n",
    "#!pip install ipython-autotime"
   ]
  },
  {
   "cell_type": "code",
   "execution_count": 18,
   "id": "f1e2aff6",
   "metadata": {},
   "outputs": [
    {
     "name": "stdout",
     "output_type": "stream",
     "text": [
      "Number of raw seqs: 2519\n",
      "Number of unique seqs: 1615\n",
      "Number of seqs after trimming: 1615\n",
      "Number of high quality seqs: 592\n"
     ]
    }
   ],
   "source": [
    "#@title STATISTICS (note: this takes a few mins per round)\n",
    "\n",
    "round = open('/Users/zoeweiss/Desktop/Desktop/fastq/smaller_ai/Aleks4.fastq').readlines()\n",
    "quality = round[3::4]\n",
    "seqs = round[1::4]\n",
    "print('Number of raw seqs: '+str(len(seqs))) \n",
    "\n",
    "#Remove duplicates:\n",
    "unique_seqs = []\n",
    "unique_qualities = []\n",
    "indicies_of_unique_seqs = list(np.unique(seqs, return_index=True)[1])\n",
    "for index in sorted(np.unique(seqs, return_index = True)[1])[:-1]:\n",
    "  unique_qualities.append(quality[index])\n",
    "  unique_seqs.append(seqs[index])\n",
    "print('Number of unique seqs: '+str(len(unique_seqs))) \n",
    "\n",
    "#Counts of all seqs\n",
    "seq_dict = Counter(seqs)\n",
    "seq_dict_list = [(k, v) for k, v in seq_dict.items()]\n",
    "sorted_seq_dict = sorted(seq_dict_list, key = lambda x: x[1], reverse=True)\n",
    "sorted_seq_dict_inve = sorted(seq_dict_list, key = lambda x: x[1])\n",
    "\n",
    "#Take RC if desired\n",
    "pre_trim = []\n",
    "if rc == 'yes':\n",
    "  rc_seqs = []\n",
    "  for sequence in unique_seqs:\n",
    "      rc_seqs.append(str(Seq(sequence).reverse_complement()).strip('\\n'))\n",
    "  pre_trim = rc_seqs\n",
    "else:\n",
    "  for sequence in unique_seqs:\n",
    "      pre_trim.append(str(Seq(sequence)).strip('\\n'))\n",
    "if rc == 'yes':\n",
    "  print('Number of seqs after rc: '+str(len(pre_trim))) \n",
    "\n",
    "#Trim\n",
    "trimmed = []\n",
    "for seq in pre_trim:\n",
    "  trimmed.append(seq[(start-1):(stop-1)])\n",
    "print('Number of seqs after trimming: '+str(len(trimmed))) \n",
    "\n",
    "#Filter by quality\n",
    "high_quality = []\n",
    "acceptable_quals_1_percent_error = [5,6,7,8,9,':',';', '<', '=', '>', '?', '@', 'A', 'B', 'C', 'D', 'E', 'F', 'G', 'H', 'I', 'J', 'K']\n",
    "for seq in range(len(unique_qualities)):\n",
    "  overlap=0\n",
    "  for char in list(set(unique_qualities[seq]).intersection(acceptable_quals_1_percent_error)):\n",
    "        overlap+=unique_qualities[seq].count(char)\n",
    "  if overlap/len(unique_qualities[1])>quality_cutoff:\n",
    "        high_quality.append(trimmed[seq].strip(\"\\n\"))\n",
    "print('Number of high quality seqs: '+str(len(high_quality))) "
   ]
  },
  {
   "cell_type": "code",
   "execution_count": 19,
   "id": "046bca21",
   "metadata": {},
   "outputs": [
    {
     "name": "stdout",
     "output_type": "stream",
     "text": [
      "10 Most Abundant Sequences, Counts\n",
      "ACTCACTGACACAGATCCACTCACGGACAGCGGAATGCTGCCAACCGTGCGGGCTAATTGGCAGACTGAGCTCGCTGTCCT 252\n",
      "ACTCACTGACACAGATCCACTCACGGACAGCGCCTAGCTAGCGCTGACTAGGACAGATGAGCGGCGGAACCACGCTGTCCT 98\n",
      "ACTCACTGACACAGATCCACTCACGGACAGCGGAACCCTTATCACAGTCGTGCGGATTTGTAAGCCTAAGCGCGCTGTCCT 44\n",
      "ACTCACTGACACAGATCCACTCACGGACAGCGTTAGTGAAATTGGTGCCCAAGCAGAGAATTGGGATAAATCCGCTGTCCT 43\n",
      "ACTCACTGACACAGATCCACTCACGGAGCGTATTGGGTGCCGATTTCCTCTAATTTTAAAGTGCGGATAACGCTGTCCTTT 36\n",
      "ACTCACTGACACAGATCCACTCACGGACAGCGGAATGCTACCAACCGTGCGGGCTAATTGGCAGACTGAGCTCGCTGTCCT 21\n",
      "ACTCACTGACACAGATCCACTCACGGACAGCGAGAGACCGTGAGCTTGCGGAATGTTAGCAGAACAGAACTGCGCTGTCCT 19\n",
      "ACTCACTGACACAGATCCACTCACGGACGCGCCAGAAGATCAATTTAGTGCGATTGCTAAAGACGTAAACCCGCTGTCCTT 18\n",
      "ACTCACTGACACAGATCCACTCACGGACAGCGGAATGCTGCCAACCGTGCGGGCTAATTGGCAGACTGAGCTCGCTGCCCT 18\n",
      "ACTCACTGACACAGATCCACTCACGGACAGCGAGCCACTGCGGAAGACCTTAAGAGGTGTAATTGCTCACCCCGCTGTCCT 18\n"
     ]
    }
   ],
   "source": [
    "#@title MOST ABUNDANT SEQUENCES [NOT FILTERED BY QUALITY]\n",
    "#10 Top Sequences in the last round\n",
    "print('10 Most Abundant Sequences, Counts')\n",
    "for seq in sorted_seq_dict[:10]:\n",
    "  print(seq[0].strip(\"\\n\"), seq[1])\n"
   ]
  },
  {
   "cell_type": "code",
   "execution_count": 20,
   "id": "63d587d0",
   "metadata": {},
   "outputs": [],
   "source": [
    "#@title FUNCTION TO FIND CONSERVED POSITIONS\n",
    "#Idtenify conserved positions in cluster 1\n",
    "\n",
    "def make_heatmap(seqs_to_analyze):\n",
    "  heatmap_data = []\n",
    "\n",
    "  for position in range(len(seqs_to_analyze[0])):\n",
    "      options = []\n",
    "      for seq in seqs_to_analyze:\n",
    "          options.append(seq[position])\n",
    "      raw_options = [(k, v) for k, v in Counter(options).items()]\n",
    "      nuc_list = []\n",
    "      for element in raw_options:\n",
    "          nuc_list.append(element[0])\n",
    "      if 'A' not in nuc_list:\n",
    "            raw_options.append(('A', 0))\n",
    "      if 'C' not in nuc_list:\n",
    "            raw_options.append(('C', 0))\n",
    "      if 'G' not in nuc_list:\n",
    "            raw_options.append(('G', 0))\n",
    "      if 'T' not in nuc_list:\n",
    "            raw_options.append(('T', 0))    \n",
    "      raw_options = sorted(raw_options, key=lambda x: x[0])        \n",
    "      \n",
    "      heatmap_data_position = []\n",
    "      for element in raw_options:\n",
    "          heatmap_data_position.append(element[1]/len(seqs_to_analyze))\n",
    "      heatmap_data.append(heatmap_data_position)\n",
    "\n",
    "\n",
    "  fig, ax = plt.subplots(figsize = (30,6));\n",
    "  im = ax.imshow(np.array(heatmap_data).transpose(), interpolation='nearest', cmap='YlOrRd');\n",
    "  im.set_clim(0,1)\n",
    "  cbar = fig.colorbar(im, orientation='vertical',)\n",
    "  y_label_list = ['', 'A', 'C', 'G', 'T', ''];\n",
    "  ax.set_yticks(range(-1, 1+len(heatmap_data[0])));\n",
    "  ax.set_yticklabels(y_label_list);\n",
    "  ax.set_xticks(range(len(heatmap_data)));\n",
    "  ax.set_xticklabels(range(1, len(heatmap_data)+1));\n",
    "  ax.grid(False)\n",
    "  plt.show()\n",
    "  return heatmap_data"
   ]
  },
  {
   "cell_type": "code",
   "execution_count": 8,
   "id": "1b6e76b6",
   "metadata": {},
   "outputs": [
    {
     "name": "stdout",
     "output_type": "stream",
     "text": [
      "Sequences used to generate heatmap: 592\n"
     ]
    },
    {
     "data": {
      "image/png": "[encoded data removed]",
      "text/plain": [
       "<Figure size 2160x432 with 2 Axes>"
      ]
     },
     "metadata": {},
     "output_type": "display_data"
    },
    {
     "data": {
      "text/plain": [
       "[[0.7972972972972973,\n",
       "  0.048986486486486486,\n",
       "  0.06587837837837837,\n",
       "  0.08783783783783784],\n",
       " [0.10304054054054054,\n",
       "  0.03885135135135135,\n",
       "  0.7905405405405406,\n",
       "  0.06756756756756757],\n",
       " [0.793918918918919,\n",
       "  0.052364864864864864,\n",
       "  0.06756756756756757,\n",
       "  0.08614864864864864],\n",
       " [0.048986486486486486,\n",
       "  0.07601351351351351,\n",
       "  0.052364864864864864,\n",
       "  0.8226351351351351],\n",
       " [0.0625, 0.7787162162162162, 0.06418918918918919, 0.0945945945945946],\n",
       " [0.08614864864864864,\n",
       "  0.7922297297297297,\n",
       "  0.05067567567567568,\n",
       "  0.07094594594594594],\n",
       " [0.8023648648648649,\n",
       "  0.0777027027027027,\n",
       "  0.04391891891891892,\n",
       "  0.07601351351351351],\n",
       " [0.06756756756756757,\n",
       "  0.7837837837837838,\n",
       "  0.060810810810810814,\n",
       "  0.08783783783783784],\n",
       " [0.06587837837837837,\n",
       "  0.08783783783783784,\n",
       "  0.052364864864864864,\n",
       "  0.793918918918919],\n",
       " [0.0929054054054054,\n",
       "  0.7922297297297297,\n",
       "  0.04054054054054054,\n",
       "  0.07432432432432433]]"
      ]
     },
     "execution_count": 8,
     "metadata": {},
     "output_type": "execute_result"
    }
   ],
   "source": [
    "#@title REDO HEATMAP FOR A KNOWN MOTIF [FILTERED BY QUALITY]\n",
    "\n",
    "#Position motif starts at\n",
    "motif_start = 1\n",
    "#Motif define\n",
    "motif = ''\n",
    "\n",
    "motif_subset = []\n",
    "for seq in high_quality:\n",
    "  if seq[motif_start-1:(motif_start-1)+len(motif)] == motif:\n",
    "    motif_subset.append(seq)\n",
    "\n",
    "print('Sequences used to generate heatmap: '+str(len(motif_subset)))\n",
    "make_heatmap(motif_subset)\n"
   ]
  },
  {
   "cell_type": "code",
   "execution_count": 21,
   "id": "e7d32cab",
   "metadata": {},
   "outputs": [
    {
     "name": "stderr",
     "output_type": "stream",
     "text": [
      "<ipython-input-21-40b3f5931213>:4: DeprecationWarning: The binary mode of fromstring is deprecated, as it behaves surprisingly on unicode inputs. Use frombuffer instead\n",
      "  matrix = np.asarray([np.fromstring(str(s), dtype=np.uint8) for s in high_quality]);\n"
     ]
    }
   ],
   "source": [
    "#@title CLUSTER SEQUENCES (may take up to 5 mins) [FILTERED BY QUALITY]\n",
    "#SEE CLUSTERING CSV FILE ON LEFT PANEL (Aleks_Clusters.csv) AND OPEN IN EXCEL\n",
    "\n",
    "matrix = np.asarray([np.fromstring(str(s), dtype=np.uint8) for s in high_quality]);\n",
    "kmeans = KMeans(init=\"random\", n_clusters=k,n_init=10,max_iter=300,random_state=42)\n",
    "kmeans.fit(matrix)\n",
    "labels = kmeans.labels_[:]\n",
    "\n",
    "all_clusters = []\n",
    "for cluster_num in range(0, k):\n",
    "  seqs_in_cluster = []\n",
    "  for seq in range(len(labels)):\n",
    "    if labels[seq] == cluster_num:\n",
    "      seqs_in_cluster.append(high_quality[seq])\n",
    "  all_clusters.append(seqs_in_cluster)"
   ]
  },
  {
   "cell_type": "code",
   "execution_count": 22,
   "id": "92a196db",
   "metadata": {},
   "outputs": [
    {
     "name": "stdout",
     "output_type": "stream",
     "text": [
      "[0, 0, 0, 0, 0, 0, 0, 0, 0, 0]\n",
      "Top Cluster 1\n",
      "Number of Seqs in Cluster: 433\n"
     ]
    },
    {
     "data": {
      "image/png": "[encoded data removed]",
      "text/plain": [
       "<Figure size 2160x432 with 2 Axes>"
      ]
     },
     "metadata": {},
     "output_type": "display_data"
    }
   ],
   "source": [
    "#@title REDO HEATMAP FOR THE CLUSTERS CONTAINING THE TOP 10 SEQS (may have overlap or one of the top seqs may be low quality, so <10 plots may appear) [FILTERED BY QUALITY]\n",
    "top_10 = sorted_seq_dict[:10]\n",
    "top_clusters = []\n",
    "\n",
    "for top in top_10:\n",
    "  for cluster in range(len(all_clusters)):\n",
    "    for cluster_seq in all_clusters[cluster]:\n",
    "      if rc == 'no':\n",
    "        if cluster_seq == top[0][(start-1):(stop-1)]:\n",
    "          top_clusters.append(cluster)\n",
    "          break\n",
    "      \n",
    "      if rc == 'yes':\n",
    "        if cluster_seq == Seq(top_10[0][0][(start-1):(stop-1)]).reverse_complement():\n",
    "          top_clusters.append(cluster)\n",
    "          break\n",
    "\n",
    "print(top_clusters)\n",
    "top_clusters = list(set(top_clusters))\n",
    "\n",
    "counter = 0\n",
    "for top_clust in top_clusters:\n",
    "  counter+=1\n",
    "  print('Top Cluster '+str(counter))\n",
    "  print('Number of Seqs in Cluster: '+str(len(all_clusters[top_clust])))\n",
    "  make_heatmap(all_clusters[top_clust])"
   ]
  },
  {
   "cell_type": "code",
   "execution_count": 23,
   "id": "a943d2ca",
   "metadata": {},
   "outputs": [],
   "source": [
    "#@title FUNCTION TO MAKE HEATMAP FOR TOP/BOTTOM SEQUENCES, WITH/WITHOUT REPEATS [FILTERED BY QUALITY]\n",
    "def heatmap_top_bottom_N(N, order, weighted):\n",
    "  if weighted == False:\n",
    "    top= []\n",
    "    seq = 0\n",
    "    if order == 'top':\n",
    "\n",
    "      while len(top)<N:\n",
    "        if sorted_seq_dict[seq][0][(start-1):(stop-1)] in high_quality:\n",
    "          if sorted_seq_dict[seq][0][(start-1):(stop-1)] not in top:\n",
    "            top.append(sorted_seq_dict[seq][0][(start-1):(stop-1)])\n",
    "        seq+=1\n",
    "      print('Heatmap made with '+str(len(top))+' seqs')\n",
    "      return make_heatmap(top)\n",
    "\n",
    "    else:\n",
    "      if order == 'bottom':\n",
    "\n",
    "        while len(top)<N:\n",
    "          if sorted_seq_dict_inve[seq][0][(start-1):(stop-1)] in high_quality:\n",
    "            if sorted_seq_dict_inve[seq][0][(start-1):(stop-1)] not in top:\n",
    "              top.append(sorted_seq_dict_inve[seq][0][(start-1):(stop-1)])\n",
    "          seq+=1\n",
    "        print('Heatmap made with '+str(len(top))+' seqs')\n",
    "        return make_heatmap(top)\n",
    "\n",
    "      else:\n",
    "        print('please enter either (top) or (bottom) for order')\n",
    "  \n",
    "  if weighted == True:\n",
    "    top= []\n",
    "    seq = 0\n",
    "    if order == 'top':\n",
    "\n",
    "      while len(top)<N:\n",
    "        if sorted_seq_dict[seq][0][(start-1):(stop-1)] in high_quality:\n",
    "          if sorted_seq_dict[seq][0][(start-1):(stop-1)] not in top:\n",
    "            top.append(sorted_seq_dict[seq][0][(start-1):(stop-1)])\n",
    "        seq+=1\n",
    "      \n",
    "      replicates = []\n",
    "      for top_seq in top:\n",
    "        for seq in sorted_seq_dict:\n",
    "          if top_seq in seq[0]:\n",
    "            replicates.append(seq[1])\n",
    "            break\n",
    "\n",
    "      weighted_seqs = []\n",
    "      for i in range(len(top)):\n",
    "        weighted_seqs+=[top[i]]*replicates[i]\n",
    "\n",
    "      print('Heatmap made with '+str(len(weighted_seqs))+' seqs')\n",
    "      return make_heatmap(weighted_seqs)\n",
    "\n",
    "    else:\n",
    "      if order == 'bottom':\n",
    "\n",
    "        while len(top)<N:\n",
    "          if sorted_seq_dict_inve[seq][0][(start-1):(stop-1)] in high_quality:\n",
    "            if sorted_seq_dict_inve[seq][0][(start-1):(stop-1)] not in top:\n",
    "              top.append(sorted_seq_dict_inve[seq][0][(start-1):(stop-1)])\n",
    "          seq+=1\n",
    "        \n",
    "        replicates = []\n",
    "        for top_seq in top:\n",
    "          for seq in sorted_seq_dict_inve:\n",
    "            if top_seq in seq[0]:\n",
    "              replicates.append(seq[1])\n",
    "              break\n",
    "\n",
    "        weighted_seqs = []\n",
    "        for i in range(len(top)):\n",
    "          weighted_seqs+=[top[i]]*replicates[i]\n",
    "\n",
    "        print('Heatmap made with '+str(len(weighted_seqs))+' seqs')\n",
    "        return make_heatmap(weighted_seqs)\n",
    "\n",
    "      else:\n",
    "        print('please enter either (top) or (bottom) for order')\n",
    "  "
   ]
  },
  {
   "cell_type": "code",
   "execution_count": 13,
   "id": "53153cd2",
   "metadata": {},
   "outputs": [
    {
     "name": "stdout",
     "output_type": "stream",
     "text": [
      "Heatmap made with 50 seqs\n"
     ]
    },
    {
     "data": {
      "image/png": "[encoded data removed]",
      "text/plain": [
       "<Figure size 2160x432 with 2 Axes>"
      ]
     },
     "metadata": {},
     "output_type": "display_data"
    },
    {
     "data": {
      "text/plain": [
       "[[0.3, 0.14, 0.2, 0.36],\n",
       " [0.28, 0.14, 0.32, 0.26],\n",
       " [0.2, 0.2, 0.28, 0.32],\n",
       " [0.16, 0.22, 0.14, 0.48],\n",
       " [0.24, 0.14, 0.28, 0.34],\n",
       " [0.46, 0.22, 0.18, 0.14],\n",
       " [0.4, 0.18, 0.18, 0.24],\n",
       " [0.22, 0.32, 0.2, 0.26],\n",
       " [0.2, 0.26, 0.16, 0.38],\n",
       " [0.2, 0.28, 0.14, 0.38]]"
      ]
     },
     "execution_count": 13,
     "metadata": {},
     "output_type": "execute_result"
    }
   ],
   "source": [
    "#@title HEATMAP FOR TOP 50 SEQUENCES, WITHOUT REPEATS [FILTERED BY QUALITY]\n",
    "heatmap_top_bottom_N(N = 50, order = 'top', weighted = False)"
   ]
  },
  {
   "cell_type": "code",
   "execution_count": 25,
   "id": "0c0e27d1",
   "metadata": {},
   "outputs": [
    {
     "name": "stdout",
     "output_type": "stream",
     "text": [
      "Heatmap made with 10 seqs\n"
     ]
    },
    {
     "data": {
      "image/png": "[encoded data removed]",
      "text/plain": [
       "<Figure size 2160x432 with 2 Axes>"
      ]
     },
     "metadata": {},
     "output_type": "display_data"
    },
    {
     "data": {
      "text/plain": [
       "[[0.5, 0.2, 0.1, 0.2],\n",
       " [0.3, 0.1, 0.6, 0.0],\n",
       " [0.4, 0.1, 0.1, 0.4],\n",
       " [0.3, 0.2, 0.1, 0.4],\n",
       " [0.3, 0.2, 0.2, 0.3],\n",
       " [0.4, 0.4, 0.1, 0.1],\n",
       " [0.5, 0.2, 0.1, 0.2],\n",
       " [0.3, 0.3, 0.2, 0.2],\n",
       " [0.2, 0.3, 0.0, 0.5],\n",
       " [0.4, 0.2, 0.1, 0.3]]"
      ]
     },
     "execution_count": 25,
     "metadata": {},
     "output_type": "execute_result"
    }
   ],
   "source": [
    "#@title HEATMAP FOR TOP 10 SEQUENCES, WITHOUT REPEATS [FILTERED BY QUALITY]\n",
    "heatmap_top_bottom_N(N = 10, order = 'top', weighted = False)"
   ]
  },
  {
   "cell_type": "code",
   "execution_count": 26,
   "id": "e120560b",
   "metadata": {},
   "outputs": [
    {
     "name": "stdout",
     "output_type": "stream",
     "text": [
      "Heatmap made with 10 seqs\n"
     ]
    },
    {
     "data": {
      "image/png": "[encoded data removed]",
      "text/plain": [
       "<Figure size 2160x432 with 2 Axes>"
      ]
     },
     "metadata": {},
     "output_type": "display_data"
    },
    {
     "data": {
      "text/plain": [
       "[[0.4, 0.2, 0.1, 0.3],\n",
       " [0.3, 0.1, 0.5, 0.1],\n",
       " [0.3, 0.2, 0.1, 0.4],\n",
       " [0.2, 0.2, 0.1, 0.5],\n",
       " [0.3, 0.2, 0.2, 0.3],\n",
       " [0.4, 0.3, 0.2, 0.1],\n",
       " [0.5, 0.2, 0.1, 0.2],\n",
       " [0.3, 0.3, 0.2, 0.2],\n",
       " [0.2, 0.3, 0.1, 0.4],\n",
       " [0.4, 0.2, 0.1, 0.3]]"
      ]
     },
     "execution_count": 26,
     "metadata": {},
     "output_type": "execute_result"
    }
   ],
   "source": [
    "#@title HEATMAP FOR BOTTOM 10 SEQUENCES, WITHOUT REPEATS [FILTERED BY QUALITY]\n",
    "heatmap_top_bottom_N(N = 10, order = 'bottom', weighted = False)"
   ]
  },
  {
   "cell_type": "code",
   "execution_count": null,
   "id": "6bc0a475",
   "metadata": {},
   "outputs": [],
   "source": []
  }
 ],
 "metadata": {
  "kernelspec": {
   "display_name": "Python 3",
   "language": "python",
   "name": "python3"
  },
  "language_info": {
   "codemirror_mode": {
    "name": "ipython",
    "version": 3
   },
   "file_extension": ".py",
   "mimetype": "text/x-python",
   "name": "python",
   "nbconvert_exporter": "python",
   "pygments_lexer": "ipython3",
   "version": "3.8.8"
  }
 },
 "nbformat": 4,
 "nbformat_minor": 5
}
