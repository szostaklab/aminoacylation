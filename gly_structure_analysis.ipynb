{
  "nbformat": 4,
  "nbformat_minor": 0,
  "metadata": {
    "colab": {
      "name": "gly_structure_analysis.ipynb",
      "provenance": [],
      "collapsed_sections": [],
      "authorship_tag": "ABX9TyNYquusls++X53UBouwWprL",
      "include_colab_link": true
    },
    "kernelspec": {
      "name": "python3",
      "display_name": "Python 3"
    },
    "language_info": {
      "name": "python"
    }
  },
  "cells": [
    {
      "cell_type": "markdown",
      "metadata": {
        "id": "view-in-github",
        "colab_type": "text"
      },
      "source": [
        "<a href=\"https://colab.research.google.com/github/szostaklab/aminoacylation/blob/main/gly_structure_analysis.ipynb\" target=\"_parent\"><img src=\"https://colab.research.google.com/assets/colab-badge.svg\" alt=\"Open In Colab\"/></a>"
      ]
    },
    {
      "cell_type": "code",
      "execution_count": null,
      "metadata": {
        "colab": {
          "base_uri": "https://localhost:8080/"
        },
        "id": "cgu6GfD4-5oF",
        "outputId": "840a751e-858a-4d48-967a-8b60c99c6fa2"
      },
      "outputs": [
        {
          "output_type": "stream",
          "name": "stdout",
          "text": [
            "Collecting mechanize\n",
            "  Downloading mechanize-0.4.7-py2.py3-none-any.whl (109 kB)\n",
            "\u001b[?25l\r\u001b[K     |███                             | 10 kB 23.9 MB/s eta 0:00:01\r\u001b[K     |██████                          | 20 kB 30.6 MB/s eta 0:00:01\r\u001b[K     |█████████                       | 30 kB 36.0 MB/s eta 0:00:01\r\u001b[K     |████████████                    | 40 kB 38.6 MB/s eta 0:00:01\r\u001b[K     |███████████████                 | 51 kB 32.0 MB/s eta 0:00:01\r\u001b[K     |██████████████████              | 61 kB 34.3 MB/s eta 0:00:01\r\u001b[K     |█████████████████████           | 71 kB 19.6 MB/s eta 0:00:01\r\u001b[K     |████████████████████████        | 81 kB 20.8 MB/s eta 0:00:01\r\u001b[K     |███████████████████████████     | 92 kB 22.2 MB/s eta 0:00:01\r\u001b[K     |██████████████████████████████  | 102 kB 23.5 MB/s eta 0:00:01\r\u001b[K     |████████████████████████████████| 109 kB 23.5 MB/s \n",
            "\u001b[?25hRequirement already satisfied: html5lib>=0.999999999 in /usr/local/lib/python3.7/dist-packages (from mechanize) (1.0.1)\n",
            "Requirement already satisfied: six>=1.9 in /usr/local/lib/python3.7/dist-packages (from html5lib>=0.999999999->mechanize) (1.15.0)\n",
            "Requirement already satisfied: webencodings in /usr/local/lib/python3.7/dist-packages (from html5lib>=0.999999999->mechanize) (0.5.1)\n",
            "Installing collected packages: mechanize\n",
            "Successfully installed mechanize-0.4.7\n",
            "Collecting Bio\n",
            "  Downloading bio-1.3.3-py3-none-any.whl (271 kB)\n",
            "\u001b[K     |████████████████████████████████| 271 kB 25.8 MB/s \n",
            "\u001b[?25hCollecting biopython>=1.79\n",
            "  Downloading biopython-1.79-cp37-cp37m-manylinux_2_5_x86_64.manylinux1_x86_64.whl (2.3 MB)\n",
            "\u001b[K     |████████████████████████████████| 2.3 MB 59.9 MB/s \n",
            "\u001b[?25hCollecting mygene\n",
            "  Downloading mygene-3.2.2-py2.py3-none-any.whl (5.4 kB)\n",
            "Requirement already satisfied: tqdm in /usr/local/lib/python3.7/dist-packages (from Bio) (4.62.3)\n",
            "Requirement already satisfied: requests in /usr/local/lib/python3.7/dist-packages (from Bio) (2.23.0)\n",
            "Requirement already satisfied: numpy in /usr/local/lib/python3.7/dist-packages (from biopython>=1.79->Bio) (1.19.5)\n",
            "Collecting biothings-client>=0.2.6\n",
            "  Downloading biothings_client-0.2.6-py2.py3-none-any.whl (37 kB)\n",
            "Requirement already satisfied: certifi>=2017.4.17 in /usr/local/lib/python3.7/dist-packages (from requests->Bio) (2021.10.8)\n",
            "Requirement already satisfied: urllib3!=1.25.0,!=1.25.1,<1.26,>=1.21.1 in /usr/local/lib/python3.7/dist-packages (from requests->Bio) (1.24.3)\n",
            "Requirement already satisfied: chardet<4,>=3.0.2 in /usr/local/lib/python3.7/dist-packages (from requests->Bio) (3.0.4)\n",
            "Requirement already satisfied: idna<3,>=2.5 in /usr/local/lib/python3.7/dist-packages (from requests->Bio) (2.10)\n",
            "Installing collected packages: biothings-client, mygene, biopython, Bio\n",
            "Successfully installed Bio-1.3.3 biopython-1.79 biothings-client-0.2.6 mygene-3.2.2\n"
          ]
        }
      ],
      "source": [
        "#@title IMPORTS\n",
        "#Install+Import Packages\n",
        "!pip install mechanize\n",
        "import random\n",
        "import re\n",
        "import mechanize\n",
        "import numpy as np\n",
        "from random import *\n",
        "import matplotlib.pyplot as plt\n",
        "!pip install Bio\n",
        "from Bio import SeqIO\n",
        "from Bio.Seq import Seq\n",
        "from collections import Counter \n",
        "from Bio.Cluster import kcluster\n",
        "import statistics\n",
        "import matplotlib.pyplot as plt\n",
        "from sklearn.cluster import KMeans\n",
        "from sklearn.metrics import silhouette_score\n",
        "from sklearn.preprocessing import StandardScaler\n",
        "import difflib\n",
        "import seaborn as sns; sns.set_theme()\n",
        "from collections import defaultdict\n",
        "import collections\n",
        "from mpl_toolkits.mplot3d import Axes3D\n",
        "from pylab import *\n",
        "from collections import OrderedDict\n",
        "import matplotlib.pyplot as plt\n",
        "#!pip install ipython-autotime"
      ]
    },
    {
      "cell_type": "code",
      "source": [
        "#@title Upload Data and Define Parameters\n",
        "aa_sequences = open('CP1-1-gly_S3_L001_R1_001.fastq').readlines()\n",
        "rna_only_sequences = open('CP1-1-gly-NaOH_S4_L001_R1_001.fastq').readlines()\n",
        "\n",
        "#Take the reverse complement? Enter 'yes' or 'no'\n",
        "rc = 'no'\n",
        "\n",
        "#Quality Cutoff - what fraction of positions should have <1% error probability?\n",
        "quality_cutoff = 0.9\n",
        "\n",
        "#Position motif1 starts at\n",
        "motif_start = 1\n",
        "#Motif1 define\n",
        "motif = 'AAA'\n",
        "\n",
        "#Position motif2 starts at\n",
        "motif2_start = 23\n",
        "#Motif2 define\n",
        "motif2 = 'AAA'"
      ],
      "metadata": {
        "id": "om-uTJs6_shJ"
      },
      "execution_count": null,
      "outputs": []
    },
    {
      "cell_type": "code",
      "source": [
        "#@title STATISTICS (note: this takes a few mins per round)\n",
        "#Remove sequences which are present in the RNA only list and keep only correct constant region \n",
        "print('Number of seqs in AA: '+str(len(aa_sequences)/4)) \n",
        "\n",
        "aa_minus_rna_seqs = []\n",
        "for seq in range(len(aa_sequences)):\n",
        "  if (seq-1)%4==0:\n",
        "      if aa_sequences[seq][motif_start-1:(motif_start-1)+len(motif)] == motif and aa_sequences[seq][motif2_start-1:(motif2_start-1)+len(motif2)] == motif2:\n",
        "        aa_minus_rna_seqs+=(aa_sequences[seq-1:seq+3])\n",
        "quality = aa_minus_rna_seqs[3::4]\n",
        "seqs = aa_minus_rna_seqs[1::4]\n",
        "print('Number of seqs with correct constant region in AA but not RNA: '+str(len(seqs))) \n",
        "\n",
        "#Remove duplicates:\n",
        "unique_seqs = []\n",
        "unique_qualities = []\n",
        "indicies_of_unique_seqs = list(np.unique(seqs, return_index=True)[1])\n",
        "for index in sorted(np.unique(seqs, return_index = True)[1])[:-1]:\n",
        "  unique_qualities.append(quality[index])\n",
        "  unique_seqs.append(seqs[index])\n",
        "print('Number of unique seqs: '+str(len(unique_seqs))) \n",
        "\n",
        "#Counts of all seqs\n",
        "seq_dict = Counter(seqs)\n",
        "seq_dict_list = [(k, v) for k, v in seq_dict.items()]\n",
        "sorted_seq_dict = sorted(seq_dict_list, key = lambda x: x[1], reverse=True)\n",
        "sorted_seq_dict_inve = sorted(seq_dict_list, key = lambda x: x[1])\n",
        "\n",
        "#Take RC if desired\n",
        "pre_trim = []\n",
        "if rc == 'yes':\n",
        "  rc_seqs = []\n",
        "  for sequence in unique_seqs:\n",
        "      rc_seqs.append(str(Seq(sequence).reverse_complement()).strip('\\n'))\n",
        "  pre_trim = rc_seqs\n",
        "else:\n",
        "  for sequence in unique_seqs:\n",
        "      pre_trim.append(str(Seq(sequence)).strip('\\n'))\n",
        "if rc == 'yes':\n",
        "  print('Number of seqs after rc: '+str(len(pre_trim))) \n",
        "\n",
        "#Trim\n",
        "trimmed = []\n",
        "for seq in pre_trim:\n",
        "  trimmed.append(seq[(motif_start-1):(motif2_start-1)])\n",
        "\n",
        "print('Number of seqs after trimming: '+str(len(trimmed))) \n",
        "\n",
        "#Filter by quality\n",
        "high_quality = []\n",
        "acceptable_quals_1_percent_error = [5,6,7,8,9,':',';', '<', '=', '>', '?', '@', 'A', 'B', 'C', 'D', 'E', 'F', 'G', 'H', 'I', 'J', 'K']\n",
        "for seq in range(len(unique_qualities)):\n",
        "  overlap=0\n",
        "  for char in list(set(unique_qualities[seq]).intersection(acceptable_quals_1_percent_error)):\n",
        "        overlap+=unique_qualities[seq].count(char)\n",
        "  if overlap/len(unique_qualities[1])>quality_cutoff:\n",
        "        high_quality.append(trimmed[seq].strip(\"\\n\"))\n",
        "print('Number of high quality seqs: '+str(len(high_quality))) "
      ],
      "metadata": {
        "colab": {
          "base_uri": "https://localhost:8080/"
        },
        "id": "6m30rH4w_9Or",
        "outputId": "0522af14-050b-4bd7-c4eb-f904b7690662"
      },
      "execution_count": null,
      "outputs": [
        {
          "output_type": "stream",
          "name": "stdout",
          "text": [
            "Number of seqs in AA: 2818273.0\n",
            "Number of seqs with correct constant region in AA but not RNA: 2303090\n",
            "Number of unique seqs: 1835130\n",
            "Number of seqs after trimming: 1835130\n",
            "Number of high quality seqs: 1774254\n"
          ]
        }
      ]
    },
    {
      "cell_type": "code",
      "source": [
        "#@title TOP SEQUENCES (ensure high quality)\n",
        "#Top Sequences \n",
        "print('Most Abundant Sequences, Counts')\n",
        "top_seqs = []\n",
        "\n",
        "for seq in sorted_seq_dict[:200]:\n",
        "  for high_qual in high_quality:\n",
        "    if high_qual in seq[0]:\n",
        "      top_seqs.append(high_qual[motif_start+2:motif2_start-1])\n",
        "      break\n",
        "\n",
        "for top in top_seqs:\n",
        "  counts=0\n",
        "  for seq in seqs:\n",
        "    if top in seq:\n",
        "      counts+=1\n",
        "  print(top, counts)"
      ],
      "metadata": {
        "colab": {
          "base_uri": "https://localhost:8080/"
        },
        "id": "kOJGUuXSAjym",
        "outputId": "22d1855b-7882-44f6-b896-301404710fdb"
      },
      "execution_count": null,
      "outputs": [
        {
          "output_type": "stream",
          "name": "stdout",
          "text": [
            "Most Abundant Sequences, Counts\n",
            "ATAGTTGTTATAGATATTC 90\n",
            "GCCTGATTGTAGATTGGGC 90\n",
            "GAATGGAACAACTCACTAA 70\n",
            "GCCAGTTTGTAGAATTGGC 62\n",
            "GCCGGTATGTAGTATTGGC 60\n",
            "GCCAGTCGTGGGGATTGGC 58\n",
            "GCCTGTTTGTAGAATGGGC 63\n",
            "GCCGTCTTGTAGAGAGGGC 65\n",
            "GCCGAGTTGTAGATGAGGC 55\n",
            "GCCGTATTGTAGATATGGC 58\n",
            "GCCGGTCGTGGCGATTGGC 59\n",
            "GCCGGAGCGTAAGTGAGGC 62\n",
            "GCCGTTTTGTAGAAATGGC 56\n",
            "CGTGACGATGAGGGACATA 52\n",
            "GCCGGATTGAGGGTTCGGC 52\n",
            "GCCGGAGGGGAACTCTGGC 52\n",
            "GCAATATCAGCACCAACAG 74\n",
            "GCCGGATTGGGGGTTCGGC 49\n",
            "GCCAGTTTGAGGGATTGGC 47\n",
            "TCATCTTCGGTTAAATCCA 82\n",
            "GCCGTTCGTGGCGGATGGC 44\n",
            "GCCGGAGCGAGAGTGAGGC 44\n",
            "GCCGGATTGGAGATTCGGC 46\n",
            "GCCGGAGGGGATCTCTGGC 48\n",
            "GCCGGAGCGTAAGCGAGGC 47\n",
            "GCCAGTTGTTGGGATTGGC 41\n",
            "GCCGTCTGGGGCAGAGGGC 43\n",
            "GCCGTCGTGTAGGGATGGC 40\n",
            "GCCGGTTCGTAGAATGGGC 42\n",
            "GCCAGTCGTGGGACTGGGC 45\n",
            "AAGTTTGAATTATGGCGAG 39\n",
            "GCCGGAGCGGAAGCGAGGC 40\n",
            "GCCGTCAGGGTCTGATGGC 47\n",
            "GCCTGATCTGGGGTTGGGC 40\n",
            "GCCGTATTGTAGGTATGGC 40\n",
            "GCCGGAACGTAAGTGAGGC 43\n",
            "GCCGGTTCGTAGAGCGGGC 43\n",
            "GCCTATTGTTGGAGTAGGC 40\n",
            "GCCTGTCGTGGGGATGGGC 43\n",
            "GCCGGTCGTGGGACTGGGC 40\n",
            "GCCTGTTTGTAGAATAGGC 39\n",
            "GCCGGTCGTGGGATCGGGC 40\n",
            "GCCGAGTTGTAGACGAGGC 41\n",
            "GCCTGATCTGGGATTGGGC 40\n",
            "GCCGTCGTGTAGTGATGGC 43\n",
            "GCCTGGTTGTAGATTGGGC 38\n",
            "TCATCTTCGGTTAAATCCA 82\n",
            "GCCGGTTCGTAGAATTGGC 41\n",
            "GCCGATTTGTAGAATTGGC 38\n",
            "GCCGTATGGGGCATATGGC 42\n",
            "GCCTGGTCTGGGATTGGGC 36\n",
            "GCCGGAAGTGAATTCTGGC 39\n",
            "GCCTGTCGTTGGGATGGGC 37\n",
            "GCCGAGTTGTAGACTGGGC 37\n",
            "GCCGTTTGGGGCAAATGGC 39\n",
            "GCCGGATTGCGGGTTCGGC 37\n",
            "GCCGGAGCGTGAGTGAGGC 38\n",
            "GCCGGATTGGGGATTCGGC 34\n",
            "GCCGTACTGGGGGTATGGC 37\n",
            "GCCGTCGTGGAGGGATGGC 39\n",
            "GCCTGATTTCGGATTGGGC 35\n",
            "GCCGGTTGCTAGGTGAGGC 36\n",
            "GCCGTTGTTGGGGGACGGC 36\n",
            "GCCGGATCGTAGAGAAGGC 37\n",
            "GCCTGATTGGAGATTGGGC 34\n",
            "GCCTGTCGGGGGGATGGGC 36\n",
            "GCCGTATTTTAGGTATGGC 35\n",
            "GCCTGATGTTGGGTTGGGC 34\n",
            "GCCGTCGTGGAGGGGCGGC 42\n",
            "GCCGGATGAGGGATTCGGC 37\n",
            "GCCGGTATGTAGTACGGGC 35\n",
            "GCCATGTGTGGCATGTGGC 35\n",
            "GCCGCATTGTAGATGGGGC 39\n",
            "GCCGTATTTAGGGTATGGC 35\n",
            "GCCGTCTGTGGTAGATGGC 32\n",
            "GCCGGTTGCTGGGTTAGGC 35\n",
            "GCCGTTGTGGAGGGGCGGC 34\n",
            "GCCGTCATGGAGTGATGGC 34\n",
            "GCCGGATGTGGGGTTCGGC 34\n",
            "GCCGGTACGGGGTATTGGC 33\n",
            "GCCGTTTCTGGGGAATGGC 33\n",
            "GCCGCTTGGGTCAAGGGGC 31\n",
            "GCCGGTTCTGGGAATTGGC 34\n",
            "GCCAGTTGTTGGAATTGGC 36\n",
            "GCCGGATGTGGGATTCGGC 33\n",
            "GCCTTTTGTGGCAAAGGGC 32\n",
            "GCCGTTCGTAGGGGATGGC 34\n",
            "GCCGTTCGTGAGGGATGGC 35\n",
            "GCCGGTCGTGGGGATTGGC 31\n",
            "GCCGTATGGGTCATATGGC 36\n",
            "GCCTGATCGGGGATTGGGC 33\n",
            "GCCTGTCGGGGGGATAGGC 34\n",
            "GCCGGATGGGGCATCGGGC 35\n",
            "GCCGGTTCGTAGGATTGGC 32\n",
            "GCCGTCTGTGGGGGATGGC 31\n",
            "TTTATGCGCGCTTCGATAA 30\n",
            "GCCAGTTTGTGGGATTGGC 34\n",
            "GCCCGGGGGCGTGTGCGGC 31\n",
            "GCCGTCTGTTGGGGATGGC 31\n",
            "GCCGTCTTTGGGGGATGGC 32\n",
            "GCCGGTAGTGGGTACTGGC 32\n",
            "GCCGGAGGAGTCTGAAGGC 33\n",
            "GCCGGATTGGAGGTTCGGC 31\n",
            "GCCGTTGGTGGGGGACGGC 31\n",
            "GCCTGATTTGGGATTGGGC 35\n",
            "GCCGTCGTGGTACGATGGC 33\n",
            "GCCTGATGTGGCATTGGGC 34\n",
            "GCCTGATTGAGGGTTGGGC 32\n",
            "GCCGGATGGGGGATTCGGC 36\n",
            "GCCGGATTGGGTATTCGGC 32\n",
            "GCCGGATTGGAGATCTGGC 33\n",
            "GCCGGTTGTGGGAACTGGC 35\n",
            "GCCTGTCGTAGGGATGGGC 32\n",
            "GCCGTTAGGGGCTAATGGC 31\n",
            "GCCTGATCTTGGGTTGGGC 33\n",
            "GCCTGATGTGGCGTTGGGC 30\n",
            "GCCATTGTGGAGGGGTGGC 30\n",
            "GCCGTTTTGTAGGAATGGC 30\n",
            "GCCGAGTCGTAGATGAGGC 36\n",
            "GCCGGATGGGGAATTCGGC 33\n",
            "GCCTGGTTGGGGACTGGGC 35\n",
            "GCCGGTACGTAGTATGGGC 32\n",
            "GCCAGTCGTGGTGATTGGC 30\n",
            "GCCGTCATTGGGTGATGGC 31\n",
            "GCCGTTCGTGGTGGATGGC 29\n",
            "GCCGGAGGTGGGATTCGGC 32\n",
            "GCCGTCTGTTGTAGATGGC 30\n",
            "GCCGTGTCTGGGACAGGGC 32\n",
            "GCCTATTGTTGGGGTAGGC 28\n",
            "GCCGTATTGAGGGTATGGC 32\n",
            "GCCTGATCGTAGAGAGGGC 28\n",
            "GCCATCGTGGGGTGGTGGC 30\n",
            "GCCAGTCGTAGGGATTGGC 36\n",
            "GCCGGTGCGTGAGCATGGC 31\n",
            "GCCGGAGTGGGGATTCGGC 31\n",
            "GCCGTTCTGGGGGGATGGC 32\n",
            "GCCGTTTTGTAGAGATGGC 29\n",
            "GCCGTTCGTGGCGAATGGC 30\n",
            "GCCTGATTGTAGATTAGGC 30\n",
            "GCCGTACTGTAGGTAGGGC 30\n",
            "GCCGGTCGTGAGGATTGGC 28\n",
            "GCCGGTTTGGAGAACTGGC 29\n",
            "GCCGTCAGTGAGTGATGGC 28\n",
            "GCCGTCGTGGAGGGACGGC 27\n",
            "GCCGGATCGGAGATCGGGC 31\n",
            "GCCGGATGTTGTATCTGGC 28\n",
            "GCCGGTTGGGGCAATTGGC 30\n",
            "GCCGTTCTGGGGGAATGGC 30\n",
            "GCCGTCGTGGGGACGGGGC 29\n",
            "GCCGGGAGATGGGTGCGGC 31\n",
            "GCCGGAGCGGAAGTGAGGC 27\n",
            "GCCGGTTGTGAGGACTGGC 27\n",
            "GCCGGGAGATGTGTGCGGC 28\n",
            "GCCGTCGTGGAGTGGCGGC 28\n",
            "GCCGTCTATGGTAGATGGC 28\n",
            "GCCGGTCTGGAGGATTGGC 30\n",
            "GCCGGATGGGACATCGGGC 30\n",
            "GCCGGATTGGGGATCTGGC 29\n",
            "GCCGTTTCTGGGAGATGGC 31\n",
            "GCCGGTTCGTAGAACGGGC 32\n",
            "GCCGTCAGGGGCTGATGGC 30\n",
            "GCCGATCGTGAGGGTTGGC 27\n",
            "GCCTTTTTGTAGAGAGGGC 27\n",
            "GCCGGATTGCGTATTCGGC 26\n",
            "GCCGGAGGGGGACTCTGGC 26\n",
            "GCCGGAGTGGGATTCTGGC 28\n",
            "GCCGGATGGGGGGTTCGGC 28\n",
            "GCCGGATGTGGAATTCGGC 26\n",
            "GCCGTTTGAGGCAAATGGC 27\n",
            "GCCGTTCTGGAGGAATGGC 32\n",
            "GCCGGAGTAGGGATTCGGC 29\n",
            "GCCGTATTTGAGGTATGGC 28\n",
            "GCCGGTACGTGGTATTGGC 30\n",
            "GCCTTTTTGTAGAAAGGGC 29\n",
            "GCCGGAGTTGGGATTCGGC 28\n",
            "GCCGGTACGGAGTATTGGC 27\n",
            "GCCGGATGGAGGGTTCGGC 26\n",
            "AAATTTAGGGTCGGCATCA 28\n",
            "GCCAGTTTGTAGGATTGGC 29\n",
            "GCCTAGGATGGGAGTAGGC 27\n",
            "GCCGTCTTGGAGAGATGGC 28\n",
            "GCCGTATGTGGCATATGGC 28\n",
            "GCCGTCAGTGGCTGATGGC 27\n",
            "GCCTGGTCTTGGATTGGGC 29\n",
            "GCCTAGTTGTAGATTGGGC 30\n",
            "GCCGTATTGTGGATATGGC 29\n",
            "GCCGTCGTTAGGGGATGGC 27\n",
            "GCCGATTGGGGCAGTTGGC 27\n",
            "GCCGAATTGTAGATTTGGC 29\n",
            "GCCGTTTTAAGGGAATGGC 27\n",
            "GCCGTTCGTTGGGAATGGC 27\n",
            "GCCGTACTGGAGGTATGGC 27\n",
            "GCCGATCGTGGGGGTTGGC 28\n",
            "GCCGGTTGTGAGAACTGGC 29\n",
            "GCCGTCAGGGACTGAGGGC 27\n",
            "GCCGATTGTTAGGATTGGC 27\n",
            "GCCGGCAGGGTCTGTTGGC 26\n",
            "GCCGGTAGGGGCTATTGGC 28\n",
            "GCCGGATGGGAGGTTCGGC 28\n",
            "GCCTGATTTAGGGTTGGGC 27\n"
          ]
        }
      ]
    },
    {
      "cell_type": "code",
      "source": [
        "#@title Function to get secondary structure on RNA Fold\n",
        "\n",
        "def get_energy_ss(seq):\n",
        "  url = \"http://rna.tbi.univie.ac.at//cgi-bin/RNAWebSuite/RNAfold.cgi\"\n",
        "  br = mechanize.Browser()\n",
        "  br.set_handle_robots(False) # ignore robots\n",
        "  br.open(url)\n",
        "  br.select_form(name=\"form\")\n",
        "  br[\"SCREEN\"] = seq\n",
        "  res = br.submit()\n",
        "  content = res.read()\n",
        "\n",
        "  energy = int(re.sub(\"[^0-9]\", \"\", str(content).split('thermodynamic ensemble is')[1].split('kcal/mol')[0]))\n",
        "  structure = str(content).split('STRUCTURE=')[1].split('target')[0].split('\"')[0]\n",
        "  return energy, structure"
      ],
      "metadata": {
        "id": "8v4tjYgf--yl"
      },
      "execution_count": null,
      "outputs": []
    },
    {
      "cell_type": "code",
      "source": [
        "#@title Get the SS of the top sequences\n",
        "ss_of_top_seqs=[]\n",
        "for seq in top_seqs:\n",
        "  if top_seqs.index(seq)%2==0:\n",
        "    print(top_seqs.index(seq))\n",
        "  ss_of_top_seqs.append(get_energy_ss(seq[motif_start+2:motif2_start-1])[1])"
      ],
      "metadata": {
        "colab": {
          "base_uri": "https://localhost:8080/"
        },
        "id": "KOwX4cAC_B4U",
        "outputId": "4a602602-36f1-4937-c940-d2918bb33455"
      },
      "execution_count": null,
      "outputs": [
        {
          "output_type": "stream",
          "name": "stdout",
          "text": [
            "0\n",
            "2\n",
            "4\n",
            "6\n",
            "8\n",
            "10\n",
            "12\n",
            "14\n",
            "16\n",
            "18\n",
            "20\n",
            "22\n",
            "24\n",
            "26\n",
            "28\n"
          ]
        }
      ]
    },
    {
      "cell_type": "code",
      "source": [
        "#@title Cluster by secondary structure\n",
        "k = 3\n",
        "matrix = np.asarray([np.fromstring(str(s), dtype=np.uint8) for s in ss_of_top_seqs]);\n",
        "kmeans = KMeans(init=\"random\", n_clusters=k,n_init=10,max_iter=300,random_state=42)\n",
        "kmeans.fit(matrix)\n",
        "labels = kmeans.labels_[:]\n",
        "\n",
        "all_clusters = []\n",
        "for cluster_num in range(0, k):\n",
        "  seqs_in_cluster = []\n",
        "  for seq in range(len(labels)):\n",
        "    if labels[seq] == cluster_num:\n",
        "      seqs_in_cluster.append(ss_of_top_seqs[seq])\n",
        "  all_clusters.append(seqs_in_cluster)\n",
        "all_clusters"
      ],
      "metadata": {
        "id": "oKdkskiXNmeU",
        "colab": {
          "base_uri": "https://localhost:8080/"
        },
        "outputId": "793b604c-3233-41ff-dd7c-eef779a395e3"
      },
      "execution_count": null,
      "outputs": [
        {
          "output_type": "stream",
          "name": "stderr",
          "text": [
            "/usr/local/lib/python3.7/dist-packages/ipykernel_launcher.py:3: DeprecationWarning: The binary mode of fromstring is deprecated, as it behaves surprisingly on unicode inputs. Use frombuffer instead\n",
            "  This is separate from the ipykernel package so we can avoid doing imports until\n"
          ]
        },
        {
          "output_type": "execute_result",
          "data": {
            "text/plain": [
              "[['................',\n",
              "  '................',\n",
              "  '................',\n",
              "  '................',\n",
              "  '................',\n",
              "  '................',\n",
              "  '................',\n",
              "  '................',\n",
              "  '................',\n",
              "  '................',\n",
              "  '................',\n",
              "  '................',\n",
              "  '................',\n",
              "  '.....((......)).',\n",
              "  '................',\n",
              "  '...((....)).....',\n",
              "  '................'],\n",
              " ['(((((......)))))', '(((((......)))))', '.((((((...))))))'],\n",
              " ['((((.....))))...',\n",
              "  '(((((...)))))...',\n",
              "  '(((((...)))))...',\n",
              "  '((((.....))))...',\n",
              "  '(((((...)))))...',\n",
              "  '(((((...)))))...',\n",
              "  '(((((...)))))...',\n",
              "  '((((.....))))...',\n",
              "  '.((((...))))....',\n",
              "  '((((....))))....']]"
            ]
          },
          "metadata": {},
          "execution_count": 30
        }
      ]
    },
    {
      "cell_type": "code",
      "source": [
        "#@title Create file for R-Scape Covariation\n",
        "\n",
        "f = open(\"gly_rscape.txt\", \"w\")\n",
        "f.write('# STOCKHOLM 1.0\\n')\n",
        "f.write('\\n')\n",
        "counter = 0\n",
        "for seq in top_seqs:\n",
        "  counter+=1\n",
        "  f.write(str(counter)+'\\t'+seq+'\\n')\n",
        "f.write('#=GC SS_cons\t(((((((((,)))))))))\\n')\n",
        "f.write('//')"
      ],
      "metadata": {
        "id": "hxcyN29jRfXx",
        "colab": {
          "base_uri": "https://localhost:8080/"
        },
        "outputId": "6aa5b29b-ceff-4697-ba9b-3bb9490430ec"
      },
      "execution_count": null,
      "outputs": [
        {
          "output_type": "execute_result",
          "data": {
            "text/plain": [
              "2"
            ]
          },
          "metadata": {},
          "execution_count": 44
        }
      ]
    },
    {
      "cell_type": "code",
      "source": [
        ""
      ],
      "metadata": {
        "id": "g5k6msWWmw-M"
      },
      "execution_count": null,
      "outputs": []
    }
  ]
}